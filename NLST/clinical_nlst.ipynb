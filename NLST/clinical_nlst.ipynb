{
 "cells": [
  {
   "cell_type": "code",
   "execution_count": 2,
   "metadata": {},
   "outputs": [],
   "source": [
    "import pandas as pd\n",
    "import os\n",
    "\n",
    "# compare/clinical_spore/data.ipynb"
   ]
  },
  {
   "cell_type": "code",
   "execution_count": 16,
   "metadata": {},
   "outputs": [],
   "source": [
    "def Mayo(age, ciga, cancer, diameter, spicul, upper):\n",
    "    ori_val = -6.827 + 0.0391 * age + 0.7917 * ciga +  1.3388 * cancer + 0.1274 * diameter + 1.0407 * spicul + 0.7838 * upper\n",
    "    prob = np.exp(ori_val) / (1 + np.exp(ori_val))\n",
    "    return round(ori_val, 3), round(prob, 3)"
   ]
  },
  {
   "cell_type": "markdown",
   "metadata": {},
   "source": [
    "data_item = ['Own_ID', 'MCL_ID', 'Date_of_birth','Age', 'Gender', 'Race', 'Education', 'CT_date', 'Lung_RADS', 'Nodule_size', 'Last_known_date', 'Cancer_benign', 'Diagnosis_date', 'Source', 'Height(inch)', 'Weight(kg)',  'Nodule_Location', 'Nodule_Location', 'Nodule_density', 'Nodule_calcification', 'Pathologic_type', \n",
    "            'T_stage', 'N_stage', 'M_stage', 'Cancer_stage', 'Tumor_Grade', 'Live_status', 'Ethnicity',\n",
    "            'Smok_status', 'PackYear', 'Quit_time', 'Person_cancer_history', 'Family_lung_cancer', \"Asthma\", \"COPD\"]\n",
    "            \n",
    "### Cancer non-cancer\n",
    "2058 cancer subjects, 1059 with image, 7488 non-cancer subjects, 4840 with image.\n",
    "\n",
    "### available attributes\n",
    "\n",
    "age, educat, ethnic, gender, height, marital, race, age_quit, cigsmok, pipe, pkyr, smokeage, smokeday, smokelive, smokework, smokeyr, scr_res (lung-RADS), cancer_stage, nodule readers (only availiable for cancer patients), work history, disease history (e.g., copd, asthma), personal cancer history, family lung cancer history, Acholol."
   ]
  },
  {
   "cell_type": "code",
   "execution_count": 56,
   "metadata": {},
   "outputs": [
    {
     "name": "stdout",
     "output_type": "stream",
     "text": [
      "2058 999\n",
      "7488 5275 2213\n"
     ]
    }
   ],
   "source": [
    "\n",
    "# this cell compute the number of image, cancer, nocancer. \n",
    "cancer_list = pd.read_csv('/nfs/masi/NLST/package-nlst-7-2018.09.24/mycsv/cancer_all.csv')['Demographics.pid'].tolist()\n",
    "nocancer_list = pd.read_csv('/nfs/masi/NLST/package-nlst-7-2018.09.24/mycsv/nocancer_all.csv')['Demographics.pid'].tolist()\n",
    "cancer_list = [str(i) for i in cancer_list]\n",
    "nocancer_list = [str(i) for i in nocancer_list]\n",
    "withlabel_list = cancer_list + nocancer_list\n",
    "cancer_imglist = os.listdir('/nfs/masi/NLST/nifti/NIFTI_cancer')\n",
    "nocancer_imglist = os.listdir('/nfs/masi/NLST/nifti/NIFTI_nocancer')\n",
    "print (len(set(cancer_list)),  len(set(cancer_list) - set(cancer_imglist)))\n",
    "print (len(set(nocancer_list)), len(nocancer_imglist),  len(set(nocancer_list) - set(nocancer_imglist)))\n",
    "\n"
   ]
  },
  {
   "cell_type": "code",
   "execution_count": 57,
   "metadata": {},
   "outputs": [],
   "source": [
    "# add the nodule size, (abnormalities)\n",
    "\n",
    "df = pd.read_csv('/nfs/masi/NLST/package-nlst-7-2018.09.24/Spiral CT Abnormalities/sct_abnormalities.data.d100517.csv')\n",
    "sess_nodsize, sess_spic, sess_upper = {}, {}, {}\n",
    "study_yr_dict = {0: '1999', 1: '2000', 2: '2001'}\n",
    "for i, item in df.iterrows():\n",
    "    if item['sct_epi_loc'] == item['sct_epi_loc'] and  item['sct_long_dia'] == item['sct_long_dia'] and item['sct_margins'] == item['sct_margins']:\n",
    "        \n",
    "        sess = str(item['pid']).replace('.0', '') + 'time' + study_yr_dict[item['study_yr']]\n",
    "        if sess in sess_nodsize.keys() and item['sct_long_dia'] <= sess_nodsize[sess]:\n",
    "            continue\n",
    "        else:\n",
    "            sess_nodsize[sess] = item['sct_long_dia']\n",
    "            sess_spic[sess] = int(item['sct_margins'] == 1)\n",
    "            sess_upper[sess] = int(item['sct_long_dia'] in [1, 4])\n",
    "        \n"
   ]
  },
  {
   "cell_type": "code",
   "execution_count": 58,
   "metadata": {},
   "outputs": [
    {
     "name": "stdout",
     "output_type": "stream",
     "text": [
      "1.921322750919309 0.46970901361735234 5.272999558563747 1.0986122886681098\n"
     ]
    },
    {
     "data": {
      "text/plain": [
       "(array([   0., 1000., 2000., 3000., 4000., 5000.]),\n",
       " <a list of 6 Text yticklabel objects>)"
      ]
     },
     "execution_count": 58,
     "metadata": {},
     "output_type": "execute_result"
    },
    {
     "data": {
      "image/png": "[encoded data removed]",
      "text/plain": [
       "<Figure size 432x288 with 1 Axes>"
      ]
     },
     "metadata": {
      "needs_background": "light"
     },
     "output_type": "display_data"
    }
   ],
   "source": [
    "import matplotlib.pyplot as plt\n",
    "\n",
    "factor_list = list(sess_nodsize.values())\n",
    "factor_list = [np.log(i) for i in factor_list]\n",
    "print (np.mean(factor_list), np.std(factor_list), np.max(factor_list), np.min(factor_list))\n",
    "plt.hist(factor_list,  bins=20)  # `density=False` would make counts\n",
    "\n",
    "plt.title('Minimum-Time-Interval of miss-match CT sessions', fontsize =15 )\n",
    "plt.ylabel('CT session count', fontsize =15)\n",
    "plt.xlabel('Time Interval (6 Months)', fontsize =15)\n",
    "\n",
    "plt.xticks(fontsize = 15)\n",
    "plt.yticks(fontsize = 15)"
   ]
  },
  {
   "cell_type": "code",
   "execution_count": 59,
   "metadata": {},
   "outputs": [],
   "source": [
    "# update the csv with nodule_size, spiculation, upperlobe\n",
    "\n",
    "df = pd.read_csv('/nfs/masi/gaor2/data/Cotrain/MissClinic/NLST_vlspformat.csv')\n",
    "nodule_size, spiculation, upperlobe = [], [], []\n",
    "\n",
    "for i, item in df.iterrows():\n",
    "    if item['sess'] in sess_nodsize.keys():\n",
    "        nodule_size.append(sess_nodsize[item['sess']])\n",
    "        spiculation.append(sess_spic[item['sess']])\n",
    "        upperlobe.append(sess_upper[item['sess']])\n",
    "    else:\n",
    "        nodule_size.append('')\n",
    "        spiculation.append('')\n",
    "        upperlobe.append('')\n",
    "        \n",
    "df['nodule_size'] = nodule_size\n",
    "df['spiculation'] = spiculation\n",
    "df['upperlobe'] = upperlobe\n",
    "\n",
    "df.to_csv('/nfs/masi/gaor2/data/Cotrain/MissClinic/NLST_vlspformat.csv', index = False)\n"
   ]
  },
  {
   "cell_type": "code",
   "execution_count": 5,
   "metadata": {},
   "outputs": [],
   "source": [
    "# update the csv with sct_pre_att\n",
    "df = pd.read_csv('/nfs/masi/NLST/package-nlst-7-2018.09.24/Spiral CT Abnormalities/sct_abnormalities.data.d100517.csv')\n",
    "sess_type, sess_nodsize =  {}, {}\n",
    "study_yr_dict = {0: '1999', 1: '2000', 2: '2001'}\n",
    "for i, item in df.iterrows():\n",
    "    if item['sct_pre_att'] == item['sct_pre_att'] :\n",
    "        \n",
    "        sess = str(item['pid']).replace('.0', '') + 'time' + study_yr_dict[item['study_yr']]\n",
    "        if sess in sess_nodsize.keys() and item['sct_long_dia'] <= sess_nodsize[sess]:\n",
    "            continue\n",
    "        else:\n",
    "            sess_nodsize[sess] = item['sct_long_dia']\n",
    "            sess_type[sess] = item['sct_pre_att']\n",
    "            \n",
    "data_root = '/nfs/masi/gaor2/data/Cotrain/clinical_spore/nlst/NLST_withimage.csv'\n",
    "df = pd.read_csv(data_root)\n",
    "nodule_size, Type= [], []\n",
    "\n",
    "for i, item in df.iterrows():\n",
    "    if item['sess'] in sess_nodsize.keys():\n",
    "        nodule_size.append(sess_nodsize[item['sess']])\n",
    "        Type.append(sess_type[item['sess']])\n",
    "        \n",
    "    else:\n",
    "        nodule_size.append('')\n",
    "        Type.append('')\n",
    "\n",
    "        \n",
    "df['Type'] = Type\n",
    "\n",
    "df.to_csv(data_root, index = False)\n",
    "            "
   ]
  },
  {
   "cell_type": "code",
   "execution_count": 8,
   "metadata": {},
   "outputs": [],
   "source": [
    "# update the csv with Lung-RADS\n",
    "\n",
    "df = pd.read_csv('/nfs/masi/NLST/package-nlst-7-2018.09.24/Lung-RADS data/lungrads1.csv')\n",
    "df.keys()\n",
    "sess_lungradspad = {}\n",
    "sess_lungrads = {}\n",
    "for i, item in df.iterrows():\n",
    "    \n",
    "    sess0 = str(item['pid']).replace('.0', '') + 'time1999'\n",
    "    sess1 = str(item['pid']).replace('.0', '') + 'time2000'\n",
    "    sess2 = str(item['pid']).replace('.0', '') + 'time2001'\n",
    "    \n",
    "    sess_lungrads[sess0] = item['slungrad0']\n",
    "    sess_lungrads[sess1] = item['slungrad1']\n",
    "    sess_lungrads[sess2] = item['slungrad2']\n",
    "    \n",
    "df = pd.read_csv('/nfs/masi/gaor2/data/Cotrain/clinical_spore/nlst/NLST_withimage.csv')\n",
    "lungrads = []\n",
    "for i, item in df.iterrows():\n",
    "    lungrads.append(sess_lungrads[item['sess']])\n",
    "df['lungrads'] = lungrads\n",
    "df.to_csv('/nfs/masi/gaor2/data/Cotrain/clinical_spore/nlst/NLST_withimage.csv', index = False)\n",
    "    \n"
   ]
  },
  {
   "cell_type": "code",
   "execution_count": null,
   "metadata": {},
   "outputs": [],
   "source": []
  },
  {
   "cell_type": "code",
   "execution_count": null,
   "metadata": {},
   "outputs": [],
   "source": [
    "# update the csv with recommendation"
   ]
  },
  {
   "cell_type": "code",
   "execution_count": null,
   "metadata": {},
   "outputs": [],
   "source": [
    "# update comparison between the screening reader"
   ]
  },
  {
   "cell_type": "code",
   "execution_count": 54,
   "metadata": {},
   "outputs": [],
   "source": [
    "df = pd.read_csv('/nfs/masi/gaor2/data/Cotrain/clinical_spore/nlst/NLST_withimage_norm.csv')\n",
    "Log_nodsize = []\n",
    " \n",
    "for i, item in df.iterrows():\n",
    "    if item['nodule_size'] == item['nodule_size']:\n",
    "        log_nsize = min(5, max(1, np.log(item['nodule_size']))) \n",
    "        Log_nodsize.append((log_nsize - 1) / 4 + 0.01)\n",
    "    # the same as clinical_spore/mcl_data.ipynb\n",
    "    else:\n",
    "        Log_nodsize.append('')\n",
    "df['Log_nodsize'] = Log_nodsize\n",
    "df.to_csv('/nfs/masi/gaor2/data/Cotrain/clinical_spore/nlst/NLST_withimage_norm.csv', index = False)\n",
    "    "
   ]
  },
  {
   "cell_type": "code",
   "execution_count": 53,
   "metadata": {},
   "outputs": [],
   "source": [
    "import numpy as np\n",
    "def Mayo(age, ciga, cancer, diameter, spicul, upper):\n",
    "    # ciga == 1 means current or former smoker. \n",
    "    ori_val = -6.827 + 0.0391 * age + 0.7917 * ciga +  1.3388 * cancer + 0.1274 * diameter + 1.0407 * spicul + 0.7838 * upper\n",
    "    prob = np.exp(ori_val) / (1 + np.exp(ori_val))\n",
    "    return round(ori_val, 3), round(prob, 3)\n",
    "\n",
    "df = pd.read_csv('/nfs/masi/gaor2/data/Cotrain/clinical_spore/nlst/NLST_withimage.csv')\n",
    "mayo_risk = []  \n",
    "for i, item in df.iterrows():\n",
    "    if item['age_correct'] == item['age_correct'] and item['phist'] == item['phist'] and item['nodule_size'] == item['nodule_size']:\n",
    "        age = item['age_correct']\n",
    "        ciga = 1\n",
    "        cancer = item['phist']\n",
    "        diameter = item['nodule_size_new']\n",
    "        spicul = item['spiculation_new'] \n",
    "        upper  = item['upperlobe_new']\n",
    "        _, mayo = Mayo(age, ciga, cancer, diameter, spicul, upper)\n",
    "    else:\n",
    "        mayo = ''\n",
    "    mayo_risk.append(mayo)\n",
    "    \n",
    "df['mayo_risk_new']  = mayo_risk\n",
    "\n",
    "df.to_csv('/nfs/masi/gaor2/data/Cotrain/clinical_spore/nlst/NLST_withimage.csv', index = False)\n"
   ]
  },
  {
   "cell_type": "code",
   "execution_count": 6,
   "metadata": {},
   "outputs": [],
   "source": [
    "df = pd.read_csv('/nfs/masi/gaor2/data/Cotrain/clinical_spore/nlst/NLST_withimage.csv')\n",
    "sess_mayo = {}\n",
    "for i, item in df.iterrows():\n",
    "    sess_mayo[item['sess']] = item['mayo_risk']\n",
    "    \n",
    "csv_path = '/nfs/masi/gaor2/saved_file/Clinical_spore/0620/all/test4/test4_35.csv'\n",
    "df = pd.read_csv(csv_path)\n",
    "mayo = []\n",
    "for i, item in df.iterrows():\n",
    "    mayo.append(sess_mayo[item['ID_list'].replace('.npy', '')])\n",
    "    \n",
    "df['mayo_risk'] = mayo\n",
    "df.to_csv(csv_path, index = False)"
   ]
  },
  {
   "cell_type": "code",
   "execution_count": 8,
   "metadata": {},
   "outputs": [],
   "source": [
    "# correct gender for NLST_withimage_norm.csv # M: 0, F: 1\n",
    "data_path = '/nfs/masi/gaor2/data/Cotrain/clinical_spore/nlst/NLST_withimage_norm.csv'\n",
    "df = pd.read_csv(data_path)\n",
    "gender = df['gender'].tolist()\n",
    "gender = [i - 1 for i in gender]\n",
    "df['gender'] = gender\n",
    "df.to_csv(data_path, index = False)"
   ]
  },
  {
   "cell_type": "code",
   "execution_count": 17,
   "metadata": {},
   "outputs": [],
   "source": [
    "# add the kaggle risk to nlst_pos1yr.csv\n",
    "\n",
    "df = pd.read_csv('/nfs/masi/gaor2/data/Cotrain/clinical_spore/nlst/NLST_withimage_norm.csv')\n",
    "\n",
    "sess_kaggle = {}\n",
    "for i, item in df.iterrows():\n",
    "    sess_kaggle[item['sess']] = item['kaggle_cancer']\n",
    "    \n",
    "df = pd.read_csv('/nfs/masi/gaor2/data/Cotrain/nlst/nlst_pos1yr.csv')\n",
    "kaggle_risk = []\n",
    "for i, item in df.iterrows():\n",
    "    try:\n",
    "        kaggle_risk.append(sess_kaggle[item['item'].replace('.nii.gz', '')])\n",
    "    except:\n",
    "        kaggle_risk.append('')\n",
    "df['kaggle_risk'] = kaggle_risk\n",
    "df.to_csv('/nfs/masi/gaor2/data/Cotrain/nlst/nlst_pos1yr.csv', index = False)\n",
    "\n"
   ]
  },
  {
   "cell_type": "code",
   "execution_count": 24,
   "metadata": {},
   "outputs": [
    {
     "name": "stdout",
     "output_type": "stream",
     "text": [
      "{202128, 120849, 209874}\n"
     ]
    }
   ],
   "source": [
    "df = pd.read_csv('/nfs/masi/gaor2/data/Cotrain/clinical_spore/nlst/NLST_withimage_norm.csv')\n",
    "#print (list(df.keys()))\n",
    "df = df.loc[df['subfold'] == 'withlabel']\n",
    "subj_withlabel = df['subject'].tolist() \n",
    "df = pd.read_csv('/nfs/masi/gaor2/data/Cotrain/nlst/nlst_pos1yr.csv')\n",
    "pos1yr = df['subject'].tolist()\n",
    "print (set(pos1yr) - set(subj_withlabel))"
   ]
  },
  {
   "cell_type": "code",
   "execution_count": 35,
   "metadata": {},
   "outputs": [
    {
     "name": "stdout",
     "output_type": "stream",
     "text": [
      "set()\n"
     ]
    }
   ],
   "source": [
    "# assure that the phase split is same for nlst_pos1yr.csv and NSLT_withimage.csv\n",
    "df = pd.read_csv('/nfs/masi/gaor2/data/Cotrain/nlst/nlst_pos1yr.csv')\n",
    "subj_phase = df.loc[df['phase'] == 4]['subject'].tolist()\n",
    "df = pd.read_csv('/nfs/masi/gaor2/data/Cotrain/clinical_spore/nlst/NLST_withimage_norm.csv')\n",
    "subj_phase2 = df.loc[df['phase'] != 4]['subject'].tolist()\n",
    "print (set(subj_phase2) & set(subj_phase))"
   ]
  },
  {
   "cell_type": "code",
   "execution_count": 37,
   "metadata": {},
   "outputs": [
    {
     "name": "stdout",
     "output_type": "stream",
     "text": [
      "set()\n",
      "32112 2414\n"
     ]
    }
   ],
   "source": [
    "# temp \n",
    "data_list = os.listdir('/nfs/masi/NLST/DSB_File/diag/prep')\n",
    "data_list2 = os.listdir('/nfs/masi/NLST/DSB_File/diag_second/prep')\n",
    "print (set(data_list) & set(data_list2)) \n",
    "print (len(data_list), len(data_list2))"
   ]
  },
  {
   "cell_type": "code",
   "execution_count": 45,
   "metadata": {},
   "outputs": [],
   "source": [
    "# add nlst trained result to NLST_withimage_norm\n",
    "data_root = '/nfs/masi/gaor2/data/NLST/NLSTtrain_Feat/phase4'\n",
    "nlst_risk = {}\n",
    "df1 = pd.read_csv(data_root + '/noreport1_20200813.csv' )\n",
    "df2 = pd.read_csv(data_root + '/noreport2_20200813.csv' )\n",
    "df3 = pd.read_csv(data_root + '/noreport3_20200813.csv' )\n",
    "df4 = pd.read_csv(data_root + '/noreport4_20200813.csv' )\n",
    "df5 = pd.read_csv(data_root + '/noreport5_20200813.csv' )\n",
    "dfother = pd.read_csv(data_root + '/other_20200813.csv' )\n",
    "dflabel = pd.read_csv(data_root + '/withlabel_20200813.csv' )\n",
    "for df in [df1, df2, df3, df4, df5, dfother, dflabel]:\n",
    "    for i, item in df.iterrows():\n",
    "        nlst_risk[item['id']] = item['cancer']\n",
    "        \n",
    "\n",
    "\n",
    "df = pd.read_csv('/nfs/masi/gaor2/data/Cotrain/clinical_spore/nlst/NLST_withimage_norm.csv')\n",
    "nlsttrain_risk = []\n",
    "for i, item in df.iterrows():\n",
    "    nlsttrain_risk.append(nlst_risk[item['sess']])\n",
    "df['nlsttrain_phase4_risk'] = nlsttrain_risk\n",
    "df.to_csv('/nfs/masi/gaor2/data/Cotrain/clinical_spore/nlst/NLST_withimage_norm.csv', index = False)\n"
   ]
  },
  {
   "cell_type": "code",
   "execution_count": 46,
   "metadata": {},
   "outputs": [
    {
     "data": {
      "text/plain": [
       "Index(['subject', 'sess', 'age', 'education', 'gender', 'bmi', 'race',\n",
       "       'quit_time', 'cigsmok', 'smo_status', 'pkyr', 'smokeage', 'smokeday',\n",
       "       'smokeyr', 'screentime', 'conflc', 'gt_reg', 'diag_dis', 'copd',\n",
       "       'phist', 'fhist', 'phase', 'lastitem', 'duration', 'intensity',\n",
       "       'subfold', 'source', 'noempty', 'plco', 'islong', 'with2yr',\n",
       "       'kaggle_cancer', 'nodule_size', 'spiculation', 'upperlobe',\n",
       "       'Log_nodsize', 'mayo_risk', 'nlsttrain_phase0_risk',\n",
       "       'nlsttrain_phase1_risk', 'nlsttrain_phase2_risk',\n",
       "       'nlsttrain_phase3_risk', 'nlsttrain_phase4_risk'],\n",
       "      dtype='object')"
      ]
     },
     "execution_count": 46,
     "metadata": {},
     "output_type": "execute_result"
    }
   ],
   "source": [
    "# create balanced item for NLST: \n",
    "# create balance subcohort\n",
    "df = pd.read_csv('/nfs/masi/gaor2/data/Cotrain/clinical_spore/nlst/missclinic/NLST_withimage_norm.csv')\n",
    "need_factor = ['age', 'education',  'gender',  'bmi',  'race', 'quit_time',  'cigsmok', 'pkyr', 'copd', 'phist', 'fhist', 'Log_nodsize', 'spiculation', 'upperlobe'] \n",
    "df = df.query('lastitem == 1')\n",
    "for factor in need_factor:\n",
    "    df = df.loc[df[factor] == df[factor]]\n",
    "df_pos = df.query('gt_reg == 1')\n",
    "df_neg = df.query('gt_reg == 0')\n",
    "pos_set = list(set(df_pos['subject']))\n",
    "neg_set = np.array(list(set(df_neg['subject'])))\n",
    "np.random.seed(0)\n",
    "\n",
    "idx = np.array(range(len(neg_set)))\n",
    "random.shuffle(idx)\n",
    "idx_1000 = idx[:1000]\n",
    "neg_set_1000 = list(neg_set[idx_1000])\n",
    "\n",
    "df = pd.read_csv('/nfs/masi/gaor2/data/Cotrain/clinical_spore/nlst/missclinic/NLST_withimage_norm.csv')\n",
    "in_neg_1000 = []\n",
    "for i, item in df.iterrows():\n",
    "    if item['subject'] in pos_set or item['subject'] in neg_set_1000:\n",
    "        in_neg_1000.append(1)\n",
    "    else:\n",
    "        in_neg_1000.append(0)\n",
    "\n",
    "df['in_neg_1000'] = in_neg_1000\n",
    "df.to_csv('/nfs/masi/gaor2/data/Cotrain/clinical_spore/nlst/missclinic/NLST_withimage_norm.csv', index = False)\n",
    "\n"
   ]
  },
  {
   "cell_type": "code",
   "execution_count": null,
   "metadata": {},
   "outputs": [],
   "source": []
  }
 ],
 "metadata": {
  "kernelspec": {
   "display_name": "Python [conda env:python37]",
   "language": "python",
   "name": "conda-env-python37-py"
  },
  "language_info": {
   "codemirror_mode": {
    "name": "ipython",
    "version": 3
   },
   "file_extension": ".py",
   "mimetype": "text/x-python",
   "name": "python",
   "nbconvert_exporter": "python",
   "pygments_lexer": "ipython3",
   "version": "3.7.5"
  }
 },
 "nbformat": 4,
 "nbformat_minor": 2
}
