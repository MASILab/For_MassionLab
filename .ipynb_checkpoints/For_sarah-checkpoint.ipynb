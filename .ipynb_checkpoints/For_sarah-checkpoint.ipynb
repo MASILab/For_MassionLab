{
 "cells": [
  {
   "cell_type": "code",
   "execution_count": 1,
   "metadata": {},
   "outputs": [],
   "source": [
    "import pandas as pd # jupyter notebook "
   ]
  },
  {
   "cell_type": "code",
   "execution_count": 10,
   "metadata": {},
   "outputs": [],
   "source": [
    "option = 1 # or 2\n",
    "\n",
    "df = pd.read_csv('/nfs/masi/MCL/file/Sarah/Raw data.xlsx')\n",
    "new_dict = {}\n",
    "for key in df.keys():\n",
    "    new_dict[key] = {}\n",
    "\n",
    "for i, item in df.iterrows():\n",
    "    for key in df.keys():\n",
    "        if item['Patient ID'] not in new_dict[key]:\n",
    "            new_dict[key][item['Patient ID']] = []\n",
    "        new_dict[key][item['Patient ID']].append(str(item[key]))\n",
    "ID_set = set(df['Patient ID'].tolist())\n",
    "\n",
    "\n",
    "for key in new_dict.keys():\n",
    "    for ID in ID_set:\n",
    "        if option == 1:\n",
    "            new_dict[key][ID] = set(new_dict[key][ID])\n",
    "        if option == 2 and len(set(new_dict[key][ID])) == 1:\n",
    "            new_dict[key][ID] = set(new_dict[key][ID])\n",
    "            \n",
    "new_list_dict = {}\n",
    "for key in df.keys():\n",
    "    new_list_dict[key] = []\n",
    "    \n",
    "for key in df.keys():\n",
    "    for ID in ID_set:\n",
    "        new_list_dict[key].append(new_dict[key][ID])\n",
    "\n",
    "data = pd.DataFrame()\n",
    "for key in df.keys():\n",
    "    data[key] = new_list_dict[key]\n",
    "data.to_excel('/nfs/masi/MCL/file/Sarah/norm_data_all.xlsx', index = False)\n",
    "\n",
    "df = pd.read_excel('/nfs/masi/MCL/file/Sarah/norm_data_all.xlsx')\n",
    "# new_list_dict = {}\n",
    "# new_list_dict = {}\n",
    "# for key in df.keys():\n",
    "#     new_list_dict[key] = []\n",
    "for i, item in df.iterrows():\n",
    "    for key in df.keys():\n",
    "        item[key] = item[key].replace('{', '').replace('}', '').replace('\\'', '')#.replace('nan', '').replace('NaT','')\n",
    "df['Patient ID'] = [int(i) for i in df['Patient ID'].tolist()]\n",
    "df.sort_values(by=['Patient ID'])\n",
    "df.to_excel('/nfs/masi/MCL/file/Sarah/norm_data_all.xlsx', index = False)"
   ]
  },
  {
   "cell_type": "code",
   "execution_count": null,
   "metadata": {},
   "outputs": [],
   "source": [
    "import pandas as pd\n",
    "df = pd.read_excel('/nfs/masi/MCL/file/Sarah/norm_data_all.xlsx')\n",
    "df = df.sort_values(by=['Patient ID'])\n",
    "df.to_csv('/nfs/masi/MCL/file/Sarah/norm_data_all.xlsx', sheet_name = 'Sheet1', index = False) # format\n",
    "        "
   ]
  },
  {
   "cell_type": "code",
   "execution_count": null,
   "metadata": {},
   "outputs": [],
   "source": []
  },
  {
   "cell_type": "code",
   "execution_count": null,
   "metadata": {},
   "outputs": [],
   "source": []
  },
  {
   "cell_type": "code",
   "execution_count": null,
   "metadata": {},
   "outputs": [],
   "source": []
  },
  {
   "cell_type": "code",
   "execution_count": null,
   "metadata": {},
   "outputs": [],
   "source": []
  },
  {
   "cell_type": "code",
   "execution_count": null,
   "metadata": {},
   "outputs": [],
   "source": []
  },
  {
   "cell_type": "code",
   "execution_count": null,
   "metadata": {},
   "outputs": [],
   "source": []
  }
 ],
 "metadata": {
  "kernelspec": {
   "display_name": "Python [conda env:python37]",
   "language": "python",
   "name": "conda-env-python37-py"
  },
  "language_info": {
   "codemirror_mode": {
    "name": "ipython",
    "version": 3
   },
   "file_extension": ".py",
   "mimetype": "text/x-python",
   "name": "python",
   "nbconvert_exporter": "python",
   "pygments_lexer": "ipython3",
   "version": "3.7.5"
  }
 },
 "nbformat": 4,
 "nbformat_minor": 2
}
