{
 "cells": [
  {
   "cell_type": "code",
   "execution_count": 1,
   "metadata": {},
   "outputs": [],
   "source": [
    "import pandas as pd\n",
    "from sklearn import metrics \n",
    "import matplotlib.pyplot as plt \n",
    "import numpy as np "
   ]
  },
  {
   "cell_type": "code",
   "execution_count": 33,
   "metadata": {},
   "outputs": [],
   "source": [
    "df = pd.read_csv('/nfs/masi/gaor2/data/SPORE/NLSTTrained_feat/nlst_test2/spore20200813.csv')\n",
    "\n",
    "id_cancer = {}\n",
    "for i, item in df.iterrows():\n",
    "    id_cancer[item['id']] = item['cancer']\n",
    "\n",
    "df = pd.read_csv('/nfs/masi/gaor2/data/Cotrain/clinical_spore/spore/norm/spore_with2yr.csv')\n",
    "\n",
    "nlsttrain_test0_kaggle = []\n",
    "\n",
    "for i, item in df.iterrows():\n",
    "    if item['id'] == '00000981time20180709':\n",
    "        nlsttrain_test0_kaggle.append('')\n",
    "    else:\n",
    "        nlsttrain_test0_kaggle.append(id_cancer[item['id']]) \n",
    "df['nlsttrain_phase2_risk'] = nlsttrain_test0_kaggle\n",
    "df.to_csv('/nfs/masi/gaor2/data/Cotrain/clinical_spore/spore/norm/spore_with2yr.csv', index = False)\n",
    "\n"
   ]
  },
  {
   "cell_type": "code",
   "execution_count": 32,
   "metadata": {},
   "outputs": [
    {
     "data": {
      "text/plain": [
       "Index(['id', 'gt_reg', 'age_old', 'age', 'edu', 'bmi', 'copd', 'phist',\n",
       "       'fhist', 'smo_status', 'smo_intensity_ori', 'duration_ori', 'quit_time',\n",
       "       'race', 'kaggle_cancer', 'subject', 'with1yr_byscan', 'with2yr_byscan',\n",
       "       'plco', 'with1yr', 'with2yr', 'pkyr', 'education', 'cancer_diag_date',\n",
       "       'diag_dis', 'phase', 'sex', 'uplob', 'spic', 'nodcnt', 'mayo', 'brock',\n",
       "       'nodsize', 'Log_nodsize', 'noempty', 'Mayo_risk_pad2mm',\n",
       "       'Brock_risk_pad2mm', 'Mayo_risk_pad4mm', 'Brock_risk_pad4mm',\n",
       "       'Mayo_risk_pad5mm', 'Brock_risk_pad5mm', 'Mayo_risk_pad5mm_up',\n",
       "       'Brock_risk_pad5mm_up', 'nlsttrain_phase0_risk',\n",
       "       'nlsttrain_phase3_risk', 'nlsttrain_phase1_risk',\n",
       "       'nlsttrain_phase4_risk'],\n",
       "      dtype='object')"
      ]
     },
     "execution_count": 32,
     "metadata": {},
     "output_type": "execute_result"
    }
   ],
   "source": [
    "df = pd.read_csv('/nfs/masi/gaor2/data/Cotrain/clinical_spore/spore/norm/spore_with2yr.csv')\n",
    "df.keys()"
   ]
  },
  {
   "cell_type": "code",
   "execution_count": 27,
   "metadata": {},
   "outputs": [
    {
     "name": "stdout",
     "output_type": "stream",
     "text": [
      "The total test samples is:  20\n",
      "The positive test samples is: 1\n",
      "The AUC value is:  0.4473684210526316\n",
      "The prc is:  0.025\n"
     ]
    }
   ],
   "source": [
    "# just test: \n",
    "from sklearn import metrics \n",
    "pred = [0, 0.1, 0, 0, 0, 0, 0, 0, 0.5, 0, 0,0, 0, 0, 0, 0,0, 0, 0, 0]\n",
    "target = [0, 0, 0, 0, 0, 0, 1, 0, 0, 0, 0,0, 0, 0, 0, 0,0, 1, 1, 0]\n",
    "\n",
    "print (\"The total test samples is: \",len(tar))\n",
    "print ('The positive test samples is:', sum(tar))\n",
    "fpr, tpr, threshold = metrics.roc_curve(tar, pred)\n",
    "roc_auc = metrics.auc(fpr, tpr)\n",
    "\n",
    "#p,r,_ = metrics.precision_recall_curve(tar,pred)\n",
    "tpr,fpr,_ = metrics.precision_recall_curve(tar,pred)\n",
    "prc_auc = metrics.auc(fpr, tpr)\n",
    "\n",
    "#accuracy = metrics.accuracy_score(tar, pred)\n",
    "print ('The AUC value is: ', roc_auc)\n",
    "#print ('The accuracy is: ', accuracy)\n",
    "print ('The prc is: ', prc_auc)"
   ]
  },
  {
   "cell_type": "code",
   "execution_count": null,
   "metadata": {},
   "outputs": [],
   "source": []
  }
 ],
 "metadata": {
  "kernelspec": {
   "display_name": "Python [conda env:python37]",
   "language": "python",
   "name": "conda-env-python37-py"
  },
  "language_info": {
   "codemirror_mode": {
    "name": "ipython",
    "version": 3
   },
   "file_extension": ".py",
   "mimetype": "text/x-python",
   "name": "python",
   "nbconvert_exporter": "python",
   "pygments_lexer": "ipython3",
   "version": "3.7.5"
  }
 },
 "nbformat": 4,
 "nbformat_minor": 2
}
