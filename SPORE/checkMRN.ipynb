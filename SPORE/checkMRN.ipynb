{
 "cells": [
  {
   "cell_type": "code",
   "execution_count": 1,
   "metadata": {},
   "outputs": [],
   "source": [
    "import pandas as pd"
   ]
  },
  {
   "cell_type": "code",
   "execution_count": 3,
   "metadata": {},
   "outputs": [],
   "source": [
    "df = pd.read_excel('/media/veracrypt64/SPORE_MRN.xlsx')\n",
    "SPORE_MRN = {}\n",
    "for i, item in df.iterrows():\n",
    "    SPORE_MRN[item['VLSP_ID']] = item['MRN']"
   ]
  },
  {
   "cell_type": "code",
   "execution_count": 6,
   "metadata": {},
   "outputs": [],
   "source": [
    "df = pd.read_csv('/media/veracrypt64/SPOREID_Date.csv')\n",
    "MRN = []\n",
    "for i, item in df.iterrows():\n",
    "    MRN.append(SPORE_MRN[item['SPORE_id']])\n",
    "df['MRN'] = MRN\n",
    "df.to_csv('/media/veracrypt64/SPOREID_Date.csv', index = False)"
   ]
  },
  {
   "cell_type": "code",
   "execution_count": 8,
   "metadata": {},
   "outputs": [],
   "source": [
    "df = pd.read_csv('/media/veracrypt64/SPORE_nodules_7_20_anon.csv')\n",
    "MRN = []\n",
    "for i, item in df.iterrows():\n",
    "    MRN.append(SPORE_MRN[item['PID']])\n",
    "df['MRN'] = MRN\n",
    "df.to_csv('/media/veracrypt64/SPORE_nodules_7_20_anon.csv', index = False)"
   ]
  },
  {
   "cell_type": "code",
   "execution_count": 11,
   "metadata": {},
   "outputs": [],
   "source": [
    "df = pd.read_csv('/media/veracrypt64/SPORE_nodules_7_20_anon.csv')\n",
    "df = df.sort_values(by=['PID'])\n",
    "df.to_csv('/media/veracrypt64/SPORE_nodules_7_20_anon.csv', index = False)"
   ]
  },
  {
   "cell_type": "code",
   "execution_count": 23,
   "metadata": {},
   "outputs": [
    {
     "name": "stdout",
     "output_type": "stream",
     "text": [
      "SPORE_00000575 31059041 31104102\n",
      "SPORE_00000234 7710544 7723646\n",
      "SPORE_00000963 14944631 14971808\n",
      "SPORE_00000747 12014742 12045779\n",
      "SPORE_00000426 27886993 28074433\n",
      "SPORE_00001116 21790068 21812805\n",
      "SPORE_00000116 11252426 11289683\n",
      "SPORE_00000301 18202515 18205518\n",
      "SPORE_00000023 23209893 23217441\n",
      "SPORE_00000141 34350223 34358648\n",
      "SPORE_00000097 36763977 36776052\n",
      "SPORE_00000676 41380262 41402306\n",
      "SPORE_00000262 18792127 18825752\n",
      "SPORE_00000880 19012715 19037951\n",
      "SPORE_00000791 37516028 37516069\n",
      "SPORE_00001122 11952512 11955622\n",
      "SPORE_00000022 15878358 15909922\n",
      "SPORE_00001125 22985022 23033608\n",
      "SPORE_00000998 13725551 13732839\n",
      "SPORE_00000344 24062291 24070245\n",
      "SPORE_00000668 29307204 29339728\n"
     ]
    }
   ],
   "source": [
    "df = pd.read_excel('/media/veracrypt64/SPORE nodules_7_20.xlsx')\n",
    "PID, MRN_FromSpreadSheet0720, MRN_FromCrossWalk = [], [], []\n",
    "for i, item in df.iterrows():\n",
    "    #print (SPORE_MRN[item['PID']] ,item['MRN'])\n",
    "    try: \n",
    "        assert SPORE_MRN[item['PID']] == item['MRN']\n",
    "    except:\n",
    "        PID.append(item['PID'])\n",
    "        MRN_FromSpreadSheet0720.append(item['MRN'])\n",
    "        MRN_FromCrossWalk.append(SPORE_MRN[item['PID']])\n",
    "        print (item['PID'], SPORE_MRN[item['PID']] ,item['MRN'])\n",
    "data = pd.DataFrame()\n",
    "data['PID'] = PID\n",
    "data['MRN_FromSpreadSheet0720'] = MRN_FromSpreadSheet0720\n",
    "data['MRN_FromCrossWalk']=MRN_FromCrossWalk\n",
    "data.to_csv('/media/veracrypt64/error_match.csv', index = False)"
   ]
  },
  {
   "cell_type": "code",
   "execution_count": 21,
   "metadata": {},
   "outputs": [
    {
     "name": "stdout",
     "output_type": "stream",
     "text": [
      "Index(['SPORE_id', 'Date', 'MRN'], dtype='object')\n"
     ]
    }
   ],
   "source": [
    "df = pd.read_excel('/media/veracrypt64/VLSP_IDandDate_2020Jun26.xlsx')\n",
    "print (df.keys())\n",
    "for i, item in df.iterrows():\n",
    "    #print (SPORE_MRN[item['PID']] ,item['MRN'])\n",
    "    try: \n",
    "        assert SPORE_MRN[item['SPORE_id']] == item['MRN']\n",
    "    except:\n",
    "        print (item['PID'], SPORE_MRN[item['PID']] ,item['MRN'])"
   ]
  },
  {
   "cell_type": "code",
   "execution_count": 28,
   "metadata": {},
   "outputs": [],
   "source": [
    "df1 = pd.read_excel('/media/veracrypt64/VLSP_IDandDate_2020Jun26.xlsx')\n",
    "MRN1 = df1['MRN'].tolist()\n",
    "df2 = pd.read_excel('/media/veracrypt64/SPORE nodules_7_20.xlsx')\n",
    "MRN2 = df2['MRN'].tolist()\n"
   ]
  },
  {
   "cell_type": "code",
   "execution_count": 29,
   "metadata": {},
   "outputs": [
    {
     "name": "stdout",
     "output_type": "stream",
     "text": [
      "147 259 32\n"
     ]
    }
   ],
   "source": [
    "print (len(set(MRN1)), len(set(MRN2)), len(set(MRN1) & set(MRN2)))"
   ]
  },
  {
   "cell_type": "code",
   "execution_count": 31,
   "metadata": {},
   "outputs": [],
   "source": [
    "df2 = pd.read_csv('/media/veracrypt64/SPORE_MRN_requested.csv')\n",
    "DOS = []\n",
    "for i, item in df2.iterrows():\n",
    "    date = str(item['Date'])\n",
    "    assert len(date) == 8\n",
    "    DOS.append(date[:4] + '-' + date[4:6] + '-' + date[6:])\n",
    "df2['DOS'] = DOS\n",
    "df2.to_csv('/media/veracrypt64/SPORE_MRN_requested.csv', index = False)"
   ]
  },
  {
   "cell_type": "code",
   "execution_count": 33,
   "metadata": {},
   "outputs": [
    {
     "name": "stdout",
     "output_type": "stream",
     "text": [
      "221 23\n"
     ]
    }
   ],
   "source": [
    "df = pd.read_csv('/media/veracrypt64/SPORE_MRN_received.csv')\n",
    "exist_pair = []\n",
    "for i, item in df.iterrows():\n",
    "    exist_pair.append((item['MRN'], item['DOS']))\n",
    "    \n",
    "df = pd.read_csv('/media/veracrypt64/SPORE_MRN_requested.csv')\n",
    "existed = []\n",
    "for i, item in df.iterrows():\n",
    "    if (item['MRN'], item['DOS']) in exist_pair:\n",
    "        existed.append(1)\n",
    "    else:\n",
    "        existed.append(0)\n",
    "print (len(existed), sum(existed))\n",
    "df['existed'] = existed\n",
    "df.to_csv('/media/veracrypt64/SPORE_MRN_requested.csv', index = False)"
   ]
  },
  {
   "cell_type": "code",
   "execution_count": 34,
   "metadata": {},
   "outputs": [],
   "source": [
    "df = pd.read_csv('/media/veracrypt64/SPORE_MRN_requested.csv')\n",
    "df = df.query('existed == 0')\n",
    "df.to_csv('/media/veracrypt64/MRN_Date_missed_Aug06.csv', index = False)"
   ]
  },
  {
   "cell_type": "code",
   "execution_count": null,
   "metadata": {},
   "outputs": [],
   "source": []
  }
 ],
 "metadata": {
  "kernelspec": {
   "display_name": "Python [conda env:python37]",
   "language": "python",
   "name": "conda-env-python37-py"
  },
  "language_info": {
   "codemirror_mode": {
    "name": "ipython",
    "version": 3
   },
   "file_extension": ".py",
   "mimetype": "text/x-python",
   "name": "python",
   "nbconvert_exporter": "python",
   "pygments_lexer": "ipython3",
   "version": "3.7.5"
  }
 },
 "nbformat": 4,
 "nbformat_minor": 2
}
