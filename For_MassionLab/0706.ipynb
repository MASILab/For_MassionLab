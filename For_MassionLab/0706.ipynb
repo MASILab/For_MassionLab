{
 "cells": [
  {
   "cell_type": "code",
   "execution_count": 21,
   "metadata": {},
   "outputs": [],
   "source": [
    "import pandas as pd\n",
    "import re\n",
    "from datetime import datetime\n"
   ]
  },
  {
   "cell_type": "code",
   "execution_count": 35,
   "metadata": {},
   "outputs": [],
   "source": [
    "def convert_to_time(string):\n",
    "    str_vec = re.split('[- ]', string)\n",
    "    str_vec = [i for i in str_vec if len(i) > 0]\n",
    "    #print (str_vec)\n",
    "    assert len(str_vec) == 4\n",
    "    return datetime(int(str_vec[0]), int(str_vec[1]), int(str_vec[2]))"
   ]
  },
  {
   "cell_type": "code",
   "execution_count": 68,
   "metadata": {},
   "outputs": [],
   "source": [
    "df = pd.read_excel('/nfs/masi/MCL/file/Sarah/0706/BlueStar_Genomics_raw_data_ori.xlsx', sheet_name = 'Cancer_stage1_2')\n",
    "ID_LastLDKA = {}\n",
    "for i, item in df.iterrows():\n",
    "    if item['PatientID'] not in ID_LastLDKA.keys():\n",
    "        ID_LastLDKA[item['PatientID']] = item['LDKA']\n",
    "    ID_LastLDKA[item['PatientID']] = max(ID_LastLDKA[item['PatientID']], item['LDKA'])\n",
    "        \n",
    "LDKA_ColDate = []\n",
    "ColDate_DiagDate = []\n",
    "\n",
    "for i, item in df.iterrows():\n",
    "    \n",
    "    diff = convert_to_time(str(ID_LastLDKA[item['PatientID']])) - convert_to_time(str(item['CollectDate']))\n",
    "    LDKA_ColDate.append(diff.days)\n",
    "    \n",
    "    if item['DiagnosisDate'] ==  item['DiagnosisDate']:\n",
    "        diff = convert_to_time(str(item['CollectDate'])) - convert_to_time(str(item['DiagnosisDate']))\n",
    "        ColDate_DiagDate.append(diff.days)\n",
    "    else:\n",
    "        ColDate_DiagDate.append('')\n",
    "    \n",
    "df['LDKA_ColDate'] = LDKA_ColDate\n",
    "df['ColDate_DiagDate'] = ColDate_DiagDate\n",
    "df.to_excel('/nfs/masi/MCL/file/Sarah/0706/BlueStar_Genomics_cancer.xlsx', sheet_name = 'Cancer_stage1_2')\n"
   ]
  },
  {
   "cell_type": "code",
   "execution_count": 73,
   "metadata": {},
   "outputs": [
    {
     "name": "stdout",
     "output_type": "stream",
     "text": [
      "{nan, '100 ul', '250 ul', '1.0 ml', 'Other'}\n"
     ]
    }
   ],
   "source": [
    "df = pd.read_excel('/nfs/masi/MCL/file/Sarah/0706/BlueStar_Genomics_cancer.xlsx', sheet_name = 'Cancer_stage1_2')\n",
    "\n",
    "ID_spore = {}\n",
    "ID_num = {}\n",
    "ID_num250 = {}\n",
    "ID_num1000 = {}\n",
    "print (set(df['SampleSize'].tolist()))\n",
    "\n",
    "for i, item in df.iterrows():\n",
    "    ID_spore[item['PatientID']] = item['SporeID']\n",
    "    \n",
    "    if item['PatientID'] not in ID_num.keys():\n",
    "        ID_num[item['PatientID']] = 0\n",
    "    if item['PatientID'] not in ID_num250.keys():\n",
    "        ID_num250[item['PatientID']] = 0\n",
    "    if item['PatientID'] not in ID_num1000.keys():\n",
    "        ID_num1000[item['PatientID']] = 0\n",
    "    \n",
    "    ID_num[item['PatientID']] += 1\n",
    "    if '250' in str(item['SampleSize']):\n",
    "        ID_num250[item['PatientID']] += 1\n",
    "    \n",
    "    if 'ml' in str(item['SampleSize']):\n",
    "        ID_num1000[item['PatientID']] += 1\n",
    "    \n",
    "ID_list = list(ID_spore.keys())\n",
    "sporeID_list, num_list, num250_list, num1000_list = [], [], [], []\n",
    "\n",
    "for Id in ID_list:\n",
    "    #print (Id)\n",
    "    sporeID_list.append(ID_spore[Id])\n",
    "    num_list.append(ID_num[Id])\n",
    "    num250_list.append(ID_num250[Id])\n",
    "    num1000_list.append(ID_num1000[Id])\n",
    "    \n",
    "data = pd.DataFrame()\n",
    "data['PatientID'] = ID_list\n",
    "data['SPOREID'] = sporeID_list\n",
    "data['TotalSampleNum'] = num_list\n",
    "data['SampleNum250ul'] = num250_list\n",
    "data['SampleNum1000ul'] = num1000_list\n",
    "data.to_excel('/nfs/masi/MCL/file/Sarah/0706/BlueStar_Genomics_cancer_Num.xlsx', sheet_name = 'Cancer_stage1_2')\n"
   ]
  },
  {
   "cell_type": "code",
   "execution_count": null,
   "metadata": {},
   "outputs": [],
   "source": []
  }
 ],
 "metadata": {
  "kernelspec": {
   "display_name": "Python [conda env:python37]",
   "language": "python",
   "name": "conda-env-python37-py"
  },
  "language_info": {
   "codemirror_mode": {
    "name": "ipython",
    "version": 3
   },
   "file_extension": ".py",
   "mimetype": "text/x-python",
   "name": "python",
   "nbconvert_exporter": "python",
   "pygments_lexer": "ipython3",
   "version": "3.7.5"
  }
 },
 "nbformat": 4,
 "nbformat_minor": 2
}
