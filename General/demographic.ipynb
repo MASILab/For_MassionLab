{
 "cells": [
  {
   "cell_type": "code",
   "execution_count": 2,
   "metadata": {},
   "outputs": [],
   "source": [
    "import matplotlib.pyplot as plt\n",
    "import pandas as pd\n",
    "import numpy as np"
   ]
  },
  {
   "cell_type": "markdown",
   "metadata": {},
   "source": [
    "# NLST"
   ]
  },
  {
   "cell_type": "code",
   "execution_count": 131,
   "metadata": {},
   "outputs": [
    {
     "name": "stdout",
     "output_type": "stream",
     "text": [
      "14346\n",
      "5262\n"
     ]
    }
   ],
   "source": [
    "df = pd.read_csv('/nfs/masi/gaor2/data/Cotrain/clinical_spore/nlst/NLST_withimage.csv')\n",
    "df = df.query('(diag_dis < 2 and gt_reg == 1) or (diag_dis > 2 and gt_reg == 0)')\n",
    "#df = df.query('gt_reg == 1')\n",
    "df = df.query('plco == plco')\n",
    "df = df.loc[df['subfold'] == 'withlabel']\n",
    "print (len(df))\n",
    "df = df.query('lastitem == 1')\n",
    "print (len(df))\n",
    "# item = df['pkyr'].tolist()\n",
    "# plt.hist(item,  bins=11)  # `density=False` would make counts\n",
    "# #plt.xticks(range(70))\n",
    "# plt.title('NLST packyear Histogram', fontsize =15 )\n",
    "# plt.ylabel('# subjects', fontsize =15)\n",
    "# plt.xlabel('packyear', fontsize =15)\n",
    "\n",
    "# plt.xticks(fontsize = 15)\n",
    "# plt.yticks(fontsize = 15)\n"
   ]
  },
  {
   "cell_type": "code",
   "execution_count": 12,
   "metadata": {},
   "outputs": [
    {
     "name": "stdout",
     "output_type": "stream",
     "text": [
      "18225 795\n",
      "6781 597\n",
      "age 63.484146880991005 5.098636952605447\n",
      "bmi 27.67364020410545 4.860157427622526\n",
      "copd 6781 391.0 0.05766111193039375\n",
      "phist 6781 304 0.04483114584869488\n",
      "fhist 6781 1541 0.22725261760802243\n",
      "smo_status: never, former, current 0 3440 3341\n",
      "pkyr 57.0059873175048 23.54308901868958\n",
      "quit_time 4.422946468072555 5.556071376845802\n",
      "education: lessHighScho, HighScho, PosHighScho, Associate, Bachelor, Graduate 404 1692 985 1559 1078 943\n",
      "race: White, Black, Asian, Pacific, Latnio, Indian 6364 243 140 18 0 16\n",
      "nodule_size 8.208081403922725 6.621872534399117\n",
      "spiculation 6781 673.0 0.09924789854003835\n",
      "upperlobe 6781 1151.0 0.16973897655213097\n"
     ]
    }
   ],
   "source": [
    "\n",
    "df = pd.read_csv('/nfs/masi/gaor2/data/Cotrain/clinical_spore/nlst/NLST_withimage.csv')\n",
    "df = df.query('(diag_dis < 2 and gt_reg == 1) or (diag_dis > 2 and gt_reg == 0)')\n",
    "df = df.query('plco == plco')\n",
    "df = df.query('mayo_risk == mayo_risk')\n",
    "#df = df.loc[df['subfold']== 'withlabel']\n",
    "print (len(df), sum(df['gt_reg']))\n",
    "df = df.query('lastitem == 1')\n",
    "\n",
    "print (len(df), sum(df['gt_reg']))\n",
    "age_list = df['age_correct'].tolist()\n",
    "print ('age', np.mean(age_list), np.std(age_list))\n",
    "\n",
    "item_list = df['bmi'].tolist()\n",
    "print ('bmi', np.mean(item_list), np.std(item_list))\n",
    "\n",
    "item_list = df['copd'].tolist()\n",
    "print ('copd', len(item_list), sum(item_list), sum(item_list) / len(item_list))\n",
    "\n",
    "item_list = df['phist'].tolist()\n",
    "print ('phist', len(item_list), sum(item_list), sum(item_list) / len(item_list))\n",
    "\n",
    "item_list = df['fhist'].tolist()\n",
    "print ('fhist', len(item_list), sum(item_list), sum(item_list) / len(item_list))\n",
    "\n",
    "item_list = df['smo_status'].tolist()\n",
    "sub0 = sum(np.array(item_list) == 0)\n",
    "sub1 = sum(np.array(item_list) == 1) \n",
    "sub2 = sum(np.array(item_list) == 2) \n",
    "print ('smo_status: never, former, current', sub0, sub1, sub2)\n",
    "\n",
    "smo_intensity = df['intensity'].tolist()\n",
    "duration = df['duration'].tolist()\n",
    "pkyr = [smo_intensity[i] * duration[i] / 20 for i in range(len(duration))]\n",
    "print ('pkyr', np.mean(pkyr), np.std(pkyr))\n",
    "\n",
    "item_list = df['quit_time'].tolist()\n",
    "print ('quit_time', np.mean(item_list), np.std(item_list))\n",
    "\n",
    "item_list = df['edu'].tolist()\n",
    "sub1 = sum(np.array(item_list) == 1)\n",
    "sub2 = sum(np.array(item_list) == 2)\n",
    "sub3 = sum(np.array(item_list) == 3)\n",
    "sub4 = sum(np.array(item_list) == 4)\n",
    "sub5 = sum(np.array(item_list) == 5)\n",
    "sub6 = sum(np.array(item_list) == 6)\n",
    "print ('education: lessHighScho, HighScho, PosHighScho, Associate, Bachelor, Graduate',  sub1, sub2, sub3, sub4, sub5, sub6)\n",
    "\n",
    "item_list = df['race'].tolist()\n",
    "sub1 = sum(np.array(item_list) == 1)\n",
    "sub2 = sum(np.array(item_list) == 2)\n",
    "sub3 = sum(np.array(item_list) == 3)\n",
    "sub4 = sum(np.array(item_list) == 5)\n",
    "sub5 = sum(np.array(item_list) == 2.5)\n",
    "sub6 = sum(np.array(item_list) == 4)\n",
    "print ('race: White, Black, Asian, Pacific, Latnio, Indian',  sub1, sub2, sub3, sub4, sub5, sub6)\n",
    "\n",
    "item_list = df['nodule_size'].tolist()\n",
    "print ('nodule_size', np.mean(item_list), np.std(item_list))\n",
    "\n",
    "item_list = df['spiculation'].tolist()\n",
    "print ('spiculation', len(item_list), sum(item_list), sum(item_list) / len(item_list))\n",
    "\n",
    "item_list = df['upperlobe'].tolist()\n",
    "print ('upperlobe', len(item_list), sum(item_list), sum(item_list) / len(item_list))\n",
    "\n"
   ]
  },
  {
   "cell_type": "code",
   "execution_count": 128,
   "metadata": {},
   "outputs": [
    {
     "name": "stdout",
     "output_type": "stream",
     "text": [
      "64898\n",
      "1037\n"
     ]
    }
   ],
   "source": [
    "df = pd.read_csv('/nfs/masi/gaor2/data/Cotrain/clinical_spore/nlst/NLST_withimage.csv')\n",
    "df = df.query('(diag_dis < 2 and gt_reg == 1) or (diag_dis > 2 and gt_reg == 0)')\n",
    "df = df.query('plco == plco')\n",
    "print (len(df))\n",
    "df = df.query('gt_reg == 1')\n",
    "print (len(df))\n",
    "df = df.query('lastitem == 1')\n"
   ]
  },
  {
   "cell_type": "code",
   "execution_count": 129,
   "metadata": {},
   "outputs": [
    {
     "name": "stdout",
     "output_type": "stream",
     "text": [
      "706\n"
     ]
    }
   ],
   "source": [
    "print (len(df))"
   ]
  },
  {
   "cell_type": "markdown",
   "metadata": {},
   "source": [
    "# for VLSP"
   ]
  },
  {
   "cell_type": "code",
   "execution_count": 118,
   "metadata": {},
   "outputs": [],
   "source": [
    "def get_lastitem_csv(ori_csv):\n",
    "    df = pd.read_csv(ori_csv)\n",
    "    subj_sess = {}\n",
    "    for i, item in df.iterrows():\n",
    "        subj = item['subject']\n",
    "        if subj not in subj_sess.keys():\n",
    "            subj_sess[subj] = []\n",
    "        subj_sess[subj].append(item['id'])\n",
    "    for key in subj_sess.keys():\n",
    "        subj_sess[key] = sorted(subj_sess[key])\n",
    "    \n",
    "    lastitem = []\n",
    "    for i, item in df.iterrows():\n",
    "        subj = item['subject']\n",
    "        if item['id'] == subj_sess[subj][-1]:\n",
    "            lastitem.append(1)\n",
    "        else:\n",
    "            lastitem.append(0)\n",
    "    df['lastitem_fake'] = lastitem\n",
    "    df.to_csv(ori_csv)\n",
    "get_lastitem_csv('/nfs/masi/gaor2/data/Cotrain/clinical_spore/spore/spore_with2yr.csv')"
   ]
  },
  {
   "cell_type": "code",
   "execution_count": 52,
   "metadata": {},
   "outputs": [
    {
     "name": "stdout",
     "output_type": "stream",
     "text": [
      "67 67\n",
      "21 21\n"
     ]
    }
   ],
   "source": [
    "df = pd.read_csv('/nfs/masi/gaor2/data/Cotrain/clinical_spore/spore/Limitedhistory20200420.csv')\n",
    "df = df.query('subject == subject')\n",
    "df = df.query('lastitem == 1')\n",
    "df = df.query('plco == plco')\n",
    "df = df.query('withimage == 1')\n",
    "df = df.query('gt_reg == 1 or cntCT > 3')\n",
    "dfcancer = df.query('gt_reg == 1')\n",
    "print (len(set(df['subject'].tolist())), len(df['subject']))\n",
    "print (len(set(dfcancer['subject'].tolist())), len(dfcancer['subject']))"
   ]
  },
  {
   "cell_type": "code",
   "execution_count": 122,
   "metadata": {},
   "outputs": [
    {
     "name": "stdout",
     "output_type": "stream",
     "text": [
      "147 221\n",
      "21 40\n",
      "147 221\n",
      "21 40\n"
     ]
    },
    {
     "data": {
      "text/plain": [
       "(array([ 0., 10., 20., 30., 40., 50., 60., 70., 80., 90.]),\n",
       " <a list of 10 Text yticklabel objects>)"
      ]
     },
     "execution_count": 122,
     "metadata": {},
     "output_type": "execute_result"
    },
    {
     "data": {
      "image/png": "[encoded data removed]",
      "text/plain": [
       "<Figure size 432x288 with 1 Axes>"
      ]
     },
     "metadata": {
      "needs_background": "light"
     },
     "output_type": "display_data"
    }
   ],
   "source": [
    "df = pd.read_csv('/nfs/masi/gaor2/data/Cotrain/clinical_spore/spore/norm/spore_with2yr.csv')\n",
    "#df = df.query('lastitem_fake == 1')\n",
    "df = df.query('plco == plco')\n",
    "dfcancer = df.query('gt_reg == 1')\n",
    "print (len(set(df['subject'].tolist())), len(df['subject']))\n",
    "print (len(set(dfcancer['subject'].tolist())), len(dfcancer['subject']))\n",
    "print (len(set(df['subject'].tolist())), len(df['subject']))\n",
    "print (len(set(dfcancer['subject'].tolist())), len(dfcancer['subject']))\n",
    "item = df['pkyr'].tolist()\n",
    "\n",
    "plt.hist(item,  bins=11)  # `density=False` would make counts\n",
    "\n",
    "plt.title('VLSP packyear Histogram', fontsize =15)\n",
    "plt.ylabel('# subjects', fontsize =15)\n",
    "plt.xlabel('packyear', fontsize =15)\n",
    "\n",
    "plt.xticks(fontsize = 15)\n",
    "plt.yticks(fontsize = 15)"
   ]
  },
  {
   "cell_type": "code",
   "execution_count": 124,
   "metadata": {},
   "outputs": [
    {
     "name": "stdout",
     "output_type": "stream",
     "text": [
      "age 64.80272108843538 5.032735634804135\n",
      "bmi 28.276699601022802 5.68268909827058\n",
      "quit_time 3.251700680272109 5.840095443977045\n",
      "copd 147 41.0 0.2789115646258503\n",
      "phist 147 30.0 0.20408163265306123\n",
      "fhist 147 38.0 0.2585034013605442\n",
      "smo_status: never, former, current 0 60 87\n",
      "pkyr 49.11625850340136 19.85410738055867\n",
      "education: lessHighScho, HighScho, PosHighScho, Associate, Bachelor, Graduate 6 29 5 37 35 35\n",
      "race: White, Black, Asian, Pacific, Latnio, Indian 134 12 0 0 1 0\n"
     ]
    }
   ],
   "source": [
    "# age  session level\n",
    "\n",
    "df = pd.read_csv('/nfs/masi/gaor2/data/Cotrain/clinical_spore/spore/spore_with2yr.csv')\n",
    "df = df.query('plco == plco')\n",
    "df = df.query('lastitem_fake == 1')\n",
    "age_list = df['age'].tolist()\n",
    "print ('age', np.mean(age_list), np.std(age_list))\n",
    "\n",
    "item_list = df['bmi'].tolist()\n",
    "print ('bmi', np.mean(item_list), np.std(item_list))\n",
    "\n",
    "item_list = df['quit_time'].tolist()\n",
    "print ('quit_time', np.mean(item_list), np.std(item_list))\n",
    "\n",
    "item_list = df['copd'].tolist()\n",
    "print ('copd', len(item_list), sum(item_list), sum(item_list) / len(item_list))\n",
    "\n",
    "item_list = df['phist'].tolist()\n",
    "print ('phist', len(item_list), sum(item_list), sum(item_list) / len(item_list))\n",
    "\n",
    "item_list = df['fhist'].tolist()\n",
    "print ('fhist', len(item_list), sum(item_list), sum(item_list) / len(item_list))\n",
    "\n",
    "item_list = df['smo_status'].tolist()\n",
    "sub0 = sum(np.array(item_list) == 0)\n",
    "sub1 = sum(np.array(item_list) == 1)\n",
    "sub2 = sum(np.array(item_list) == 2)\n",
    "print ('smo_status: never, former, current', sub0, sub1, sub2)\n",
    "\n",
    "smo_intensity = df['smo_intensity'].tolist()\n",
    "duration = df['duration'].tolist()\n",
    "pkyr = [smo_intensity[i] * duration[i] / 20 for i in range(len(duration))]\n",
    "print ('pkyr', np.mean(pkyr), np.std(pkyr))\n",
    "\n",
    "item_list = df['edu'].tolist()\n",
    "sub1 = sum(np.array(item_list) == 1)\n",
    "sub2 = sum(np.array(item_list) == 2)\n",
    "sub3 = sum(np.array(item_list) == 3)\n",
    "sub4 = sum(np.array(item_list) == 4)\n",
    "sub5 = sum(np.array(item_list) == 5)\n",
    "sub6 = sum(np.array(item_list) == 6)\n",
    "print ('education: lessHighScho, HighScho, PosHighScho, Associate, Bachelor, Graduate',  sub1, sub2, sub3, sub4, sub5, sub6)\n",
    "\n",
    "item_list = df['race'].tolist()\n",
    "sub1 = sum(np.array(item_list) == 1)\n",
    "sub2 = sum(np.array(item_list) == 2)\n",
    "sub3 = sum(np.array(item_list) == 3)\n",
    "sub4 = sum(np.array(item_list) == 5)\n",
    "sub5 = sum(np.array(item_list) == 2.5)\n",
    "sub6 = sum(np.array(item_list) == 4)\n",
    "print ('race: White, Black, Asian, Pacific, Latnio, Indian',  sub1, sub2, sub3, sub4, sub5, sub6)"
   ]
  },
  {
   "cell_type": "code",
   "execution_count": 26,
   "metadata": {},
   "outputs": [
    {
     "data": {
      "text/plain": [
       "428"
      ]
     },
     "execution_count": 26,
     "metadata": {},
     "output_type": "execute_result"
    }
   ],
   "source": []
  },
  {
   "cell_type": "code",
   "execution_count": 34,
   "metadata": {},
   "outputs": [],
   "source": []
  },
  {
   "cell_type": "code",
   "execution_count": 27,
   "metadata": {},
   "outputs": [
    {
     "name": "stdout",
     "output_type": "stream",
     "text": [
      "68.61462728551336 9.858521546525429\n"
     ]
    }
   ],
   "source": []
  },
  {
   "cell_type": "code",
   "execution_count": 25,
   "metadata": {},
   "outputs": [
    {
     "name": "stdout",
     "output_type": "stream",
     "text": [
      "449 711\n"
     ]
    }
   ],
   "source": []
  },
  {
   "cell_type": "code",
   "execution_count": 29,
   "metadata": {},
   "outputs": [
    {
     "name": "stdout",
     "output_type": "stream",
     "text": [
      "27.496544117647062 6.3495860366081285\n"
     ]
    }
   ],
   "source": []
  },
  {
   "cell_type": "code",
   "execution_count": 31,
   "metadata": {},
   "outputs": [
    {
     "name": "stdout",
     "output_type": "stream",
     "text": [
      "18.247334754797443 7.015564354796942\n"
     ]
    }
   ],
   "source": [
    "start_list = [i for i in start_list if i == i and i != 'NA']\n",
    "print (np.mean(start_list), np.std(start_list))"
   ]
  },
  {
   "cell_type": "code",
   "execution_count": 32,
   "metadata": {},
   "outputs": [
    {
     "name": "stdout",
     "output_type": "stream",
     "text": [
      "54.282051282051285 13.560992001116666\n"
     ]
    }
   ],
   "source": [
    "quit_list = [i for i in quit_list if i == i and i != 'NA']\n",
    "print (np.mean(quit_list), np.std(quit_list))"
   ]
  },
  {
   "cell_type": "code",
   "execution_count": 36,
   "metadata": {},
   "outputs": [
    {
     "name": "stdout",
     "output_type": "stream",
     "text": [
      "48.80180084745763 32.10875198219959\n"
     ]
    }
   ],
   "source": [
    "pky_list = [i for i in pky_list if i == i and i != 'NA']\n",
    "print (np.mean(pky_list), np.std(pky_list))"
   ]
  },
  {
   "cell_type": "code",
   "execution_count": 40,
   "metadata": {},
   "outputs": [
    {
     "name": "stdout",
     "output_type": "stream",
     "text": [
      "62.06188925081433 7.031067424958634\n"
     ]
    }
   ],
   "source": [
    "df_spore = pd.read_csv('/share3/gaor2/share5backup/data/SPORE/clinical/new3.csv')\n",
    "age_list = df_spore['Age'].tolist()\n",
    "sincequit_list = df_spore['yearssincequit'].tolist()\n",
    "\n",
    "quit_list = [age_list[i] - sincequit_list[i] for i in range(len(age_list))]\n",
    "print (np.mean(quit_list), np.std(quit_list))\n"
   ]
  },
  {
   "cell_type": "code",
   "execution_count": null,
   "metadata": {},
   "outputs": [],
   "source": []
  },
  {
   "cell_type": "markdown",
   "metadata": {},
   "source": [
    "# MCL"
   ]
  },
  {
   "cell_type": "code",
   "execution_count": 96,
   "metadata": {},
   "outputs": [
    {
     "name": "stdout",
     "output_type": "stream",
     "text": [
      "130 0\n"
     ]
    }
   ],
   "source": [
    "df = pd.read_csv('/nfs/masi/MCL/file/clinical/LabelFile/0421/Report_part1_nodup.csv')\n",
    "df = df.query('cancer_bengin == 0')\n",
    "df = df.loc[df['withimg_0330'] == 1]\n",
    "df = df.loc[(df['mayo_diag'] ==df['mayo_diag']) | (df['mayo_ct'] ==df['mayo_ct'])]\n",
    "\n",
    "df = df.query('new_in0398 == 1 or new_in1730 == 1 or new_in0136 == 1 or new_in1078 == 1')\n",
    "\n",
    "df = df.query('nodule_size > 5.9 and nodule_size < 30.1')\n",
    "\n",
    "mcl_list = []\n",
    "cancer_list = []\n",
    "for i, item in df.iterrows():\n",
    "    try:\n",
    "        if item['mayo_diag'] == item['mayo_diag'] and item['mayo_diag'] >= 0.05 and item['mayo_diag'] <= 0.65:\n",
    "            mcl_list.append(item['MCL_ID'])\n",
    "            if item['cancer_bengin'] == 1:\n",
    "                cancer_list.append(item['MCL_ID'])\n",
    "        elif item['mayo_ct'] == item['mayo_ct'] and item['mayo_ct'] >= 0.05 and item['mayo_ct'] <= 0.65:\n",
    "            mcl_list.append(item['MCL_ID'])\n",
    "            if item['cancer_bengin'] == 1:\n",
    "                cancer_list.append(item['MCL_ID'])\n",
    "    except:\n",
    "        print (item['mayo_diag'], item['mayo_ct'])\n",
    "print (len(set(mcl_list)), len(set(cancer_list)))"
   ]
  },
  {
   "cell_type": "code",
   "execution_count": null,
   "metadata": {},
   "outputs": [],
   "source": [
    "df = pd.read_csv('/nfs/masi/gaor2/data/Cotrain/clinical_spore/mcl/IPN_biomarker-MK_nopassword.csv')\n",
    "\n"
   ]
  },
  {
   "cell_type": "code",
   "execution_count": 97,
   "metadata": {},
   "outputs": [
    {
     "name": "stdout",
     "output_type": "stream",
     "text": [
      "63.618199999999995 9.861835993363508\n"
     ]
    }
   ],
   "source": [
    "item_list = df['ctage'].tolist()\n",
    "print (np.mean(item_list), np.std(item_list))"
   ]
  },
  {
   "cell_type": "code",
   "execution_count": 98,
   "metadata": {},
   "outputs": [
    {
     "name": "stdout",
     "output_type": "stream",
     "text": [
      "14.9048 6.139965550391956\n"
     ]
    }
   ],
   "source": [
    "item_list = df['nodule_size'].tolist()\n",
    "print (np.mean(item_list), np.std(item_list))"
   ]
  },
  {
   "cell_type": "code",
   "execution_count": 99,
   "metadata": {},
   "outputs": [
    {
     "name": "stdout",
     "output_type": "stream",
     "text": [
      "250 223.0 0.892\n"
     ]
    }
   ],
   "source": [
    "item_list = df['smok'].tolist()\n",
    "print (len(item_list), sum(item_list), sum(item_list) / len(item_list))"
   ]
  },
  {
   "cell_type": "code",
   "execution_count": 100,
   "metadata": {},
   "outputs": [
    {
     "name": "stdout",
     "output_type": "stream",
     "text": [
      "250 105.0 0.42\n"
     ]
    }
   ],
   "source": [
    "item_list = df['prior_cancer'].tolist()\n",
    "print (len(item_list), sum(item_list), sum(item_list) / len(item_list))"
   ]
  },
  {
   "cell_type": "code",
   "execution_count": 101,
   "metadata": {},
   "outputs": [
    {
     "name": "stdout",
     "output_type": "stream",
     "text": [
      "250 27 0.108\n"
     ]
    }
   ],
   "source": [
    "item_list = df['spicul'].tolist()\n",
    "print (len(item_list), sum(item_list), sum(item_list) / len(item_list))"
   ]
  },
  {
   "cell_type": "code",
   "execution_count": 102,
   "metadata": {},
   "outputs": [
    {
     "name": "stdout",
     "output_type": "stream",
     "text": [
      "250 116 0.464\n"
     ]
    }
   ],
   "source": [
    "item_list = df['upperlobe'].tolist()\n",
    "print (len(item_list), sum(item_list), sum(item_list) / len(item_list))"
   ]
  },
  {
   "cell_type": "code",
   "execution_count": null,
   "metadata": {},
   "outputs": [],
   "source": []
  }
 ],
 "metadata": {
  "kernelspec": {
   "display_name": "python37",
   "language": "python",
   "name": "python37"
  },
  "language_info": {
   "codemirror_mode": {
    "name": "ipython",
    "version": 3
   },
   "file_extension": ".py",
   "mimetype": "text/x-python",
   "name": "python",
   "nbconvert_exporter": "python",
   "pygments_lexer": "ipython3",
   "version": "3.7.5"
  }
 },
 "nbformat": 4,
 "nbformat_minor": 2
}
