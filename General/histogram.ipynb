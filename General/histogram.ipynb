{
 "cells": [
  {
   "cell_type": "code",
   "execution_count": 2,
   "metadata": {},
   "outputs": [],
   "source": [
    "import pandas as pd\n",
    "import os\n",
    "import re"
   ]
  },
  {
   "cell_type": "code",
   "execution_count": 17,
   "metadata": {},
   "outputs": [],
   "source": [
    "df = pd.read_excel(\"/nfs/masi/MCL/file/clinical/LabelFile/MetaData/Smaller_Dataset.xlsx\")\n",
    "vumc_pid = df.loc[df['Institution'] == 'Pittsburgh']['MCL.ID'].tolist()\n",
    "#print (vumc_pid)\n",
    "vumc_pid = [str(i) for i in vumc_pid]"
   ]
  },
  {
   "cell_type": "code",
   "execution_count": 18,
   "metadata": {},
   "outputs": [],
   "source": [
    "ori_root = '/nfs/masi/MCL/registration/affine_niftyreg_0/interp/ori'\n",
    "link_root = '/nfs/masi/MCL/registration/affine_niftyreg_0/interp/ori_pitt'\n",
    "data_list = os.listdir(ori_root)\n",
    "\n",
    "cnt = 0\n",
    "for i in range(len(data_list)):\n",
    "    if re.split('[t]', data_list[i])[0] in vumc_pid:\n",
    "        os.system('ln -s ' + ori_root + '/' + data_list[i] + ' ' + link_root + '/' + data_list[i])\n"
   ]
  },
  {
   "cell_type": "code",
   "execution_count": 19,
   "metadata": {},
   "outputs": [],
   "source": [
    "df = pd.read_csv('/nfs/masi/MCL/file/clinical/LabelFile/MetaData/self_creat/session_20200128.csv')\n",
    "\n",
    "df = df.loc[df['duplicated'] == 0]\n",
    "df.to_csv('/nfs/masi/MCL/file/clinical/LabelFile/MetaData/self_creat/session_20200128_new.csv', index = False)\n",
    "    "
   ]
  },
  {
   "cell_type": "markdown",
   "metadata": {},
   "source": [
    "# make histogram of staging"
   ]
  },
  {
   "cell_type": "code",
   "execution_count": 81,
   "metadata": {},
   "outputs": [],
   "source": [
    "dict_stage = {}\n",
    "dict_source = {}\n",
    "dict_inst = {}\n",
    "dict_histype = {}\n",
    "df0 = pd.read_excel('/nfs/masi/MCL/file/clinical/LabelFile/MetaData/FH cohort 1 clinical and imaging info to VB_2020JAN8.xlsx')\n",
    "for i, item in df0.iterrows():\n",
    "    if len(str(item['MCL_ID'])) < 6: continue\n",
    "    mclid = str(item['MCL_ID']).replace(\".0\", '')\n",
    "    if mclid not in dict_stage.keys():\n",
    "        dict_stage[mclid] = []\n",
    "    if mclid not in dict_source.keys():\n",
    "        dict_source[mclid] = []\n",
    "    if mclid not in dict_inst.keys():\n",
    "        dict_inst[mclid] = []\n",
    "    if mclid not in dict_histype.keys():\n",
    "        dict_histype[mclid] = []\n",
    "    dict_stage[mclid].append(item['Lung Cancer Staging'])\n",
    "    dict_source[mclid].append('FH')\n",
    "    dict_inst[mclid].append('UW')\n",
    "    dict_histype[mclid].append(item['Lung Cancer Histology'])\n",
    "    \n",
    "    \n",
    "\n",
    "df1 = pd.read_excel('/nfs/masi/MCL/file/clinical/LabelFile/MetaData/Smaller_Dataset.xlsx')\n",
    "for i, item in df1.iterrows():\n",
    "    if len(str(item['MCL.ID'])) < 6: continue\n",
    "    mclid = str(item['MCL.ID']).replace(\".0\", '')\n",
    "    if mclid not in dict_stage.keys():\n",
    "        dict_stage[mclid] = []\n",
    "    if mclid not in dict_source.keys():\n",
    "        dict_source[mclid] = []\n",
    "    if mclid not in dict_inst.keys():\n",
    "        dict_inst[mclid] = []\n",
    "    if mclid not in dict_histype.keys():\n",
    "        dict_histype[mclid] = []\n",
    "    dict_stage[mclid].append(item['Path.Stage'])\n",
    "    dict_source[mclid].append('Smaller')\n",
    "    dict_inst[mclid].append(item['Institution'])\n",
    "    dict_histype[mclid].append(item['Histologic.Type'])\n",
    "\n",
    "\n",
    "df2 = pd.read_csv('/nfs/masi/MCL/file/clinical/LabelFile/MetaData/PPM_2018.csv')\n",
    "for i, item in df2.iterrows():\n",
    "    if len(str(item['New_MCL_ID'])) < 6: continue\n",
    "    mclid = str(item['New_MCL_ID']).replace(\".0\", '')\n",
    "    if mclid not in dict_stage.keys():\n",
    "        dict_stage[mclid] = []\n",
    "    if mclid not in dict_source.keys():\n",
    "        dict_source[mclid] = []\n",
    "    if mclid not in dict_inst.keys():\n",
    "        dict_inst[mclid] = []\n",
    "    if mclid not in dict_histype.keys():\n",
    "        dict_histype[mclid] = []\n",
    "    dict_stage[mclid].append(item['Path.Stage'])\n",
    "    dict_source[mclid].append('ppm')\n",
    "    dict_inst[mclid].append(item['Institution'])\n",
    "    dict_histype[mclid].append(item['Histologic.Type'])\n",
    "    \n",
    "df3 = pd.read_csv('/nfs/masi/MCL/file/clinical/LabelFile/MetaData/MCL_Nodule_2018OCT9.csv')\n",
    "for i, item in df3.iterrows():\n",
    "    if len(str(item['MCL.id'])) < 6: continue\n",
    "    mclid = str(item['MCL.id']).replace(\".0\", '')\n",
    "    if mclid not in dict_stage.keys():\n",
    "        dict_stage[mclid] = []\n",
    "    if mclid not in dict_source.keys():\n",
    "        dict_source[mclid] = []\n",
    "    if mclid not in dict_inst.keys():\n",
    "        dict_inst[mclid] = []\n",
    "    if mclid not in dict_histype.keys():\n",
    "        dict_histype[mclid] = []\n",
    "    dict_stage[mclid].append(item['Path.Stage'])\n",
    "    dict_source[mclid].append('2018OCT')\n",
    "    dict_inst[mclid].append(item['Institution'])\n",
    "    dict_histype[mclid].append(item['Histologic.Type'])\n",
    "    \n",
    "df4 = pd.read_csv('/nfs/masi/MCL/file/clinical/LabelFile/MetaData/self_creat/Large_Dataset.csv')\n",
    "for i, item in df4.iterrows():\n",
    "    if item['MCL_ID'] != item['MCL_ID']: continue\n",
    "    if len(str(item['MCL_ID'])) < 6: continue\n",
    "    mclid = str(item['MCL_ID']).replace(\".0\", '')\n",
    "    if mclid not in dict_stage.keys():\n",
    "        dict_stage[mclid] = []\n",
    "    if mclid not in dict_source.keys():\n",
    "        dict_source[mclid] = []\n",
    "    if mclid not in dict_inst.keys():\n",
    "        dict_inst[mclid] = []\n",
    "    if mclid not in dict_histype.keys():\n",
    "        dict_histype[mclid] = []\n",
    "    dict_stage[mclid].append('')\n",
    "    dict_source[mclid].append('Larger')\n",
    "    dict_inst[mclid].append(item['Institution'])\n",
    "    dict_histype[mclid].append(item['Histologic Type'])\n"
   ]
  },
  {
   "cell_type": "code",
   "execution_count": 82,
   "metadata": {},
   "outputs": [],
   "source": [
    "stage = []\n",
    "source = []\n",
    "inst = []\n",
    "histype = []\n",
    "df = pd.read_csv('/nfs/masi/MCL/file/clinical/LabelFile/MetaData/self_creat/combine.csv')\n",
    "cnt = 0\n",
    "for i, item in df.iterrows():\n",
    "    mclid = str(item['mclid']).replace(\".0\", '')\n",
    "    if mclid not in dict_stage.keys():\n",
    "        stage.append('')\n",
    "        source.append('')\n",
    "        inst.append('')\n",
    "        histype.append('')\n",
    "        #print (mclid)\n",
    "    else:\n",
    "        stage.append(dict_stage[mclid])\n",
    "        source.append(dict_source[mclid])\n",
    "        inst.append(dict_inst[mclid])\n",
    "        histype.append(dict_histype[mclid])\n",
    "df['stage'] = stage\n",
    "df['source'] = source\n",
    "df['inst'] = inst\n",
    "df['histype'] = histype\n",
    "df.to_csv('/nfs/masi/MCL/file/clinical/LabelFile/MetaData/self_creat/combine_meta2.csv', index = False)"
   ]
  },
  {
   "cell_type": "code",
   "execution_count": 101,
   "metadata": {},
   "outputs": [
    {
     "name": "stdout",
     "output_type": "stream",
     "text": [
      "138 74 47 36 31 27 24\n",
      "377\n"
     ]
    },
    {
     "data": {
      "text/plain": [
       "Text(0.5, 1.0, 'Distribution in MCL')"
      ]
     },
     "execution_count": 101,
     "metadata": {},
     "output_type": "execute_result"
    },
    {
     "data": {
      "image/png": "[encoded data removed]",
      "text/plain": [
       "<Figure size 432x288 with 1 Axes>"
      ]
     },
     "metadata": {
      "needs_background": "light"
     },
     "output_type": "display_data"
    }
   ],
   "source": [
    "df = pd.read_csv('/nfs/masi/MCL/file/clinical/LabelFile/MetaData/self_creat/combine_meta.csv')\n",
    "df = df.loc[df['gt'] == 1]\n",
    "stage1a, stage1b, stage2, stage3, stage4, limi, extensive = 0, 0, 0, 0, 0, 0, 0\n",
    "for i, item in df.iterrows():\n",
    "    item['stage'] = str(item['stage'])\n",
    "    \n",
    "    if 'IV' in item['stage']:\n",
    "        stage4 += 1\n",
    "    elif 'III' in item['stage']:\n",
    "        stage3 += 1\n",
    "    elif '4' in item['stage']:\n",
    "        stage4 += 1\n",
    "#    if 'I' in item['stage'] and \"II\" not in item['stage'] and \"IV\" not in item['stage']:\n",
    "#        stage1 += 1\n",
    "    elif 'II' in item['stage'] and \"III\" not in item['stage']:\n",
    "        stage2 += 1\n",
    "    elif \"3\" in item['stage']:\n",
    "        stage3 += 1\n",
    "    elif \"2\" in item['stage']:\n",
    "        stage2 += 1\n",
    "    \n",
    "    elif 'Limited' in item['stage'] or 'limited' in item['stage']:\n",
    "        limi += 1\n",
    "    elif 'Extensive' in item['stage'] or 'extensive' in item['stage']:\n",
    "        extensive += 1\n",
    "    elif '1a' in item['stage'] or 'IA' in item['stage']:\n",
    "        stage1a += 1\n",
    "    \n",
    "    elif '1b' in item['stage'] or 'IB' in item['stage']:\n",
    "        stage1b += 1\n",
    "#    else:\n",
    "#        print (item['mclid'])\n",
    "print (stage1a, stage1b, stage2, stage3, stage4, limi, extensive)\n",
    "print (stage1a + stage1b + stage2 + stage3 +  stage4 + limi + extensive)\n",
    "plt.bar(['NaN', '1a', \"1b\", '2', '3', '4', 'limi', 'extensive'],[219, stage1a, stage1b, stage2, stage3, stage4, limi, extensive])\n",
    "plt.ylabel('number of cancer patients')\n",
    "plt.xlabel('cancer stage')\n",
    "plt.title(\"Distribution in MCL\")"
   ]
  },
  {
   "cell_type": "code",
   "execution_count": 103,
   "metadata": {},
   "outputs": [
    {
     "name": "stdout",
     "output_type": "stream",
     "text": [
      "381 49 162 147 258\n",
      "997\n"
     ]
    },
    {
     "data": {
      "text/plain": [
       "<BarContainer object of 5 artists>"
      ]
     },
     "execution_count": 103,
     "metadata": {},
     "output_type": "execute_result"
    },
    {
     "data": {
      "image/png": "[encoded data removed]",
      "text/plain": [
       "<Figure size 432x288 with 1 Axes>"
      ]
     },
     "metadata": {
      "needs_background": "light"
     },
     "output_type": "display_data"
    }
   ],
   "source": [
    "df = pd.read_csv('/nfs/masi/MCL/file/clinical/LabelFile/MetaData/self_creat/combine_meta.csv')\n",
    "VUMC, VA, Pittsburgh, UW, other = 0, 0, 0, 0, 0\n",
    "for i, item in df.iterrows():\n",
    "    if item['inst'] != item['inst']:\n",
    "        other += 1\n",
    "\n",
    "    elif \"VUMC\" in item['inst'] or \"Vanderbilt University\" in item['inst']:\n",
    "        VUMC += 1\n",
    "    elif 'VA' in item['inst']:\n",
    "        VA += 1\n",
    "    elif \"Pittsburgh\" in item['inst']:\n",
    "        Pittsburgh += 1\n",
    "    elif \"UW\" in item['inst']:\n",
    "        UW += 1\n",
    "    else:\n",
    "        other += 1\n",
    "    \n",
    "print (VUMC, VA, Pittsburgh, UW, other)\n",
    "print (VUMC + VA + Pittsburgh + UW + other)\n",
    "plt.bar(['VUMC', 'VA', 'Pitt', 'UW', 'NaN'],[VUMC, VA, Pittsburgh, UW, other])\n",
    "\n"
   ]
  },
  {
   "cell_type": "code",
   "execution_count": null,
   "metadata": {},
   "outputs": [],
   "source": []
  },
  {
   "cell_type": "code",
   "execution_count": 72,
   "metadata": {},
   "outputs": [
    {
     "name": "stdout",
     "output_type": "stream",
     "text": [
      "597\n"
     ]
    }
   ],
   "source": [
    "df = pd.read_csv('/nfs/masi/MCL/file/clinical/LabelFile/MetaData/self_creat/combine_meta.csv')\n",
    "label_list = df['label'].tolist()\n",
    "label = [int('1' in i) for i in label_list]\n",
    "df['gt'] = label\n",
    "df.to_csv('/nfs/masi/MCL/file/clinical/LabelFile/MetaData/self_creat/combine_meta.csv', index = False)\n",
    "print (sum(label))"
   ]
  },
  {
   "cell_type": "code",
   "execution_count": null,
   "metadata": {},
   "outputs": [],
   "source": [
    "df = pd.read_csv()\n",
    "mcl_pid = {}\n",
    "for i, item in df.iterrows():\n",
    "    #mclid = str(item['MCL ID']).replace(\".0\", '')\n",
    "    mcl_pid[item['Thoracic Program Database ID (PtID)']] = item['MCL ID']\n"
   ]
  },
  {
   "cell_type": "code",
   "execution_count": 27,
   "metadata": {},
   "outputs": [],
   "source": [
    "df = pd.read_excel('/nfs/masi/MCL/file/clinical/LabelFile/MetaData/Nodule MastersheetCurated by PPM 12-11-2018.v5.toppm.xlsx')\n",
    "New_MCL_ID = []\n",
    "for i, item in df.iterrows():\n",
    "    imgid = str(item['Image.ID']).replace('.0', '')\n",
    "    mclid = str(item['MCL.ID']).replace(\".0\", '')\n",
    "    if len(mclid) < 6 and len(imgid) < 6:\n",
    "        New_MCL_ID.append('')\n",
    "    elif len(imgid) > 6:\n",
    "        New_MCL_ID.append(imgid)\n",
    "    else:\n",
    "        New_MCL_ID.append(mclid)\n",
    "df['New_MCL_ID'] = New_MCL_ID\n",
    "df.to_csv('/nfs/masi/MCL/file/clinical/LabelFile/MetaData/PPM_2018.csv')"
   ]
  },
  {
   "cell_type": "markdown",
   "metadata": {},
   "source": [
    "# for NLST"
   ]
  },
  {
   "cell_type": "code",
   "execution_count": 85,
   "metadata": {},
   "outputs": [
    {
     "name": "stderr",
     "output_type": "stream",
     "text": [
      "/home/local/VANDERBILT/gaor2/anaconda3/envs/python37/lib/python3.7/site-packages/IPython/core/interactiveshell.py:3058: DtypeWarning: Columns (99,248,249) have mixed types. Specify dtype option on import or set low_memory=False.\n",
      "  interactivity=interactivity, compiler=compiler, result=result)\n"
     ]
    }
   ],
   "source": [
    "df = pd.read_csv('/nfs/masi/NLST/package-nlst-7-2018.09.24/participant.data.d100517.csv')\n",
    "subj_stage = {}\n",
    "for i, item in df.iterrows():\n",
    "    subj_stage[item['pid']] = item['de_stag']"
   ]
  },
  {
   "cell_type": "code",
   "execution_count": 102,
   "metadata": {},
   "outputs": [
    {
     "name": "stdout",
     "output_type": "stream",
     "text": [
      "611\n",
      "53452\n",
      "288 68 46 116 82 11\n"
     ]
    },
    {
     "data": {
      "text/plain": [
       "Text(0.5, 1.0, 'Distribution in NLST')"
      ]
     },
     "execution_count": 102,
     "metadata": {},
     "output_type": "execute_result"
    },
    {
     "data": {
      "image/png": "[encoded data removed]",
      "text/plain": [
       "<Figure size 432x288 with 1 Axes>"
      ]
     },
     "metadata": {
      "needs_background": "light"
     },
     "output_type": "display_data"
    }
   ],
   "source": [
    "df = pd.read_csv('/nfs/masi/gaor2/data/Cotrain/nlst/nlst_alllabel.csv')\n",
    "df = df.loc[df['diag_dis'] < 1]\n",
    "cancer_list = df.loc[df['gt_reg'] == 1]['subject'].tolist()\n",
    "print (len(set(cancer_list)))\n",
    "print (len(subj_stage.values()))\n",
    "cnt = 0\n",
    "stage1a, stage1b, stage2, stage3, stage4, other = 0,0,0,0,0,0\n",
    "for key in subj_stage.keys():\n",
    "    val = subj_stage[key]\n",
    "    if key in cancer_list:\n",
    "        if val == 3:\n",
    "            stage1a += 1\n",
    "        elif val == 4:\n",
    "            stage1b += 1\n",
    "        elif val == 6 or val == 7:\n",
    "            stage2 += 1\n",
    "        elif val == 8 or val == 9:\n",
    "            stage3 += 1\n",
    "        elif val == 10:\n",
    "            stage4 += 1\n",
    "        else:\n",
    "            other += 1\n",
    "        \n",
    "print (stage1a, stage1b, stage2, stage3, stage4, other)\n",
    "plt.bar(['NaN', '1a', \"1b\", '2', '3', '4'],[other, stage1a, stage1b, stage2, stage3, stage4])\n",
    "plt.ylabel('number of cancer patients')\n",
    "plt.xlabel('cancer stage')\n",
    "plt.title(\"Distribution in NLST\")"
   ]
  },
  {
   "cell_type": "markdown",
   "metadata": {},
   "source": [
    "# Create modified diag dis for NLST"
   ]
  },
  {
   "cell_type": "code",
   "execution_count": 3,
   "metadata": {},
   "outputs": [],
   "source": [
    "df = pd.read_csv('/nfs/masi/gaor2/data/Cotrain/nlst/nlst_alllabel.csv')\n",
    "\n",
    "stag_dict = {3:1.2, 4:0.9, 6:0.6, 7:0.6, 8:0.3, 9:0.3, 10:0, 'other': 1.5}\n"
   ]
  },
  {
   "cell_type": "code",
   "execution_count": 4,
   "metadata": {},
   "outputs": [],
   "source": [
    "modif_diag = []\n",
    "for i, item in df.iterrows():\n",
    "    if item['de_stag'] not in stag_dict.keys():\n",
    "        modif_diag.append(item['diag_dis'] + 1.5)\n",
    "    else:\n",
    "        modif_diag.append(item['diag_dis'] + stag_dict[item['de_stag']])"
   ]
  },
  {
   "cell_type": "code",
   "execution_count": 6,
   "metadata": {},
   "outputs": [],
   "source": [
    "df['modif_diag_dis_0.3'] = modif_diag\n",
    "df.to_csv('/nfs/masi/gaor2/data/Cotrain/nlst/nlst_alllabel.csv', index = False)"
   ]
  },
  {
   "cell_type": "code",
   "execution_count": 9,
   "metadata": {},
   "outputs": [],
   "source": [
    "df = pd.read_csv('/nfs/masi/gaor2/data/Cotrain/nlst/nlst_alllabel.csv')\n",
    "\n",
    "sess_dedis = {}\n",
    "for i, item in df.iterrows():\n",
    "    sess_dedis[item['item']] = item['modif_diag_dis_0.3']\n",
    "    "
   ]
  },
  {
   "cell_type": "code",
   "execution_count": 11,
   "metadata": {},
   "outputs": [],
   "source": [
    "df = pd.read_csv('/nfs/masi/gaor2/data/Cotrain/nlst/nlst_pos1yr.csv')\n",
    "de_stag = []\n",
    "for i, item in df.iterrows():\n",
    "    #print (i)\n",
    "    de_stag.append(sess_dedis[item['item']])\n",
    "    \n",
    "df['de_stag'] = de_stag\n",
    "df.to_csv('/nfs/masi/gaor2/data/Cotrain/nlst/nlst_pos1yr_stag0.3.csv', index = False)"
   ]
  },
  {
   "cell_type": "markdown",
   "metadata": {},
   "source": [
    "# compute the stage and nod size\n",
    "\n",
    "\n"
   ]
  },
  {
   "cell_type": "code",
   "execution_count": 4,
   "metadata": {},
   "outputs": [],
   "source": [
    "import pandas as pd\n",
    "# df = pd.read_csv('/media/gaor2/8e7f6ccf-3585-4815-856e-80ce8754c5b5/data/NLST/package-nlst-7-2018.09.24/participant.data.d100517.csv')\n",
    "# stage_size = {}\n",
    "# for i, item in df.iterrows():\n",
    "#     if item['de_stag'] == item['de_stag']:\n",
    "#         if item['de_stag'] not in stage_size.keys():\n",
    "#             stage_size[item['de_stag']] = []\n",
    "#         stage_size[item['de_stag']].append(item['lesionsize'])\n",
    "# print (stage_size)\n",
    "\n",
    "\n",
    "    "
   ]
  },
  {
   "cell_type": "code",
   "execution_count": 7,
   "metadata": {},
   "outputs": [
    {
     "name": "stdout",
     "output_type": "stream",
     "text": [
      "3 17.209415584415584\n",
      "4 36.26923076923077\n",
      "6 20.166666666666668\n",
      "7 43.5\n",
      "8 33.943005181347154\n",
      "9 41.91935483870968\n",
      "10 42.36405529953917\n"
     ]
    }
   ],
   "source": [
    "import numpy as np\n",
    "for i in range(3, 11):\n",
    "    if i == 5: continue\n",
    "    tmp_list = stage_size[i]\n",
    "    tmp_list = [i for i in tmp_list if i ==i]\n",
    "    print (i, np.mean(tmp_list))"
   ]
  },
  {
   "cell_type": "code",
   "execution_count": null,
   "metadata": {},
   "outputs": [],
   "source": []
  }
 ],
 "metadata": {
  "kernelspec": {
   "display_name": "Python [conda env:python37]",
   "language": "python",
   "name": "conda-env-python37-py"
  },
  "language_info": {
   "codemirror_mode": {
    "name": "ipython",
    "version": 3
   },
   "file_extension": ".py",
   "mimetype": "text/x-python",
   "name": "python",
   "nbconvert_exporter": "python",
   "pygments_lexer": "ipython3",
   "version": "3.7.5"
  }
 },
 "nbformat": 4,
 "nbformat_minor": 2
}
