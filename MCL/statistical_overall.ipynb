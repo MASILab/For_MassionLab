{
 "cells": [
  {
   "cell_type": "code",
   "execution_count": 3,
   "metadata": {},
   "outputs": [],
   "source": [
    "import pandas as pd\n",
    "import os"
   ]
  },
  {
   "cell_type": "code",
   "execution_count": 5,
   "metadata": {},
   "outputs": [],
   "source": [
    "data_list = os.listdir('/nfs/masi/MCL/nifti/combine')\n",
    "f = open('/media/gaor2/8e7f6ccf-3585-4815-856e-80ce8754c5b5/data/MCL/file/clinical/LabelFile/subject0825.txt', 'w')\n",
    "\n",
    "for subj in data_list:\n",
    "    f.write( subj + '\\n')\n",
    "f.close()\n",
    "\n",
    "f = open('/media/gaor2/8e7f6ccf-3585-4815-856e-80ce8754c5b5/data/MCL/file/clinical/LabelFile/sess0825.txt', 'w')\n",
    "\n",
    "for subj in data_list:\n",
    "    sess_list = os.listdir('/nfs/masi/MCL/nifti/combine/' + subj )\n",
    "    for sess in sess_list:\n",
    "        f.write( subj + 'time' + sess +  '\\n')\n",
    "f.close()\n"
   ]
  },
  {
   "cell_type": "code",
   "execution_count": 29,
   "metadata": {},
   "outputs": [
    {
     "name": "stdout",
     "output_type": "stream",
     "text": [
      "1199\n",
      "2283\n",
      "2545\n"
     ]
    }
   ],
   "source": [
    "df = pd.read_csv('/media/gaor2/8e7f6ccf-3585-4815-856e-80ce8754c5b5/data/MCL/file/clinical/LabelFile/0720MK/20200720_nopassword.csv')\n",
    "df = df.loc[df['MCL_ID'] == df['MCL_ID']]\n",
    "print (len(set(df['MCL_ID'])))\n",
    "print (len(set(data_list)))\n",
    "print (len(set(df['MCL_ID']) | set(data_list) ))\n"
   ]
  },
  {
   "cell_type": "code",
   "execution_count": 23,
   "metadata": {},
   "outputs": [],
   "source": [
    "subj_diag = {}\n",
    "\n",
    "df = pd.read_csv('/media/gaor2/8e7f6ccf-3585-4815-856e-80ce8754c5b5/data/MCL/file/clinical/LabelFile/0421/Report_part1_nodup.csv')\n",
    "\n",
    "for i, item in df.iterrows():\n",
    "    if item['cancer_bengin'] not in [0, 1]:\n",
    "        continue\n",
    "    subj = str(item['MCL_ID']).replace('.0','')\n",
    "    if subj in subj_diag.keys():\n",
    "        subj_diag[subj] = max(subj_diag[subj], item['cancer_bengin'])\n",
    "    else:\n",
    "        subj_diag[subj] = item['cancer_bengin']\n",
    "\n",
    "df = pd.read_csv('/media/gaor2/8e7f6ccf-3585-4815-856e-80ce8754c5b5/data/MCL/file/clinical/LabelFile/0720MK/20200720_nopassword.csv')\n",
    "for i, item in df.iterrows():\n",
    "    if item['gt_reg'] not in [0, 1]:\n",
    "        continue\n",
    "    subj = str(item['MCL_ID']).replace('.0','')\n",
    "    subj_diag[subj] = item['gt_reg']\n",
    "    \n"
   ]
  },
  {
   "cell_type": "code",
   "execution_count": 24,
   "metadata": {},
   "outputs": [
    {
     "data": {
      "text/plain": [
       "1431"
      ]
     },
     "execution_count": 24,
     "metadata": {},
     "output_type": "execute_result"
    }
   ],
   "source": [
    " len(set(data_list) & set(subj_diag.keys()))"
   ]
  },
  {
   "cell_type": "code",
   "execution_count": 17,
   "metadata": {},
   "outputs": [
    {
     "name": "stdout",
     "output_type": "stream",
     "text": [
      "771\n"
     ]
    }
   ],
   "source": [
    "subj_mayo = {}\n",
    "\n",
    "df = pd.read_csv('/media/gaor2/8e7f6ccf-3585-4815-856e-80ce8754c5b5/data/MCL/file/clinical/LabelFile/0720MK/20200720_nopassword.csv')\n",
    "for i, item in df.iterrows():\n",
    "    if item['gt_reg'] not in [0, 1]:\n",
    "        continue\n",
    "    if item['Mayo.Risk'] != item['Mayo.Risk']:\n",
    "        continue\n",
    "    subj = str(item['MCL_ID']).replace('.0','')\n",
    "    subj_mayo[subj] = item['Mayo.Risk']\n",
    "print (len(set(data_list) & set(subj_mayo.keys())) )\n",
    "    "
   ]
  },
  {
   "cell_type": "code",
   "execution_count": 33,
   "metadata": {},
   "outputs": [
    {
     "name": "stdout",
     "output_type": "stream",
     "text": [
      "739\n",
      "739\n"
     ]
    }
   ],
   "source": [
    "subj_blood = {}\n",
    "\n",
    "df = pd.read_csv('/media/gaor2/8e7f6ccf-3585-4815-856e-80ce8754c5b5/data/MCL/file/clinical/LabelFile/0720MK/20200720_nopassword.csv')\n",
    "for i, item in df.iterrows():\n",
    "    if item['gt_reg'] not in [0, 1]:\n",
    "        continue\n",
    "    if item['CSI..CYFRA21.1..ng.mL.'] != item['CSI..CYFRA21.1..ng.mL.']:\n",
    "        continue\n",
    "    subj = str(item['MCL_ID']).replace('.0','')\n",
    "    subj_blood[subj] = item['CSI..CYFRA21.1..ng.mL.']\n",
    "print (len(set(data_list) & set(subj_blood.keys())) )\n",
    "print (len(set(data_list) & set(subj_blood.keys()) & set(subj_mayo.keys()))) "
   ]
  },
  {
   "cell_type": "code",
   "execution_count": 37,
   "metadata": {},
   "outputs": [
    {
     "name": "stdout",
     "output_type": "stream",
     "text": [
      "1199\n",
      "739\n",
      "739\n",
      "661\n"
     ]
    }
   ],
   "source": [
    "df = pd.read_csv('/media/gaor2/8e7f6ccf-3585-4815-856e-80ce8754c5b5/data/MCL/file/clinical/LabelFile/0720MK/20200720_nopassword_radi.csv')\n",
    "print (len(df))\n",
    "df = df.loc[df['ANTPOST_LENGTH_END_MM_X'] == df['ANTPOST_LENGTH_END_MM_X']]\n",
    "print (len(df))\n",
    "df = df.loc[df['Mayo.Risk'] == df['Mayo.Risk']]\n",
    "print (len(df))\n",
    "df = df.loc[df['CSI..CYFRA21.1..ng.mL.'] == df['CSI..CYFRA21.1..ng.mL.']]\n"
   ]
  },
  {
   "cell_type": "code",
   "execution_count": 42,
   "metadata": {},
   "outputs": [
    {
     "name": "stdout",
     "output_type": "stream",
     "text": [
      "146\n"
     ]
    }
   ],
   "source": [
    "df = pd.read_csv('/media/gaor2/8e7f6ccf-3585-4815-856e-80ce8754c5b5/data/MCL/file/clinical/LabelFile/0720MK/20200720_nopassword.csv')\n",
    "\n",
    "df_upmc = df.loc[df['Cohort.1.Vandy.2.UPMC.3.DECAMP.4.UCD'] == '3']\n",
    "print (len(df_upmc))\n"
   ]
  },
  {
   "cell_type": "markdown",
   "metadata": {},
   "source": [
    "# statisical 20200825\n",
    "\n",
    "| Total Subject | 2545 | \n",
    "| With Image (xnat)   | 2283 |\n",
    "| With Clinical | 1193 |\n",
    "| With Diagnosis | 1431 |\n",
    "\n",
    "| With Mayo & image & Diag | 771 |\n",
    "| With Mayo & blood & Diag | 739 |\n",
    "| With Mayo & blood & Mayo & Diag | 739 |\n",
    "\n",
    "| with Radiomics | 739 |\n",
    "| with Radiomics & Diagnosis & Mayo_risk | 739 | \n",
    "| with Radiomics & Diagnosis & Mayo & blood | 661 | \n",
    "\n",
    "|UPMC| 158 |\n",
    "|DECAMP| 146 |\n"
   ]
  },
  {
   "cell_type": "markdown",
   "metadata": {},
   "source": [
    "# the follow for 20201102 "
   ]
  },
  {
   "cell_type": "code",
   "execution_count": null,
   "metadata": {},
   "outputs": [],
   "source": [
    "df = pd.read_csv('')"
   ]
  }
 ],
 "metadata": {
  "kernelspec": {
   "display_name": "Python [conda env:python37]",
   "language": "python",
   "name": "conda-env-python37-py"
  },
  "language_info": {
   "codemirror_mode": {
    "name": "ipython",
    "version": 3
   },
   "file_extension": ".py",
   "mimetype": "text/x-python",
   "name": "python",
   "nbconvert_exporter": "python",
   "pygments_lexer": "ipython3",
   "version": "3.7.5"
  }
 },
 "nbformat": 4,
 "nbformat_minor": 2
}
