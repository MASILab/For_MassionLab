{
 "cells": [
  {
   "cell_type": "code",
   "execution_count": 2,
   "metadata": {},
   "outputs": [],
   "source": [
    "import pandas as pd\n",
    "import numpy as np\n",
    "import os\n"
   ]
  },
  {
   "cell_type": "code",
   "execution_count": 18,
   "metadata": {},
   "outputs": [],
   "source": [
    "# step 1: delete the duplicated lines\n",
    "\n",
    "f = open('/nfs/masi/MCL/file/clinical/LabelFile/0421/Report_part1.csv')\n",
    "lines = f.readlines()\n",
    "set_lines = set(lines[1:])\n",
    "#print (len(lines), len(set(lines)))\n",
    "new_list = sorted(list(set_lines))\n",
    "f_new = open('/nfs/masi/MCL/file/clinical/LabelFile/0421/Report_part1_nodup.csv', 'w')\n",
    "f_new.write(lines[0])\n",
    "for i in range(len(new_list)):\n",
    "    f_new.write(new_list[i])\n",
    "f_new.close()\n"
   ]
  },
  {
   "cell_type": "code",
   "execution_count": 93,
   "metadata": {},
   "outputs": [
    {
     "name": "stdout",
     "output_type": "stream",
     "text": [
      "dup_of_13797\n",
      "dup_of_13797\n",
      "va0000000\n",
      "test\n",
      "VA De iden03\n",
      ".\n",
      ".\n",
      "dup_of_8116_1\n",
      "..\n",
      "..\n",
      "VADEIDEN2\n",
      "VA De iden04\n",
      "VADEIDENT\n",
      "VADEIDENT\n",
      "VADEIDEN1\n",
      "dup_of_8116_2\n",
      "Dup_7007\n",
      "dup_of_7727\n",
      "dup_of_7785\n",
      "dup_of_7818\n",
      "dup_of_7047\n",
      "dup_of_8203\n",
      "dup_of_9366\n",
      "034140467+\n",
      "Dupl_of 8921\n",
      "dup_of_9403\n",
      "dup_of_9560\n",
      "dup_of_9618\n"
     ]
    }
   ],
   "source": [
    "# add the MCL id to Jasper file\n",
    "f = open('/media/gaor2/8e7f6ccf-3585-4815-856e-80ce8754c5b5/data_from_NFS0421/MCL/LabelFile/0330/VUMC/MRN_in_Jasper_dict.txt')\n",
    "lines = f.readlines()[1:]\n",
    "lines = [re.split('[ \\t]', i.strip()) for i in lines]\n",
    "MRN_MCL = {}\n",
    "for i in range(len(lines)):\n",
    "    if '0' <= lines[i][0][0] and '9'>= lines[i][0][0]:\n",
    "        assert len(lines[i]) == 2\n",
    "        MRN_MCL[lines[i][0]] = lines[i][1]\n",
    "df = pd.read_csv('/nfs/masi/MCL/file/clinical/LabelFile/0421/Report_part1_nodup.csv')\n",
    "mcl_list = []\n",
    "MRN_MCL['nan'] = 'nan'\n",
    "for i, item in df.iterrows():\n",
    "    mrn = str(item['MRN']).replace('.0', '')\n",
    "    if mrn[0] == '0':\n",
    "        try:\n",
    "            mrn = str(int(mrn))\n",
    "        except:\n",
    "            mrn = mrn\n",
    "    if mrn not in MRN_MCL.keys():\n",
    "        mcl_list.append('')\n",
    "        print (mrn)\n",
    "    else:\n",
    "        mcl_list.append(MRN_MCL[mrn])\n",
    "df['MCL_ID'] = mcl_list\n",
    "df.to_csv('/nfs/masi/MCL/file/clinical/LabelFile/0421/Report_part1_nodup.csv', index = False)"
   ]
  },
  {
   "cell_type": "code",
   "execution_count": 94,
   "metadata": {},
   "outputs": [
    {
     "name": "stdout",
     "output_type": "stream",
     "text": [
      "1867 996\n"
     ]
    }
   ],
   "source": [
    "# compute with image \n",
    "\n",
    "df = pd.read_csv('/nfs/masi/MCL/file/clinical/LabelFile/0330/VUMC/Riqiang_3_30_2020_16_52_58.csv')\n",
    "subj_list = df['Subject'].tolist()\n",
    "subj_list = [re.split('[-_.]', str(i))[0] for i in subj_list]\n",
    "df = pd.read_csv('/nfs/masi/MCL/file/clinical/LabelFile/0421/Report_part1_nodup.csv')\n",
    "\n",
    "withimg_0330 = []\n",
    "withimg_sub = []\n",
    "\n",
    "for i, item in df.iterrows():\n",
    "    if str(item['MCL_ID']).replace('.0', '') in subj_list:\n",
    "        withimg_0330.append(1)\n",
    "        withimg_sub.append(item['MCL_ID'])\n",
    "    else:\n",
    "        withimg_0330.append(0)\n",
    "print (sum(withimg_0330), len(set(withimg_sub)))\n",
    "df['withimg_0330'] = withimg_0330\n",
    "df.to_csv('/nfs/masi/MCL/file/clinical/LabelFile/0421/Report_part1_nodup.csv', index = False)"
   ]
  },
  {
   "cell_type": "code",
   "execution_count": 95,
   "metadata": {},
   "outputs": [
    {
     "name": "stdout",
     "output_type": "stream",
     "text": [
      "654 372 72\n",
      "954\n"
     ]
    }
   ],
   "source": [
    "# compute how many subject with label in VUMC and VA\n",
    "#\n",
    "df = pd.read_csv('/nfs/masi/MCL/file/clinical/LabelFile/0330/VUMC/Riqiang_3_30_2020_16_52_58.csv')\n",
    "\n",
    "subj_list = df['Subject'].tolist()\n",
    "subj_list = [re.split('[-_.]', str(i))[0] for i in subj_list]\n",
    "df = pd.read_csv('/nfs/masi/MCL/file/clinical/LabelFile/0421/Report_part1_nodup.csv')\n",
    "img_pos = []\n",
    "img_neg = []\n",
    "for i, item in df.iterrows():\n",
    "    if item['withimg_0330'] == 1 and item['cancer_bengin'] == 1:\n",
    "        img_pos.append(item['MCL_ID'])\n",
    "    elif item['withimg_0330'] == 1 and item['cancer_bengin'] == 0:\n",
    "        img_neg.append(item['MCL_ID'])\n",
    "img_pos = [str(i).replace('.0', '') for i in img_pos]\n",
    "img_neg = [str(i).replace('.0', '') for i in img_neg]\n",
    "print (len(set(img_pos)), len(set(img_neg)), len(set(img_neg) & set(img_pos)))\n",
    "print (len(set(img_pos)) + len(set(img_neg)) - len(set(img_neg) & set(img_pos)))"
   ]
  },
  {
   "cell_type": "code",
   "execution_count": 96,
   "metadata": {},
   "outputs": [],
   "source": [
    "# add the cancer_bengin\n",
    "\n",
    "df = pd.read_csv('/nfs/masi/MCL/file/clinical/LabelFile/0421/Report_part1_nodup.csv')\n",
    "cancer_set = ['Sarcoma', 'Adenoid Cystic Carcinoma', 'Squamous Cell Carcinoma', 'Squamous Metaplasia', 'Adenosquamous Carcinoma', 'Small Cell Carcinoma', 'Adenocarcinoma', 'Large Cell Neuroendocrine', 'Large Cell Carcinoma', 'Bronchioalveolar Carcinoma', 'Carcinoid', 'Moderate Dysplasia', 'Atypical Carcinoid', 'Non Small Cell (NSCLC)', 'Carcinoma In Situ']\n",
    "nocancer_set = ['Negative for Malignant Cells', 'Normal', 'Negative for Dysplasia and Metaplasia', 'Granuloma ', 'Granuloma' , 'Mild Dysplasia']\n",
    "null_set = ['nan', 'Other', 'No Diagnosis', 'Unsatisfactory']\n",
    "cancer_bengin = []\n",
    "for i, item in df.iterrows():\n",
    "    \n",
    "    if item['Histologic Type'] !=  item['Histologic Type'] or item['Histologic Type'] in null_set:\n",
    "        cancer_bengin.append('')\n",
    "    elif item['Histologic Type'] in cancer_set:\n",
    "        cancer_bengin.append(1)\n",
    "    elif item['Histologic Type'] in nocancer_set:\n",
    "        cancer_bengin.append(0)\n",
    "df['cancer_bengin'] = cancer_bengin\n",
    "df.to_csv('/nfs/masi/MCL/file/clinical/LabelFile/0421/Report_part1_nodup.csv', index = False)"
   ]
  },
  {
   "cell_type": "code",
   "execution_count": 97,
   "metadata": {},
   "outputs": [],
   "source": [
    "# add the protocol name to Report_part1_nodup.csv\n",
    "df = pd.read_csv('/nfs/masi/MCL/file/clinical/LabelFile/0330/VUMC/Report_protocol.csv')\n",
    "pid_in0398 = {}\n",
    "pid_in1730 = {}\n",
    "pid_in0136 = {}\n",
    "pid_in1078 = {}\n",
    "for i, item in df.iterrows():\n",
    "    if item['Patient ID'] not in pid_in0398.keys():\n",
    "        pid_in0398[item['Patient ID']] = 0\n",
    "    \n",
    "    if item['Patient ID'] not in pid_in1730.keys():\n",
    "        pid_in1730[item['Patient ID']] = 0\n",
    "        \n",
    "    if item['Patient ID'] not in pid_in0136.keys():\n",
    "        pid_in0136[item['Patient ID']] = 0\n",
    "    \n",
    "    if item['Patient ID'] not in pid_in1078.keys():\n",
    "        pid_in1078[item['Patient ID']] = 0\n",
    "        \n",
    "    pid_in0398[item['Patient ID']]  = max(item['in0398'], pid_in0398[item['Patient ID']])\n",
    "    pid_in1730[item['Patient ID']]  = max(item['in1730'], pid_in1730[item['Patient ID']])\n",
    "    pid_in0136[item['Patient ID']]  = max(item['in0136'], pid_in0136[item['Patient ID']])\n",
    "    pid_in1078[item['Patient ID']]  = max(item['in1078'], pid_in1078[item['Patient ID']])\n",
    "    \n",
    "    \n",
    "df = pd.read_csv('/nfs/masi/MCL/file/clinical/LabelFile/0421/Report_part1_nodup.csv')\n",
    "in0398, in1730, in0136, in1078 = [], [], [],[]\n",
    "\n",
    "for i, item in df.iterrows():\n",
    "    if item['Patient ID'] not in pid_in0398:\n",
    "        in0398.append(0)\n",
    "    else:\n",
    "        in0398.append(pid_in0398[item['Patient ID']])\n",
    "        \n",
    "    if item['Patient ID'] not in pid_in1730:\n",
    "        in1730.append(0)\n",
    "    else:\n",
    "        in1730.append(pid_in1730[item['Patient ID']])\n",
    "        \n",
    "    if item['Patient ID'] not in pid_in0136:\n",
    "        in0136.append(0)\n",
    "    else:\n",
    "        in0136.append(pid_in0136[item['Patient ID']])\n",
    "        \n",
    "    if item['Patient ID'] not in pid_in1078:\n",
    "        in1078.append(0)\n",
    "    else:    \n",
    "        in1078.append(pid_in1078[item['Patient ID']])\n",
    "    \n",
    "df['in0398'] = in0398\n",
    "df['in1730'] = in1730\n",
    "df['in0136'] = in0136\n",
    "df['in1078'] = in1078\n",
    "\n",
    "df.to_csv('/nfs/masi/MCL/file/clinical/LabelFile/0421/Report_part1_nodup.csv', index = False)"
   ]
  },
  {
   "cell_type": "code",
   "execution_count": 99,
   "metadata": {},
   "outputs": [],
   "source": [
    "df1 = pd.read_csv('/nfs/masi/MCL/file/clinical/LabelFile/0330/VUMC/Report_protocol1.csv')\n",
    "df2 = pd.read_csv('/nfs/masi/MCL/file/clinical/LabelFile/0330/VUMC/Report_protocol2.csv')\n",
    "s0398_set, s1730_set, s0136_set, s1078_set = set(), set(), set(), set()\n",
    "for i, item in df1.iterrows():\n",
    "    if '0398' in str(item['Correlative Protocol']):\n",
    "        s0398_set.add(item['Patient ID'])\n",
    "    if '1730' in str(item['Correlative Protocol']):\n",
    "        s1730_set.add(item['Patient ID'])\n",
    "    if '0136' in str(item['Correlative Protocol']):\n",
    "        s0136_set.add(item['Patient ID'])\n",
    "    if '1078' in str(item['Correlative Protocol']):\n",
    "        s1078_set.add(item['Patient ID'])\n",
    "        \n",
    "for i, item in df2.iterrows():\n",
    "    if '0398' in str(item['Protocol Name']):\n",
    "        s0398_set.add(item['Patient ID'])\n",
    "    if '1730' in str(item['Protocol Name']):\n",
    "        s1730_set.add(item['Patient ID'])\n",
    "    if '0136' in str(item['Protocol Name']):\n",
    "        s0136_set.add(item['Patient ID'])\n",
    "    if '1078' in str(item['Protocol Name']):\n",
    "        s1078_set.add(item['Patient ID'])"
   ]
  },
  {
   "cell_type": "code",
   "execution_count": 100,
   "metadata": {},
   "outputs": [],
   "source": [
    "df = pd.read_csv('/nfs/masi/MCL/file/clinical/LabelFile/0421/Report_part1_nodup.csv')\n",
    "in0398, in1730, in0136, in1078 = [], [], [],[]\n",
    "\n",
    "for i, item in df.iterrows():\n",
    "    if item['Patient ID'] not in s0398_set:\n",
    "        in0398.append(0)\n",
    "    else:\n",
    "        in0398.append(1)\n",
    "        \n",
    "    if item['Patient ID'] not in s1730_set:\n",
    "        in1730.append(0)\n",
    "    else:\n",
    "        in1730.append(1)\n",
    "        \n",
    "    if item['Patient ID'] not in s0136_set:\n",
    "        in0136.append(0)\n",
    "    else:\n",
    "        in0136.append(1)\n",
    "        \n",
    "    if item['Patient ID'] not in s1078_set:\n",
    "        in1078.append(0)\n",
    "    else:    \n",
    "        in1078.append(1)\n",
    "    \n",
    "df['new_in0398'] = in0398\n",
    "df['new_in1730'] = in1730\n",
    "df['new_in0136'] = in0136\n",
    "df['new_in1078'] = in1078\n",
    "\n",
    "df.to_csv('/nfs/masi/MCL/file/clinical/LabelFile/0421/Report_part1_nodup.csv', index = False)"
   ]
  },
  {
   "cell_type": "code",
   "execution_count": 103,
   "metadata": {},
   "outputs": [
    {
     "name": "stdout",
     "output_type": "stream",
     "text": [
      "741\n"
     ]
    }
   ],
   "source": [
    "# for statisitic\n",
    "df = pd.read_csv('/nfs/masi/MCL/file/clinical/LabelFile/0421/Report_part1_nodup.csv')\n",
    "#df = df.query('cancer_bengin == cancer_bengin')\n",
    "df = df.loc[df['withimg_0330'] == 1]\n",
    "df_0 = df.loc[(df['new_in0136'] == 1) | (df['new_in0398'] == 1)]\n",
    "MCL_list = df_0['MRN'].tolist()\n",
    "MCL_list = [str(i).replace('.0', '') for i in MCL_list]\n",
    "print (len(set(MCL_list)))"
   ]
  },
  {
   "cell_type": "code",
   "execution_count": 118,
   "metadata": {},
   "outputs": [
    {
     "name": "stdout",
     "output_type": "stream",
     "text": [
      "403 2190 10628\n"
     ]
    }
   ],
   "source": [
    "# got the spicu and upper lobe \n",
    "df = pd.read_csv('/nfs/masi/MCL/file/clinical/LabelFile/0421/Report_part1_nodup.csv')\n",
    "spicul = []\n",
    "for i, item in df.iterrows():\n",
    "    if 'spicu' in str(item['Chest CT Notes']) or 'spicu' in str(item['PET Notes']):\n",
    "        spicul.append(1)\n",
    "    else:\n",
    "        spicul.append(0)\n",
    "\n",
    "allset = (set(df['Chest CT Location'].tolist()))\n",
    "Upper_set = ['LUL/RLL',  'LUL&RLL','LUL','RUL & LUL',  'LUL & RUL','LUL & LLL','RUL, LUL', 'RML & LUL',  \n",
    "' LUL', 'RUL ','RLL & LUL',  'LUL ', 'RLL & RUL',  'RUL & RLL',  'RUL',  'RUL(hilar)']\n",
    "upper_list = []\n",
    "for i, item in df.iterrows():\n",
    "    if str(item['Chest CT Location']) in Upper_set:\n",
    "        upper_list.append(1)\n",
    "    else:\n",
    "        upper_list.append(0)\n",
    "df['spicul'] = spicul\n",
    "df['upperlobe'] = upper_list\n",
    "df.to_csv('/nfs/masi/MCL/file/clinical/LabelFile/0421/Report_part1_nodup.csv', index = False)\n",
    "print (sum(spicul), sum(upper_list), len(df))"
   ]
  },
  {
   "cell_type": "code",
   "execution_count": 108,
   "metadata": {},
   "outputs": [
    {
     "name": "stdout",
     "output_type": "stream",
     "text": [
      "758 11578\n",
      "759 11578\n",
      "8781 6829\n"
     ]
    }
   ],
   "source": [
    "# normalize the somking and nodule size\n",
    "\n",
    "df = pd.read_csv('/nfs/masi/MCL/file/clinical/LabelFile/0421/Report_part1_nodup.csv')\n",
    "nodule_size, smok = [], []\n",
    "#print (set(df['CIGARETTE_Q1'].tolist()))\n",
    "prior_cancer = []\n",
    "for i, item in df.iterrows():\n",
    "    if item['Prior Cancer'] != item['Prior Cancer']:\n",
    "        prior_cancer.append('')\n",
    "    elif item['Prior Cancer'] == 'Yes':\n",
    "        prior_cancer.append(1)\n",
    "    elif item['Prior Cancer'] == 'No':\n",
    "        prior_cancer.append(0)\n",
    "    if item['CIGARETTE_Q1'] != item['CIGARETTE_Q1'] or item['CIGARETTE_Q1'] == 'Unknown':\n",
    "        smok.append('')\n",
    "    elif item['CIGARETTE_Q1'] == 'Never smoked':\n",
    "        smok.append(0)\n",
    "    elif item['CIGARETTE_Q1'] in ['Current smoker', 'Ex-smoker']:\n",
    "        smok.append(1)\n",
    "    if item['Chest CT Size'] != item['Chest CT Size']:\n",
    "        nodule_size.append('')\n",
    "    else:\n",
    "        if item['Chest CT Size'] > 15:\n",
    "            print (i, item['Patient ID'])\n",
    "        nodule_size.append(item['Chest CT Size'] * 10)\n",
    "    \n",
    "df['nodule_size'] = nodule_size\n",
    "df['smok'] = smok\n",
    "df['prior_cancer'] = prior_cancer\n",
    "df.to_csv('/nfs/masi/MCL/file/clinical/LabelFile/0421/Report_part1_nodup.csv', index = False)"
   ]
  },
  {
   "cell_type": "code",
   "execution_count": 122,
   "metadata": {},
   "outputs": [
    {
     "name": "stdout",
     "output_type": "stream",
     "text": [
      "Jan 30, 1989 6/18/93 4.38 1127\n",
      "Jan 26, 2015 Jul 6, 2015 0.44 11703\n",
      "Dec 29, 1988 Nov 3, 2004 15.86 11772\n",
      "Aug 8, 1986 Jul 7, 2005 18.93 11775\n",
      "Nov 25, 1933 11/30/37 4.02 1692\n",
      "May 5, 2001 10/11/01 0.44 2199\n",
      "Dec 13, 1966 7/1/82 15.56 3049\n",
      "Jul 26, 1977 9/1/80 3.1 3140\n",
      "Jun 1, 1978 2/1/96 17.68 4044\n",
      "Dec 16, 1988 7/6/00 11.56 406\n",
      "Jun 10, 1945 Apr 5, 5005 3061.85 5322\n",
      "Sep 17, 1992 Nov 23, 2011 19.19 8661\n"
     ]
    }
   ],
   "source": [
    "from datetime import datetime\n",
    "import re\n",
    "\n",
    "def convert_to_time1(string):\n",
    "    month_dict = {'Jan': 1, 'Feb': 2, 'Mar': 3, 'Apr': 4, 'May': 5, 'Jun': 6, 'Jul': 7, 'Aug': 8, 'Sep': 9, 'Oct': 10, 'Nov': 11, 'Dec': 12}\n",
    "    str_vec = re.split('[ ,]', string)\n",
    "    str_vec = [i for i in str_vec if len(i) > 0]\n",
    "    #print (str_vec)\n",
    "    assert len(str_vec) == 3\n",
    "    return datetime(int(str_vec[2]), month_dict[str_vec[0]], int(str_vec[1]))\n",
    "\n",
    "def convert_to_time2(string):\n",
    "    str_vec = re.split('[/]', string)\n",
    "    \n",
    "    assert len(str_vec) == 3\n",
    "    int_vec = [int(i) for i in str_vec]\n",
    "    \n",
    "    assert int_vec[0] < 13 and int_vec[1] < 32 and int_vec[2] < 100\n",
    "#     except:\n",
    "#         print (string)\n",
    "    if int_vec[2] < 21:\n",
    "        int_vec[2] += 2000\n",
    "    else:\n",
    "        int_vec[2] += 1900\n",
    "    return datetime(int_vec[2], int_vec[0], int_vec[1])\n",
    "\n",
    "df = pd.read_csv('/nfs/masi/MCL/file/clinical/LabelFile/0421/Report_part1_nodup.csv')\n",
    "\n",
    "diagage_list, ctage_list = [], []\n",
    "for i, item in df.iterrows():\n",
    "    #print (len(df), i)\n",
    "    \n",
    "    if item['Date of Birth'] == item['Date of Birth'] and item['Diagnosis Date'] == item['Diagnosis Date']:\n",
    "        diagage = convert_to_time2(item['Diagnosis Date']) - convert_to_time1(item['Date of Birth'])\n",
    "        diagage = round(diagage.days / 365.0, 2)\n",
    "        try:\n",
    "            assert diagage < 100 and diagage > 20\n",
    "            diagage_list.append(diagage)\n",
    "        except:\n",
    "            print (item['Date of Birth'], item['Diagnosis Date'], diagage, item['Patient ID'])\n",
    "            diagage_list.append('')\n",
    "    else:\n",
    "        diagage_list.append('')\n",
    "        \n",
    "    if item['Date of Birth'] == item['Date of Birth'] and item['Chest CT Date (MM/YY)'] == item['Chest CT Date (MM/YY)']:\n",
    "        try:\n",
    "            ctage = convert_to_time1(item['Chest CT Date (MM/YY)']) - convert_to_time1(item['Date of Birth'])\n",
    "        except:\n",
    "            ctage = convert_to_time1(item['Chest CT Notes']) - convert_to_time1(item['Date of Birth'])\n",
    "        ctage = round(ctage.days / 365.0, 2)\n",
    "        try:\n",
    "            assert ctage < 100 and ctage > 20\n",
    "            ctage_list.append(ctage)\n",
    "        except:\n",
    "            print (item['Date of Birth'], item['Chest CT Date (MM/YY)'] , ctage, item['Patient ID'])\n",
    "            ctage_list.append('')\n",
    "    else:\n",
    "        ctage_list.append('')\n",
    "df['diagage'] =  diagage_list \n",
    "df['ctage'] = ctage_list\n",
    "df.to_csv('/nfs/masi/MCL/file/clinical/LabelFile/0421/Report_part1_nodup.csv', index = False)"
   ]
  },
  {
   "cell_type": "code",
   "execution_count": 9,
   "metadata": {},
   "outputs": [],
   "source": [
    "import re\n",
    "def convert_to_time2(string):\n",
    "    str_vec = re.split('[/]', string)\n",
    "    \n",
    "    assert len(str_vec) == 3\n",
    "    int_vec = [int(i) for i in str_vec]\n",
    "    \n",
    "    assert int_vec[0] < 13 and int_vec[1] < 32 and int_vec[2] < 100\n",
    "\n",
    "    if int_vec[2] < 21:\n",
    "        int_vec[2] += 2000\n",
    "    else:\n",
    "        int_vec[2] += 1900\n",
    "    \n",
    "    \n",
    "    return str(int_vec[2]) +  str(int_vec[0]).zfill(2) + str(int_vec[1]).zfill(2)\n",
    "\n",
    "\n",
    "df = pd.read_csv('/nfs/masi/MCL/file/clinical/LabelFile/0421/Report_part1_nodup.csv')\n",
    "diagdate_norm = [] \n",
    "for i, item in df.iterrows():\n",
    "    if item['Diagnosis Date'] == item['Diagnosis Date']:\n",
    "        diagdate_norm.append(convert_to_time2(str(item['Diagnosis Date'])))\n",
    "    else:\n",
    "        diagdate_norm.append('')\n",
    "df['diagdate_norm'] = diagdate_norm\n",
    "df.to_csv('/nfs/masi/MCL/file/clinical/LabelFile/0421/Report_part1_nodup.csv', index = False)"
   ]
  },
  {
   "cell_type": "code",
   "execution_count": 134,
   "metadata": {},
   "outputs": [],
   "source": [
    "def Mayo(age, ciga, cancer, diameter, spicul, upper):\n",
    "    ori_val = -6.827 + 0.0391 * age + 0.7917 * ciga +  1.3388 * cancer + 0.1274 * diameter + 1.0407 * spicul + 0.7838 * upper\n",
    "    prob = np.exp(ori_val) / (1 + np.exp(ori_val))\n",
    "    return round(ori_val, 3), round(prob, 3)\n",
    "mayo_diag, mayo_ct =[], []\n",
    "df = pd.read_csv('/nfs/masi/MCL/file/clinical/LabelFile/0421/Report_part1_nodup.csv')\n",
    "for i, item in df.iterrows():\n",
    "    if item['prior_cancer'] != item['prior_cancer'] or item['upperlobe'] != item['upperlobe'] or item['diagage'] != item['diagage'] or item['spicul'] != item['spicul'] or item['nodule_size'] != item['nodule_size'] or item['smok'] != item['smok']:\n",
    "        mayo_diag.append('')\n",
    "    else:\n",
    "        mayo_diag.append(Mayo(item['diagage'], item['smok'], item['prior_cancer'], item['nodule_size'], item['spicul'], item['upperlobe'])[-1])\n",
    "        \n",
    "    if item['prior_cancer'] != item['prior_cancer'] or item['upperlobe'] != item['upperlobe'] or item['ctage'] != item['ctage'] or item['spicul'] != item['spicul'] or item['nodule_size'] != item['nodule_size'] or item['smok'] != item['smok']:\n",
    "        mayo_ct.append('')\n",
    "    else:\n",
    "        mayo_ct.append(Mayo(item['ctage'], item['smok'], item['prior_cancer'], item['nodule_size'], item['spicul'], item['upperlobe'])[-1])\n",
    "        \n",
    "df['mayo_diag']  = mayo_diag\n",
    "df['mayo_ct']  = mayo_ct\n",
    "df.to_csv('/nfs/masi/MCL/file/clinical/LabelFile/0421/Report_part1_nodup.csv', index = False)"
   ]
  },
  {
   "cell_type": "code",
   "execution_count": 3,
   "metadata": {},
   "outputs": [
    {
     "name": "stdout",
     "output_type": "stream",
     "text": [
      "716 554\n"
     ]
    }
   ],
   "source": [
    "df = pd.read_csv('/nfs/masi/MCL/file/clinical/LabelFile/0421/Report_part1_nodup.csv')\n",
    "df = df.query('cancer_bengin == cancer_bengin')\n",
    "df = df.loc[df['withimg_0330'] == 1]\n",
    "df = df.loc[(df['mayo_diag'] ==df['mayo_diag']) | (df['mayo_ct'] ==df['mayo_ct'])]\n",
    "df_cancer = df.query('cancer_bengin == 1')\n",
    "print (len(set(df['MCL_ID'].tolist())), len(set(df_cancer['MCL_ID'].tolist())))"
   ]
  },
  {
   "cell_type": "code",
   "execution_count": 5,
   "metadata": {},
   "outputs": [
    {
     "name": "stdout",
     "output_type": "stream",
     "text": [
      "357 256\n"
     ]
    }
   ],
   "source": [
    "df = pd.read_csv('/nfs/masi/MCL/file/clinical/LabelFile/0421/Report_part1_nodup.csv')\n",
    "df = df.query('cancer_bengin == cancer_bengin')\n",
    "df = df.loc[df['withimg_0330'] == 1]\n",
    "df = df.loc[(df['mayo_diag'] ==df['mayo_diag']) | (df['mayo_ct'] ==df['mayo_ct'])]\n",
    "\n",
    "df = df.query('new_in0398 == 1 or new_in1730 == 1 or new_in0136 == 1 or new_in1078 == 1')\n",
    "\n",
    "df = df.query('nodule_size > 5.9 and nodule_size < 30.1')\n",
    "\n",
    "mcl_list = []\n",
    "cancer_list = []\n",
    "for i, item in df.iterrows():\n",
    "    try:\n",
    "        if item['mayo_diag'] == item['mayo_diag'] and item['mayo_diag'] >= 0.05 and item['mayo_diag'] <= 0.65:\n",
    "            mcl_list.append(item['MCL_ID'])\n",
    "            if item['cancer_bengin'] == 1:\n",
    "                cancer_list.append(item['MCL_ID'])\n",
    "        elif item['mayo_ct'] == item['mayo_ct'] and item['mayo_ct'] >= 0.05 and item['mayo_ct'] <= 0.65:\n",
    "            mcl_list.append(item['MCL_ID'])\n",
    "            if item['cancer_bengin'] == 1:\n",
    "                cancer_list.append(item['MCL_ID'])\n",
    "    except:\n",
    "        print (item['mayo_diag'], item['mayo_ct'])\n",
    "print (len(set(mcl_list)), len(set(cancer_list)))\n"
   ]
  },
  {
   "cell_type": "code",
   "execution_count": 13,
   "metadata": {},
   "outputs": [],
   "source": [
    "df = pd.read_csv('/nfs/masi/MCL/file/clinical/LabelFile/0421/Report_part1_nodup.csv')\n",
    "df = df.query('cancer_bengin == cancer_bengin')\n",
    "df = df.loc[df['withimg_0330'] == 1]\n",
    "df = df.loc[(df['mayo_diag'] ==df['mayo_diag']) | (df['mayo_ct'] ==df['mayo_ct'])]\n",
    "\n",
    "df = df.query('new_in0398 == 1 or new_in1730 == 1 or new_in0136 == 1 or new_in1078 == 1')\n",
    "\n",
    "df = df.query('nodule_size > 5.9 and nodule_size < 30.1')\n",
    "\n",
    "df.to_csv('/nfs/masi/MCL/file/clinical/LabelFile/0421/Report_mayo5_65_nod6_30.csv', index = False)"
   ]
  },
  {
   "cell_type": "code",
   "execution_count": 20,
   "metadata": {},
   "outputs": [
    {
     "name": "stdout",
     "output_type": "stream",
     "text": [
      "13198007362_05_02\n",
      "13899683756_04_27\n",
      "18880161965_03_13\n",
      "18880161965_04\n",
      "18880161965_04_03\n",
      "18880161965_05\n",
      "18880161965_08\n",
      "18880161965_11_14\n",
      "19669946331__093734_859000\n",
      "20817757605_07_16\n",
      "23797390280_04\n",
      "23797390280_06\n",
      "30041657825__130053_000000\n",
      "31041894607__171930_606000\n",
      "33400829042__101902\n",
      "35016263731_04_03\n",
      "3706595794_2_20181114\n",
      "37660576714_2_20171003\n",
      "39479816584__152913_125000\n",
      "40437992060_08\n",
      "42157034411_05\n",
      "5594368416_1_20190128_094102\n",
      "5594368416_2_20190730_081000_812000\n",
      "5847948632_1_20190718_171829_437000\n",
      "5847948632_2_20190927_104258_653000\n",
      "7107891308_04_12\n"
     ]
    }
   ],
   "source": [
    "# to see how many long in MCL with csv files\n",
    "import re\n",
    "df  = pd.read_csv('/nfs/masi/MCL/file/clinical/LabelFile/0421/Riqiang_5_12_2020_8_52_28.csv')\n",
    "subj_sess = {}\n",
    "for i, item in df.iterrows():\n",
    "    tmp_list = re.split('[_-]', item['XNAT_CTSESSIONDATA ID'])\n",
    "    subj = tmp_list[0]\n",
    "    if tmp_list[0] == tmp_list[1]:\n",
    "        sess = tmp_list[2]\n",
    "    else:\n",
    "        sess = tmp_list[1]\n",
    "    if len(sess) != 8 and len(tmp_list) >=4:\n",
    "        sess = tmp_list[3] + tmp_list[1] + tmp_list[2]\n",
    "    try:\n",
    "        assert len(sess) == 8\n",
    "    except:\n",
    "        print (item['XNAT_CTSESSIONDATA ID'])\n",
    "        continue\n",
    "    if subj not in subj_sess.keys():\n",
    "        subj_sess[subj] = []\n",
    "    subj_sess[subj].append(sess)\n",
    "\n"
   ]
  },
  {
   "cell_type": "code",
   "execution_count": 52,
   "metadata": {},
   "outputs": [
    {
     "name": "stdout",
     "output_type": "stream",
     "text": [
      "[1, 1, 1, 1, 1, 1, 1, 1, 1, 1, '', 6, 6, 4, 4, 4, 1, 1, 1, 1, 2, 2, 6, 6, 2, 2, 0, 0, 1, 1, 1, 1, 1, 1, 1, 1, 1, '', 1, 1, 1, 1, 1, 1, 5, 5, 5, 5, 1, 1, 1, 1, 1, 1, 1, 1, 1, 1, 1, 1, 1, 1, 6, 6, 6, 6, 1, 1, 1, 1, 1, 1, 1, 1, 2, 2, 2, 2, 2, 2, 1, 1, 1, 1, 1, 1, 0, 0, 1, 1, 1, 1, 1, 1, 5, 3, 4, 4, 4, 1, 1, 1, 1, 1, 2, 2, 2, 2, 4, 4, 1, 1, 2, 2, 1, 1, 1, 1, 1, 1, 4, 4, 4, 4, 4, 4, 4, 4, 1, 1, '', 1, 1, 3, 3, 3, 3, 1, 1, 2, 2, 2, 2, 2, 2, '', '', 1, 4, 4, 4, 4, 5, 7, 7, 7, 7, 2, 1, 1, 1, 1, 1, 1, 1, 4, 2, 1, 3, 3, 1, 1, 3, 3, 3, 3, 3, 2, 2, 1, 1, 1, 1, 2, 2, 1, 1, 1, 3, 3, 1, 1, 1, 1, 1, 1, 1, 0, 0, 0, 0, 1, 7, 7, 7, 7, 0, 0, 9, 0, 3, 1, 4, '', 1, 2, 2, 1, 1, 8, 8, 8, 8, 8, 8, 4, 4, 4, 4, 4, 4, 4, 4, 4, 4, 4, 4, 1, 1, 3, 3, 1, 1, 5, 5, 5, 5, 1, 1, 1, 1, 3, 3, 1, 1, 1, 1, 2, 3, 3, 3, 3, 3, 3, 2, 1, 1, 3, 3, 3, 3, 3, 1, 1, 1, 1, 1, 1, 1, 1, 3, 2, 2, 1, 1, 3, 4, 4, 4, 4, 1, 1, 1, 1, 0, 4, 4, 0, 0, 0, 4, 2, 2, 2, 2, 2, 2, 1, 2, 2, 2, 2, 2, 2, 1, 1, 1, 1, 1, 1, 1, 5, 5, 1, 6, 6, 6, 0, 0, 2, 2, 2, 2, 2, 2, 2, 1, 1, 1, 1, 1, 3, 3, 3, 1, 1, 1, 1, 1, 5, 5, 5, 5, 1, 1, 1, 1, 1, 1, 1, '', 4, 4, 1, 4, 4, 4, 4, 4, 4, 4, 4, 1, 1, 2, 2, 3, 3, 2, 1, 1, 1, 1, 4, 4, 1, 6, 6, 1, 3, 3, 3, 7, 7, 3, 3, 1, 1, 1, 1, 5, 5, 5, 1, 1, 6, 6, 2, 2, 0, 0, 0, 0, 12, 12, 3, 3, 3, 3, 4, 3, 3, 1, 1, 1, 1, 1, 1, 1, 1, 1, 1, 6, 6, '', 5, 5, 21, 3, 3, 3, 1, 1, 1, 3, 1, 1, 1, 1, 1, 1, 1, 1, 16, 16, 1, 3, 5, 5, 3, 3, 3, 3, 1, 1, 1, 1, 4, 1, 1, 3, 3, 5, 1, 3, 1, 1, 3, 3, 3, 3, 1, 1, 0, 1, 1, 1, 0, 1, 1, 1, 1, 1, 1, 1, 1, 1, 1, 0, 0, 1, 1, 0, 1, 3, 1, 1, 1, 1, 1, 1, 1, 1, 0, 0, 5, 5, 1, 1, 1, 3, 3, 1, 1, 1, 1, 1, 1, 1, 1, 3, 1, 0, 2, 1, 1, 1, 1, 1, 1, 1, 2, 1, 1, 1, 1, 1, 0, 1, 1, 1, 2, 1, 1, 1, 1, 1, 4, 4, 0, 1, 3, 3, 1, 1, 1, 1, 1, 1, 1, 1, 1, 1, 1, 1, 2, 2, 1, 1, 1, 1, 1, 1, 1, 1, 1, 1, 1, 1, 1, 1, 1, 1, 0, 0, 1, 1, 1, 1, 1, 1, 0, 1, 1, 1, 1, 1, 1, 1, 1, 1, 2, 1, 1, 1, 1, 1, 1, 1, 1, 1, 1, 4, 4, 4, 1, 1, 1, 1, 1, 1, 1, 1, 4, 1, 1, 1, 1, 2, 1, 8, 8, 8, 8, 8, 8, '', 1, 1, 0, 0, 1, 1, 1, 1, 1, 3, 1, 1, 1, 1, 1, 1, 1, 1, 1, 1, 1, 1, 1, 1, 0, 1, 1, 1, 1, 1, 1, 1, 1, 1, 0, 1, 1, 2, 1, 1, '', '', 1, 1, 1, 0, 0, 1, 1, 1, 2, 1, 1, 1, 1, 1, 2, 0, 2, 1, 1, 2, 1, 1, 1, 2, 1, 1, 4, 0, 1, 2, 1, 1, 1, 0, 3, 3, 3, 3, 3, 3, '', 1, 1, 1, 1, 1, 1, 1, 1, 1, 1, 1, 1, 1, 5, 5, 0, 1, 1, 1, 1, 1, 0, 1, 1, 1, 1, 1, 2, 1, 0, 0, 1, 6, 6, 6, 6, 6, 6, 6, 6, 1, 1, 1, 1, 1, '', 1, 1, '', '', 1, 1, 1, 1, 1, 0, 1, 1, 1, 1, 1, 1, 1, 1, 1, 1, 1, 1, 1, 1, 1, 2, 1, 1, 1, 1, 1, '', '', 1, 1, 0, 1, 1, 1, 1, 1, 1, 1, 2, 2, 7, 7, 7, 7, 1, '', 1, 1, 1, 1, 1, 1, 1, 1, 1, 1, 1, 1, 0, 4, 1, 1, 6, 6, 1, 1, 1, 6, 6, 2, 1, 1, 1]\n"
     ]
    }
   ],
   "source": [
    "# add how many cts in csv file\n",
    "\n",
    "data_root = '/nfs/masi/MCL/nifti/combine'\n",
    "subj_list = os.listdir(data_root)\n",
    "subj_sess = {}\n",
    "\n",
    "for i in range(len(subj_list)):\n",
    "    sess_list = os.listdir(data_root + '/' + subj_list[i])\n",
    "    subj_sess[subj_list[i]] = len(sess_list)\n",
    "\n",
    "df = pd.read_csv('/nfs/masi/MCL/file/clinical/LabelFile/0421/Report_mayo5_65_nod6_30.csv')\n",
    "cntCT = []\n",
    "for i, item in df.iterrows():\n",
    "    subj = str(item['MCL_ID']).replace('.0', '')\n",
    "    if subj in subj_sess.keys():\n",
    "        cntCT.append(subj_sess[subj])\n",
    "    else:\n",
    "        cntCT.append('')\n",
    "print (cntCT)\n",
    "df['cntCT'] = cntCT\n",
    "df.to_csv('/nfs/masi/MCL/file/clinical/LabelFile/0421/Report_mayo5_65_nod6_30.csv', index = False)\n"
   ]
  },
  {
   "cell_type": "code",
   "execution_count": 54,
   "metadata": {},
   "outputs": [
    {
     "name": "stdout",
     "output_type": "stream",
     "text": [
      "133\n"
     ]
    }
   ],
   "source": [
    "df = pd.read_csv('/nfs/masi/MCL/file/clinical/LabelFile/0421/Report_mayo5_65_nod6_30.csv')\n",
    "\n",
    "df = df.query('cntCT > 1')\n",
    "#df = df.query('cancer_bengin == 1')\n",
    "print (len(set(df['MCL_ID'].tolist())))\n",
    "        \n"
   ]
  },
  {
   "cell_type": "code",
   "execution_count": null,
   "metadata": {},
   "outputs": [],
   "source": [
    "all_list = pd.read_csv('/nfs/masi/NLST/package-nlst-7-2018.09.24')"
   ]
  },
  {
   "cell_type": "code",
   "execution_count": 85,
   "metadata": {},
   "outputs": [
    {
     "name": "stdout",
     "output_type": "stream",
     "text": [
      "{'209170', '218583'}\n"
     ]
    }
   ],
   "source": [
    "# this is a tmp cell, for ppm \n",
    "\n",
    "df = pd.read_excel('/nfs/masi/NLST/file/for_PPM/ICs from NLST.xlsx', sheet_name = 'Sheet1')\n",
    "#df = pd.read_excel('/nfs/masi/NLST/file/for_PPM/latestage nlst.xlsx', sheet_name = 'Sheet1')\n",
    "#df = pd.read_excel('')\n",
    "pid = df['pid'].tolist()\n",
    "pid = [str(i) for i in pid]\n",
    "\n",
    "data_list = os.listdir('/nfs/masi/gaor2/tmp/dcm4che_push')\n",
    "#data_list = \n",
    "print (set(pid) - set(data_list))\n",
    "# for subj in pid:\n",
    "#     print (subj)\n",
    "#     os.system('cp -r /nfs/masi/NLST/ORI_DICOM/NLST_cancer/' + subj + ' /nfs/masi/gaor2/tmp/dcm4che_push/')"
   ]
  },
  {
   "cell_type": "code",
   "execution_count": 84,
   "metadata": {},
   "outputs": [
    {
     "ename": "SyntaxError",
     "evalue": "unexpected EOF while parsing (<ipython-input-84-d5b6492536cd>, line 5)",
     "output_type": "error",
     "traceback": [
      "\u001b[0;36m  File \u001b[0;32m\"<ipython-input-84-d5b6492536cd>\"\u001b[0;36m, line \u001b[0;32m5\u001b[0m\n\u001b[0;31m    #os.system('/home/local/VANDERBILT/gaor2/dcm4che-5.22.2-bin/dcm4che-5.22.2/bin/storescu -c HMUVMCSCP@healthmyne-dev.app.vumc.org:1040 ' + data_root + '/' + subj)\u001b[0m\n\u001b[0m                                                                                                                                                                     ^\u001b[0m\n\u001b[0;31mSyntaxError\u001b[0m\u001b[0;31m:\u001b[0m unexpected EOF while parsing\n"
     ]
    }
   ],
   "source": [
    "data_root = '/nfs/masi/gaor2/tmp/dcm4che_push'\n",
    "data_list = os.listdir(data_root)\n",
    "for subj in data_list:\n",
    "    #print ('/home/local/VANDERBILT/gaor2/dcm4che-5.22.2-bin/dcm4che-5.22.2/bin/storescu -c HMUVMCSCP@healthmyne-dev.app.vumc.org:1040 ' + data_root + '/' + subj)\n",
    "    #os.system('/home/local/VANDERBILT/gaor2/dcm4che-5.22.2-bin/dcm4che-5.22.2/bin/storescu -c HMUVMCSCP@healthmyne-dev.app.vumc.org:1040 ' + data_root + '/' + subj)"
   ]
  },
  {
   "cell_type": "code",
   "execution_count": 69,
   "metadata": {},
   "outputs": [
    {
     "name": "stdout",
     "output_type": "stream",
     "text": [
      "17628\n"
     ]
    }
   ],
   "source": []
  },
  {
   "cell_type": "code",
   "execution_count": null,
   "metadata": {},
   "outputs": [],
   "source": [
    "''"
   ]
  }
 ],
 "metadata": {
  "kernelspec": {
   "display_name": "Python [conda env:python37]",
   "language": "python",
   "name": "conda-env-python37-py"
  },
  "language_info": {
   "codemirror_mode": {
    "name": "ipython",
    "version": 3
   },
   "file_extension": ".py",
   "mimetype": "text/x-python",
   "name": "python",
   "nbconvert_exporter": "python",
   "pygments_lexer": "ipython3",
   "version": "3.7.5"
  }
 },
 "nbformat": 4,
 "nbformat_minor": 2
}
