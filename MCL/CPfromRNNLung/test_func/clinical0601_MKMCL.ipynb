{
 "cells": [
  {
   "cell_type": "code",
   "execution_count": 7,
   "metadata": {},
   "outputs": [],
   "source": [
    "import pandas as pd\n",
    "import re\n",
    "import os\n",
    "import matplotlib.pyplot as plt\n"
   ]
  },
  {
   "cell_type": "code",
   "execution_count": 62,
   "metadata": {},
   "outputs": [],
   "source": [
    "# make a more complete spreadsheet\n",
    "\n",
    "df = pd.read_csv('/nfs/masi/MCL/file/clinical/LabelFile/0421/Report_part1_nodup.csv')\n",
    "pid_mclid = {}\n",
    "for i, item in df.iterrows():\n",
    "    if item['MCL_ID'] == item['MCL_ID'] and item['Patient ID'] == item['Patient ID']:\n",
    "        pid = str(item['Patient ID']).replace('.0', '')\n",
    "        mclid = str(item['MCL_ID']).replace('.0', '')\n",
    "        pid_mclid[pid] = mclid\n",
    "df = pd.read_excel('/nfs/masi/MCL/file/clinical/LabelFile/0601MK/IPN_biomarker-MK_nopassword.xlsx')\n",
    "more_MCLID = []\n",
    "for i, item in df.iterrows():\n",
    "    pid = str(item['Patient.ID']).replace('.0', '')\n",
    "    if pid in pid_mclid.keys():\n",
    "        more_MCLID.append(pid_mclid[pid])\n",
    "    else:\n",
    "        more_MCLID.append('')\n",
    "df['more_MCLID'] = more_MCLID\n",
    "df.to_excel('/nfs/masi/MCL/file/clinical/LabelFile/0601MK/IPN_biomarker-MK_nopassword.xlsx')"
   ]
  },
  {
   "cell_type": "code",
   "execution_count": 67,
   "metadata": {},
   "outputs": [],
   "source": [
    "df = pd.read_excel('/nfs/masi/MCL/file/clinical/LabelFile/0601MK/IPN_biomarker-MK_nopassword.xlsx')\n",
    "new_MCLID = []\n",
    "for i, item in df.iterrows():\n",
    "    oriID = str(item['MCL.ID']).replace('.0', '')\n",
    "    moreID = str(item['more_MCLID']).replace('.0', '')\n",
    "    if len(moreID) > 8 and len(oriID) > 8:\n",
    "        if moreID == oriID:\n",
    "            new_MCLID.append(oriID)\n",
    "        else:\n",
    "            new_MCLID.append(item['Patient.ID'])\n",
    "    elif len(moreID) > 8:\n",
    "        new_MCLID.append(moreID)\n",
    "    elif len(oriID) > 8:\n",
    "        new_MCLID.append(oriID)\n",
    "    else:\n",
    "        new_MCLID.append(item['Patient.ID'])\n",
    "df['MCL_ID'] = new_MCLID\n",
    "df.to_excel('/nfs/masi/MCL/file/clinical/LabelFile/0601MK/IPN_biomarker-MK_nopassword.xlsx', index = False)\n",
    "        "
   ]
  },
  {
   "cell_type": "code",
   "execution_count": 70,
   "metadata": {},
   "outputs": [
    {
     "name": "stdout",
     "output_type": "stream",
     "text": [
      "371\n"
     ]
    }
   ],
   "source": [
    "# add has.both colum\n",
    "df = pd.read_excel('/nfs/masi/MCL/file/clinical/LabelFile/0601MK/IPN20200605_nopassword.xlsx')\n",
    "hasboth_list = df['Patient.ID'].tolist()\n",
    "hasboth_list = [str(i).replace('.0', '') for i in hasboth_list]\n",
    "df = pd.read_excel('/nfs/masi/MCL/file/clinical/LabelFile/0601MK/IPN_biomarker-MK_nopassword.xlsx')\n",
    "\n",
    "hasboth = []\n",
    "for i, item in df.iterrows():\n",
    "    pid = str(item['Patient.ID']).replace('.0', '')\n",
    "    if pid in hasboth_list:\n",
    "        hasboth.append(1)\n",
    "    else:\n",
    "        hasboth.append(0)\n",
    "print (sum(hasboth))\n",
    "df['hasboth'] = hasboth\n",
    "df.to_excel('/nfs/masi/MCL/file/clinical/LabelFile/0601MK/IPN_biomarker-MK_nopassword.xlsx', index = False)"
   ]
  },
  {
   "cell_type": "code",
   "execution_count": 26,
   "metadata": {},
   "outputs": [],
   "source": [
    "prep_list = os.listdir('/nfs/masi/MCL/DSB_File/prep')\n",
    "prep_list = [re.split('t', i)[0] for i in prep_list]"
   ]
  },
  {
   "cell_type": "code",
   "execution_count": 68,
   "metadata": {},
   "outputs": [],
   "source": [
    "# add withimg column\n",
    "\n",
    "df = pd.read_csv('/nfs/masi/MCL/file/clinical/LabelFile/0601MK/Riqiang_6_1_2020_11_31_35.csv')\n",
    "\n",
    "subj_list = df['Subject'].tolist()\n",
    "subj_list = [re.split('[-_.]', str(i))[0] for i in subj_list]\n",
    "df = pd.read_excel('/nfs/masi/MCL/file/clinical/LabelFile/0601MK/IPN_biomarker-MK_nopassword.xlsx')\n",
    "\n",
    "withimg0601 = []\n",
    "\n",
    "for i, item in df.iterrows():\n",
    "    mclid = str(item['MCL_ID']).replace('.0', '')\n",
    "    if mclid in subj_list:\n",
    "        withimg0601.append(1)\n",
    "    else:\n",
    "        withimg0601.append(0)\n",
    "df['withimg0601'] = withimg0601\n",
    "df.to_excel('/nfs/masi/MCL/file/clinical/LabelFile/0601MK/IPN_biomarker-MK_nopassword.xlsx')"
   ]
  },
  {
   "cell_type": "code",
   "execution_count": 13,
   "metadata": {},
   "outputs": [],
   "source": [
    "# see how many long subject in \n",
    "df = pd.read_csv('/nfs/masi/gaor2/data/Cotrain/clinical_spore/mcl/IPN_biomarker-MK_nopassword.csv')\n",
    "data_path = '/nfs/masi/MCL/nifti/combine'\n",
    "data_list = os.listdir(data_path)\n",
    "#subj_sess = {}\n",
    "subjCnt, longCnt = [], []\n",
    "for i, item in df.iterrows():\n",
    "    mclid = str(item['MCL_ID']).replace('.0', '')\n",
    "    if mclid in data_list:\n",
    "        subjCnt.append(mclid)\n",
    "        if len(os.listdir(data_path + '/' + mclid)) > 1:\n",
    "            longCnt.append(mclid)\n",
    "islong0601 = []\n",
    "for i, item in df.iterrows():\n",
    "    mclid = str(item['MCL_ID']).replace('.0', '')\n",
    "    if mclid in longCnt:\n",
    "        islong0601.append(1)\n",
    "    else:\n",
    "        islong0601.append(0)\n",
    "df['islong0601'] = islong0601\n",
    "df.to_csv('/nfs/masi/gaor2/data/Cotrain/clinical_spore/mcl/IPN_biomarker-MK_nopassword.csv', index = False)\n"
   ]
  },
  {
   "cell_type": "code",
   "execution_count": 54,
   "metadata": {},
   "outputs": [
    {
     "name": "stdout",
     "output_type": "stream",
     "text": [
      "44\n"
     ]
    },
    {
     "data": {
      "image/png": "[encoded data removed]",
      "text/plain": [
       "<Figure size 432x288 with 1 Axes>"
      ]
     },
     "metadata": {
      "needs_background": "light"
     },
     "output_type": "display_data"
    }
   ],
   "source": [
    "df = pd.read_csv('/nfs/masi/gaor2/data/Cotrain/clinical_spore/mcl/IPN_biomarker-MK_nopassword.csv')\n",
    "df = df.query('islong0601 == 1')\n",
    "factor = 'Mayo.Risk'\n",
    "df = df.loc[df[factor] == df[factor]]\n",
    "df = df.loc[df['1Cancer0Benign'] == 0]\n",
    "item_list = df[factor].tolist()\n",
    "#item_list = [i for i in item_list if i == i and i != '']\n",
    "#print (df.keys())\n",
    "plt.hist(item_list,  bins=11)  # `density=False` would make counts\n",
    "\n",
    "plt.title('Mayo.Risk of Bengin Histogram', fontsize =15)\n",
    "plt.ylabel('# subjects', fontsize =15)\n",
    "plt.xlabel('Mayo.Risk', fontsize =15)\n",
    "#plt.xlim(0, 55)\n",
    "plt.xticks(fontsize = 15)\n",
    "plt.yticks(fontsize = 15)\n",
    "print (len(item_list))"
   ]
  },
  {
   "cell_type": "code",
   "execution_count": 45,
   "metadata": {},
   "outputs": [
    {
     "name": "stdout",
     "output_type": "stream",
     "text": [
      "Index(['Unnamed: 0', 'Unnamed: 0.1', 'Patient.ID', 'MCL.ID', 'Sample.Barcode',\n",
      "       'Cohort.1.Vandy.2.UPMC.3.DECAMP.4.UCD', 'Has.Cyfra', 'Has.HM',\n",
      "       'Has.Both', 'Hard.Exclude', 'Excl.ST', 'Excl.Contrast', 'Excl.Size',\n",
      "       'Excl.CT<>BD', 'Has.CYFRA.No.Exclusion', 'Has.HM.No.Exclusion',\n",
      "       'Has.Both.No.Exclusion', '1Cancer0Benign', 'Flag.IPN', 'Flag.ST.2.5',\n",
      "       'Flag.ST.3', 'Flag.Contrast', 'Mayo.Risk', 'Age',\n",
      "       'Smoking.Status.1.CURRENT.OR.FORMER.0.NEVER',\n",
      "       'Extrathoracic.Cancer.More.Then.5.Years.Prior.1.1..0.0',\n",
      "       'Nodule.Size.MM', 'Spiculation.1.spiculated.0.not.spiculated.',\n",
      "       'Upper.Lobe.1.yes.0.no', 'Mayo.Logit', '1.Incidental.0.Screening.',\n",
      "       'Diagnosis.Date.1', 'CT<>BD', 'BD<>SBD', 'Sample Blood Draw Date',\n",
      "       'Blood.Draw.Date', 'CT.Date', 'LDKA', 'Death.Date', 'Survival.Months',\n",
      "       'Death.1.LtFU.0', 'Living.Status', 'Nodule.Location',\n",
      "       'Nodule Slice Number', 'Contrast.Agent', 'Reconstruction.Algorithm',\n",
      "       'Slice.Thickness', 'Contrast', 'Exclusion', 'Histologic.Type',\n",
      "       'Hist.Simplified', 'Benign Diagnosis', 'Benign Diagnosis Simplified',\n",
      "       'Comment', 'Institution', 'Collection.Date', 'Race', 'Gender',\n",
      "       'Gender.0.Female.1.Male', 'Height (cm)', 'Weight (kg)', 'BMI', 'BV/KG',\n",
      "       'Smoking.Status', 'Age.Started.Smoking', 'Age.Quit.Smoking', 'PKY',\n",
      "       'Asbestos', 'PRIOR.CANCER.HISTORY', 'Prior.Cancer.Comment',\n",
      "       'Diagnosis.Age', 'Margin.Irregular.Lobulated.Smooth.Spiculated',\n",
      "       'Density.Nonsolid.Partsolid.Solid.', 'PET.Lesion', 'PFT.Date',\n",
      "       'FEV1/FVC', 'FEV1.Predicted', 'DLCO...Predicted.', 'DLCO.%.Pred',\n",
      "       'Thoracotomy.Date', 'Class.T', 'CLASS.N', 'Class.M', 'Path.Stage',\n",
      "       'Stage.Simplified', 'CSI..CYFRA21.1..ng.mL.', 'withimg0601'],\n",
      "      dtype='object')\n",
      "1Cancer0Benign\n",
      "545 0\n",
      "Mayo.Risk\n",
      "545 0\n",
      "Race\n",
      "545 0\n",
      "Gender\n",
      "545 0\n",
      "Gender.0.Female.1.Male\n",
      "545 0\n",
      "BMI\n",
      "545 19\n",
      "PKY\n",
      "545 2\n",
      "CSI..CYFRA21.1..ng.mL.\n",
      "545 28\n"
     ]
    }
   ],
   "source": [
    "df = pd.read_excel('/nfs/masi/MCL/file/clinical/LabelFile/0601MK/IPN_biomarker-MK_nopassword.xlsx')\n",
    "print (df.keys())\n",
    "df = df.query('withimg0601 == 1')\n",
    "factors = ['1Cancer0Benign', 'Mayo.Risk', 'Race', 'Gender',\n",
    "       'Gender.0.Female.1.Male',  'BMI', 'PKY','CSI..CYFRA21.1..ng.mL.' ]\n",
    "for fact in factors: \n",
    "    print (fact)\n",
    "    MCL_factor = {}\n",
    "    for i, item in df.iterrows():\n",
    "        MCL_ID = str(item['MCL.ID']).replace('.0', '')\n",
    "        if MCL_ID not in MCL_factor.keys():\n",
    "            MCL_factor[MCL_ID] = item[fact] \n",
    "        elif MCL_factor[MCL_ID] != MCL_factor[MCL_ID]:\n",
    "            MCL_factor[MCL_ID] = item[fact]\n",
    "    cnt = 0        \n",
    "    for value in MCL_factor.values():\n",
    "        if value != value:\n",
    "            cnt += 1\n",
    "    print (len(MCL_factor.values()), cnt)"
   ]
  },
  {
   "cell_type": "code",
   "execution_count": 51,
   "metadata": {},
   "outputs": [
    {
     "name": "stdout",
     "output_type": "stream",
     "text": [
      "545 545\n",
      "146.0 4.0\n",
      "324 444 315\n"
     ]
    }
   ],
   "source": [
    "df = pd.read_excel('/nfs/masi/MCL/file/clinical/LabelFile/0601MK/IPN_biomarker-MK_nopassword.xlsx')\n",
    "#print (df.keys())\n",
    "df = df.query('withimg0601 == 1')\n",
    "print (len(df['MCL.ID'].tolist()), len(set(df['MCL.ID'].tolist())))\n",
    "nodule_size = df['Nodule.Size.MM'].tolist()\n",
    "print (max(nodule_size), min(nodule_size))\n",
    "nodule_size = df['Mayo.Risk'].tolist()\n",
    "\n",
    "nod6_30 = []\n",
    "mayo5_65 = []\n",
    "nod_mayo = []\n",
    "\n",
    "for i, item in df.iterrows():\n",
    "    if item['Mayo.Risk'] <= 0.65 and item['Mayo.Risk'] >= 0.05:\n",
    "        mayo5_65.append(item['MCL.ID'])\n",
    "    if item['Nodule.Size.MM'] <= 30.0 and item['Nodule.Size.MM'] >= 6.0:\n",
    "        nod6_30.append(item['MCL.ID'])\n",
    "print (len(mayo5_65), len(nod6_30), len(set(mayo5_65) & set(nod6_30)))"
   ]
  },
  {
   "cell_type": "markdown",
   "metadata": {},
   "source": [
    "I need figure out which columns are useful?\n",
    "\n",
    "question mark: 'Excl.ST', 'Excl.Contrast', 'Excl.Size', 'Excl.CT<>BD', 'Flag.IPN', 'Flag.ST.2.5',\n",
    "       'Flag.ST.3', 'Flag.Contrast',\n",
    "\n",
    "Useful: 'Patient.ID', 'MCL.ID', 'Cohort.1.Vandy.2.UPMC.3.DECAMP.4.UCD', '1Cancer0Benign',  'Mayo.Risk', 'Age',\n",
    "       'Smoking.Status.1.CURRENT.OR.FORMER.0.NEVER',\n",
    "       'Extrathoracic.Cancer.More.Then.5.Years.Prior.1.1..0.0',\n",
    "       'Nodule.Size.MM', 'Spiculation.1.spiculated.0.not.spiculated.',\n",
    "       'Upper.Lobe.1.yes.0.no', 'Mayo.Logit', 'Institution', 'Race', 'Gender',\n",
    "       'Gender.0.Female.1.Male', 'Height (cm)', 'Weight (kg)', 'BMI', 'BV/KG',\n",
    "       'Smoking.Status', 'Age.Started.Smoking', 'Age.Quit.Smoking', 'PKY',\n",
    "       'Asbestos', 'PRIOR.CANCER.HISTORY'"
   ]
  },
  {
   "cell_type": "code",
   "execution_count": 50,
   "metadata": {},
   "outputs": [
    {
     "name": "stdout",
     "output_type": "stream",
     "text": [
      "['Unnamed: 0', 'Patient.ID', 'MCL_ID', 'more_MCLID', 'ORI.MCL.ID', 'Sample.Barcode', 'Cohort.1.Vandy.2.UPMC.3.DECAMP.4.UCD', 'Has.Cyfra', 'Has.HM', 'Has.Both', 'Hard.Exclude', 'Excl.ST', 'Excl.Contrast', 'Excl.Size', 'Excl.CT<>BD', 'Has.CYFRA.No.Exclusion', 'Has.HM.No.Exclusion', 'Has.Both.No.Exclusion', '1Cancer0Benign', 'Flag.IPN', 'Flag.ST.2.5', 'Flag.ST.3', 'Flag.Contrast', 'Mayo.Risk', 'Age', 'Smoking.Status.1.CURRENT.OR.FORMER.0.NEVER', 'Extrathoracic.Cancer.More.Then.5.Years.Prior.1.1..0.0', 'Nodule.Size.MM', 'Spiculation.1.spiculated.0.not.spiculated.', 'Upper.Lobe.1.yes.0.no', 'Mayo.Logit', '1.Incidental.0.Screening.', 'Diagnosis.Date.1', 'CT<>BD', 'BD<>SBD', 'Sample Blood Draw Date', 'Blood.Draw.Date', 'CT.Date', 'LDKA', 'Death.Date', 'Survival.Months', 'Death.1.LtFU.0', 'Living.Status', 'Nodule.Location', 'Nodule Slice Number', 'Contrast.Agent', 'Reconstruction.Algorithm', 'Slice.Thickness', 'Contrast', 'Exclusion', 'Histologic.Type', 'Hist.Simplified', 'Benign Diagnosis', 'Benign Diagnosis Simplified', 'Comment', 'Institution', 'Collection.Date', 'Race', 'Gender', 'Gender.0.Female.1.Male', 'Height (cm)', 'Weight (kg)', 'BMI', 'BV/KG', 'Smoking.Status', 'Age.Started.Smoking', 'Age.Quit.Smoking', 'PKY', 'Asbestos', 'PRIOR.CANCER.HISTORY', 'Prior.Cancer.Comment', 'Diagnosis.Age', 'Margin.Irregular.Lobulated.Smooth.Spiculated', 'Density.Nonsolid.Partsolid.Solid.', 'PET.Lesion', 'PFT.Date', 'FEV1/FVC', 'FEV1.Predicted', 'DLCO...Predicted.', 'DLCO.%.Pred', 'Thoracotomy.Date', 'Class.T', 'CLASS.N', 'Class.M', 'Path.Stage', 'Stage.Simplified', 'CSI..CYFRA21.1..ng.mL.', 'withimg0601', 'hasboth', 'true_Instit', 'islong0601']\n",
      "869\n"
     ]
    }
   ],
   "source": [
    "df = pd.read_csv('/nfs/masi/MCL/file/clinical/LabelFile/0601MK/IPN_biomarker-MK_nopassword.xlsx')\n",
    "print (list(df.keys()))\n",
    "df = df.loc[df['CSI..CYFRA21.1..ng.mL.'] == df['CSI..CYFRA21.1..ng.mL.']]\n",
    "print (len(set(df['MCL_ID'].tolist())))"
   ]
  },
  {
   "cell_type": "code",
   "execution_count": 62,
   "metadata": {},
   "outputs": [],
   "source": [
    "df = pd.read_csv('/nfs/masi/MCL/file/clinical/LabelFile/0720MK/Abbott2_RAD_RAW.csv')\n",
    "key_list = list(df.keys())"
   ]
  },
  {
   "cell_type": "code",
   "execution_count": 65,
   "metadata": {},
   "outputs": [],
   "source": [
    "impor_list = ['FLATNESS_MM','GLCM_IBSI_DIFFERENCE_ENTROPY_2DF_HU', \n",
    "              'INTENSITY_HISTOGRAM_QCOD_HU', \"GLCM_IBSI_CORRELLATION_2DV_HU\", \n",
    "             'GLCM_IBSI_CORRELLATION_2DV_HU']\n"
   ]
  },
  {
   "cell_type": "code",
   "execution_count": 66,
   "metadata": {},
   "outputs": [
    {
     "name": "stdout",
     "output_type": "stream",
     "text": [
      "True\n",
      "True\n",
      "True\n",
      "True\n",
      "True\n"
     ]
    }
   ],
   "source": [
    "for i in range(len(impor_list)):\n",
    "    print (impor_list[i] in key_list)"
   ]
  },
  {
   "cell_type": "code",
   "execution_count": 75,
   "metadata": {},
   "outputs": [],
   "source": [
    "df = pd.read_csv('/nfs/masi/MCL/file/clinical/LabelFile/0601MK/IPN_biomarker-MK_nopassword.xlsx')\n",
    "\n"
   ]
  },
  {
   "cell_type": "code",
   "execution_count": 77,
   "metadata": {},
   "outputs": [
    {
     "name": "stdout",
     "output_type": "stream",
     "text": [
      "868\n"
     ]
    }
   ],
   "source": [
    "#print (df['MCL.ID'])\n",
    "df = df.loc[df['CSI..CYFRA21.1..ng.mL.'] == df['CSI..CYFRA21.1..ng.mL.']]\n",
    "print (len(df))"
   ]
  },
  {
   "cell_type": "code",
   "execution_count": 69,
   "metadata": {},
   "outputs": [
    {
     "data": {
      "text/plain": [
       "Index(['Unnamed: 0', 'Unnamed: 1', 'Unnamed: 2', 'Unnamed: 3', 'Unnamed: 4',\n",
       "       'Unnamed: 5', 'Unnamed: 6', 'Unnamed: 7', 'Unnamed: 8', 'Unnamed: 9',\n",
       "       'Column S', '- all -', 'Unnamed: 12', 'Unnamed: 13', 'Unnamed: 14',\n",
       "       'Unnamed: 15', 'Unnamed: 16', 'Unnamed: 17', 'Unnamed: 18',\n",
       "       'Unnamed: 19', 'Column S.1', '- all -.1', 'Unnamed: 22', 'Unnamed: 23',\n",
       "       'Unnamed: 24', 'Unnamed: 25', 'Unnamed: 26', 'Unnamed: 27',\n",
       "       'Unnamed: 28', 'Unnamed: 29', 'Unnamed: 30', 'Unnamed: 31',\n",
       "       'Unnamed: 32', 'Unnamed: 33', 'Unnamed: 34', 'HISTOLOGY', 'Unnamed: 36',\n",
       "       'Unnamed: 37', 'Unnamed: 38', 'Unnamed: 39', 'Unnamed: 40',\n",
       "       'HISTOLOGY.1', 'Unnamed: 42', 'Unnamed: 43', 'Unnamed: 44',\n",
       "       'Unnamed: 45', 'Unnamed: 46', 'HISTOLOGY.2', 'Unnamed: 48',\n",
       "       'Unnamed: 49', 'Unnamed: 50', 'Unnamed: 51', 'Unnamed: 52',\n",
       "       'Unnamed: 53'],\n",
       "      dtype='object')"
      ]
     },
     "execution_count": 69,
     "metadata": {},
     "output_type": "execute_result"
    }
   ],
   "source": [
    "df.keys()"
   ]
  },
  {
   "cell_type": "code",
   "execution_count": null,
   "metadata": {},
   "outputs": [],
   "source": []
  }
 ],
 "metadata": {
  "kernelspec": {
   "display_name": "Python [conda env:python37]",
   "language": "python",
   "name": "conda-env-python37-py"
  },
  "language_info": {
   "codemirror_mode": {
    "name": "ipython",
    "version": 3
   },
   "file_extension": ".py",
   "mimetype": "text/x-python",
   "name": "python",
   "nbconvert_exporter": "python",
   "pygments_lexer": "ipython3",
   "version": "3.7.5"
  }
 },
 "nbformat": 4,
 "nbformat_minor": 2
}
