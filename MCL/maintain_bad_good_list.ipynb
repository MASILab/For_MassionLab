{
 "cells": [
  {
   "cell_type": "code",
   "execution_count": 1,
   "metadata": {},
   "outputs": [],
   "source": [
    "import pandas as pd \n",
    "import os"
   ]
  },
  {
   "cell_type": "code",
   "execution_count": 44,
   "metadata": {},
   "outputs": [],
   "source": [
    "# make dirs \n",
    "\n",
    "xnat_root = '/nfs/masi/MCL/xnat'\n",
    "maintain_root = '/nfs/masi/MCL/QA/maintain_list'\n",
    "xnat_list = os.listdir(xnat_root)\n",
    "for xnat_name in xnat_list:\n",
    "    xname = xnat_name.split('_')[0]\n",
    "    if xname[:4] == 'xnat' and len(xname[4:]) == 8 and xname[4:] > '20200120':\n",
    "        if not os.path.exists(maintain_root + '/' + xname[4:]):\n",
    "            os.mkdir(maintain_root + '/' + xname[4:])\n",
    "        print (xname)\n",
    "    \n",
    "    #print (xname)\n",
    "print ()"
   ]
  },
  {
   "cell_type": "code",
   "execution_count": 67,
   "metadata": {},
   "outputs": [
    {
     "name": "stdout",
     "output_type": "stream",
     "text": [
      "this should be None {''}\n"
     ]
    }
   ],
   "source": [
    "# generate QA_good from QA_bad\n",
    "data_root = '/nfs/masi/MCL/xnat/xnat20200909'\n",
    "df = pd.read_csv(data_root + '/dicomQA.csv')\n",
    "all_list = df['sess'].tolist() \n",
    "\n",
    "bad_list = open(data_root + '/QA_bad.txt').readlines()\n",
    "bad_list = [i.strip() for i in bad_list]\n",
    "print (\"this should be None\", set(bad_list) - set(all_list)) \n",
    "\n",
    "good_list = set(all_list) - set(bad_list)\n",
    "f = open(data_root + '/QA_good.txt', 'w')\n",
    "for item in good_list:\n",
    "    f.write(item + '\\n')\n",
    "f.close()"
   ]
  },
  {
   "cell_type": "code",
   "execution_count": 85,
   "metadata": {},
   "outputs": [
    {
     "name": "stdout",
     "output_type": "stream",
     "text": [
      "331 4733 331 4741\n"
     ]
    }
   ],
   "source": [
    "# the past_root and current_root should be near\n",
    "\n",
    "past_root = '/nfs/masi/MCL/QA/maintain_list/20200902'\n",
    "current_root = '/nfs/masi/MCL/QA/maintain_list/20200909'\n",
    "\n",
    "past_bad = pd.read_csv(past_root + '/uptonow_bad.csv')['sess'].tolist()\n",
    "\n",
    "past_good = pd.read_csv(past_root + '/uptonow_good.csv')['sess'].tolist()\n",
    "\n",
    "current_bad = open(current_root + '/QA_bad.txt').readlines()\n",
    "current_bad = [i.strip().split(' ')[0] for i in current_bad]\n",
    "\n",
    "current_good = open(current_root + '/QA_good.txt').readlines()\n",
    "current_good = [i.strip().split(' ')[0] for i in current_good]\n",
    "\n",
    "total_bad = set(current_bad) | (set(past_bad) - set(current_good))\n",
    "\n",
    "total_good = set(current_good) | (set(past_good) - set(current_bad))\n",
    "\n",
    "data = pd.DataFrame()\n",
    "\n",
    "data['sess'] = list(total_good)\n",
    "\n",
    "data.to_csv(current_root + '/uptonow_good.csv', index = False)\n",
    "\n",
    "data = pd.DataFrame()\n",
    "\n",
    "data['sess'] = list(total_bad)\n",
    "\n",
    "data.to_csv(current_root + '/uptonow_bad.csv', index = False)\n",
    "\n",
    "print (len(past_bad), len(past_good), len(total_bad), len(total_good))\n"
   ]
  },
  {
   "cell_type": "code",
   "execution_count": 21,
   "metadata": {},
   "outputs": [
    {
     "name": "stdout",
     "output_type": "stream",
     "text": [
      "['20200815', 'before20191218', '20200901', 'code', '20200206_xinmeng', '20200130', 'before201906', '20200201', '20200306', '20200106', '20200816', '20200504', '20200902', '20200115', '20200311', '20200127', '20200120', '20200522', '20200131', '20200128', '20200512', 'readme.txt', '20200326', '20200110', '20200117', '20200207', '20200222', '20200121', '20200424', '20200909', '20200505']\n",
      "['20200106', '20200110', '20200115', '20200117', '20200120', '20200121', '20200127', '20200128', '20200130', '20200131', '20200201', '20200206_xinmeng', '20200207', '20200222', '20200306', '20200311', '20200326', '20200424', '20200504', '20200505', '20200512', '20200522', '20200815', '20200816', '20200901', '20200902', '20200909', 'before201906', 'before20191218', 'code', 'readme.txt']\n"
     ]
    }
   ],
   "source": [
    "data_list = os.listdir('/nfs/masi/MCL/QA/maintain_list')\n",
    "print (data_list)\n",
    "print (sorted(data_list))"
   ]
  },
  {
   "cell_type": "code",
   "execution_count": 86,
   "metadata": {},
   "outputs": [
    {
     "name": "stdout",
     "output_type": "stream",
     "text": [
      "{nan}\n"
     ]
    }
   ],
   "source": [
    "# temp \n",
    "\n",
    "past_root = '/nfs/masi/MCL/QA/maintain_list/20200909'\n",
    "\n",
    "past_bad = pd.read_csv(past_root + '/uptonow_bad.csv')['sess'].tolist()\n",
    "\n",
    "past_good = pd.read_csv(past_root + '/uptonow_good.csv')['sess'].tolist()\n",
    "\n",
    "print (set(past_bad) & set(past_good))\n",
    "\n"
   ]
  },
  {
   "cell_type": "code",
   "execution_count": 94,
   "metadata": {},
   "outputs": [],
   "source": [
    "\n",
    "data_root = '/nfs/masi/MCL/xnat/MCL'\n",
    "subj_list = os.listdir(data_root)\n",
    "total_sess = []\n",
    "f = open('/nfs/masi/MCL/xnat/xnat20200928_makeupjustin/need_sess_path.txt', 'w')\n",
    "for subj in subj_list:\n",
    "    sess_list = os.listdir(data_root + '/' + subj)\n",
    "    for sess in sess_list:\n",
    "        if sess in need_sess:\n",
    "            f.write(data_root + '/' + subj + '/' + sess + '\\n')\n",
    "f.close()\n"
   ]
  },
  {
   "cell_type": "code",
   "execution_count": 92,
   "metadata": {},
   "outputs": [
    {
     "name": "stdout",
     "output_type": "stream",
     "text": [
      "241\n"
     ]
    }
   ],
   "source": [
    "print (len((set(total_sess)) & set(past_bad)))"
   ]
  },
  {
   "cell_type": "code",
   "execution_count": 93,
   "metadata": {},
   "outputs": [],
   "source": [
    "need_sess = (set(total_sess)) & set(past_bad)\n",
    "f = open('/nfs/masi/MCL/xnat/xnat20200928_makeupjustin/need_sess.csv', 'w')\n",
    "for sess in need_sess:\n",
    "    f.write(sess + '\\n')\n",
    "f.close()\n"
   ]
  },
  {
   "cell_type": "code",
   "execution_count": 103,
   "metadata": {},
   "outputs": [],
   "source": [
    "df = pd.read_csv('/nfs/masi/MCL/xnat/xnat20201002_mightallbad/Riqiang_10_2_2020_16_37_59.csv')\n",
    "\n",
    "all_sess = df['XNAT_CTSESSIONDATA ID'].tolist()\n",
    "\n",
    "df1 = pd.read_csv('/nfs/masi/MCL/xnat/xnat20200928_makeupjustin/dicomQA_step1.csv')\n",
    "df2 = pd.read_csv('/nfs/masi/MCL/xnat/xnat20200928_makeupjustin/dicomQA_step2.csv')\n",
    "\n",
    "sess0928 = df1['sess'].tolist() + df2['sess'].tolist()\n",
    "\n",
    "df_pre = pd.read_csv('/nfs/masi/MCL/QA/maintain_list/20200909/uptonow_good.csv')\n",
    "sess_pre = df_pre['sess'].tolist()"
   ]
  },
  {
   "cell_type": "code",
   "execution_count": 104,
   "metadata": {},
   "outputs": [],
   "source": [
    "need = set(all_sess) - set(sess0928) - set(sess_pre)"
   ]
  },
  {
   "cell_type": "code",
   "execution_count": 107,
   "metadata": {},
   "outputs": [],
   "source": [
    "f = open('/nfs/masi/MCL/file/txt/for_download/xnat20201002_mightallbad.txt', 'w')\n",
    "for sess in need:\n",
    "    f.write(sess + '\\n')\n",
    "f.close()"
   ]
  },
  {
   "cell_type": "code",
   "execution_count": null,
   "metadata": {},
   "outputs": [],
   "source": []
  }
 ],
 "metadata": {
  "kernelspec": {
   "display_name": "Python [conda env:python37]",
   "language": "python",
   "name": "conda-env-python37-py"
  },
  "language_info": {
   "codemirror_mode": {
    "name": "ipython",
    "version": 3
   },
   "file_extension": ".py",
   "mimetype": "text/x-python",
   "name": "python",
   "nbconvert_exporter": "python",
   "pygments_lexer": "ipython3",
   "version": "3.7.5"
  }
 },
 "nbformat": 4,
 "nbformat_minor": 2
}
