{
 "cells": [
  {
   "cell_type": "code",
   "execution_count": 2,
   "metadata": {},
   "outputs": [],
   "source": [
    "import pandas as pd"
   ]
  },
  {
   "cell_type": "code",
   "execution_count": 13,
   "metadata": {},
   "outputs": [],
   "source": [
    "df = pd.read_csv('/nfs/masi/MCL/xnat/xnat20200902_original/ST-upload.csv')\n",
    "df = df.query('subject_label == 6953294604 or subject_label == 30009657087')\n",
    "df.to_csv('/nfs/masi/MCL/xnat/xnat20200909_original/twosess_upload.csv', index = False)"
   ]
  },
  {
   "cell_type": "code",
   "execution_count": 15,
   "metadata": {},
   "outputs": [
    {
     "name": "stdout",
     "output_type": "stream",
     "text": [
      "{'19886608434_20160818', '24562351903_20180226', '30009657087_20151124', '18123771639_20160613', '6953294604_20150617', '26401821241_20170302', '4323675162_20170406', '16981455735_20050127'}\n"
     ]
    }
   ],
   "source": [
    "df = pd.read_csv('/nfs/masi/MCL/xnat/xnat20200909_original/253/upload.csv')\n",
    "print (set(df['session_label']))"
   ]
  },
  {
   "cell_type": "code",
   "execution_count": 16,
   "metadata": {},
   "outputs": [],
   "source": [
    "f = open('/nfs/masi/MCL/file/txt/for_download/xnat20200909.txt', 'w')\n",
    "for sess in set(df['session_label']):\n",
    "    f.write(sess + '\\n')\n",
    "f.close()"
   ]
  },
  {
   "cell_type": "code",
   "execution_count": 5,
   "metadata": {},
   "outputs": [],
   "source": [
    "sess_list = set(df['session_label'].tolist())\n",
    "f = open('/nfs/masi/MCL/file/txt/for_download/xnat20200815.txt', 'w')\n",
    "for sess in sess_list:\n",
    "    f.write(sess + '\\n' )\n",
    "f.close()"
   ]
  },
  {
   "cell_type": "code",
   "execution_count": null,
   "metadata": {},
   "outputs": [],
   "source": [
    "4323675162_20170406 not found, yes, \n",
    "6953294604_20150925 not found \n",
    "26401821241_20170302 missing slices, yes, \n",
    "6782813698_20190130 head image, not lung\n",
    "16981455735_20050127 missing slices, yes, \n",
    "24562351903_20180226 missing slices, yes, \n",
    "6953294604_20150617 not a complete lung, yes, \n",
    "30009657087_20151124 missing slices, yes, \n",
    "19886608434_20160818 missing slices yes, \n",
    "18123771639_20160613 missing slices yes, "
   ]
  }
 ],
 "metadata": {
  "kernelspec": {
   "display_name": "Python [conda env:python37]",
   "language": "python",
   "name": "conda-env-python37-py"
  },
  "language_info": {
   "codemirror_mode": {
    "name": "ipython",
    "version": 3
   },
   "file_extension": ".py",
   "mimetype": "text/x-python",
   "name": "python",
   "nbconvert_exporter": "python",
   "pygments_lexer": "ipython3",
   "version": "3.7.5"
  }
 },
 "nbformat": 4,
 "nbformat_minor": 2
}
