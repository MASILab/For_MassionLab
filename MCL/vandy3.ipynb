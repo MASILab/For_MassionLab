{
 "cells": [
  {
   "cell_type": "code",
   "execution_count": 2,
   "metadata": {},
   "outputs": [],
   "source": [
    "import pandas as pd\n",
    "import os"
   ]
  },
  {
   "cell_type": "code",
   "execution_count": 4,
   "metadata": {},
   "outputs": [
    {
     "name": "stdout",
     "output_type": "stream",
     "text": [
      "644\n"
     ]
    }
   ],
   "source": [
    "df = pd.read_excel('/nfs/masi/MCL/file/clinical/LabelFile/Vandy3/VANDY3MRNs3.10 2020-08-12 ppm.xlsx')\n",
    "#df = df[df['Histologic Type'] == df['Histologic Type']]\n",
    "vandy3_list = df['MCL_ID'].tolist()\n",
    "vandy3_list = [str(i) for i in vandy3_list]\n",
    "print (len(set(vandy3_list)))\n"
   ]
  },
  {
   "cell_type": "code",
   "execution_count": 6,
   "metadata": {},
   "outputs": [
    {
     "name": "stdout",
     "output_type": "stream",
     "text": [
      "195\n"
     ]
    }
   ],
   "source": [
    "data_root = '/nfs/masi/MCL/nifti/combine'\n",
    "xnat_list = os.listdir(data_root)\n",
    "\n",
    "print (len(set(xnat_list) & set(vandy3_list)))\n",
    "xnat = []\n",
    "for subj in xnat_list:\n",
    "    \n",
    "    if len(os.listdir(data_root + '/' + subj)) > 1: \n",
    "        \n",
    "        xnat.append(subj)\n",
    "        \n"
   ]
  },
  {
   "cell_type": "code",
   "execution_count": 16,
   "metadata": {},
   "outputs": [
    {
     "data": {
      "text/plain": [
       "72"
      ]
     },
     "execution_count": 16,
     "metadata": {},
     "output_type": "execute_result"
    }
   ],
   "source": [
    "len(set(xnat) & set(vandy3_list))\n"
   ]
  },
  {
   "cell_type": "markdown",
   "metadata": {},
   "source": [
    "# update at 20200825\n",
    "\n",
    "| Total Subject | 644 |\n",
    "\n",
    "| With Image    | 195 | \n",
    "\n",
    "| With repreated Image | 72 | \n"
   ]
  },
  {
   "cell_type": "code",
   "execution_count": null,
   "metadata": {},
   "outputs": [],
   "source": []
  }
 ],
 "metadata": {
  "kernelspec": {
   "display_name": "Python [conda env:python37]",
   "language": "python",
   "name": "conda-env-python37-py"
  },
  "language_info": {
   "codemirror_mode": {
    "name": "ipython",
    "version": 3
   },
   "file_extension": ".py",
   "mimetype": "text/x-python",
   "name": "python",
   "nbconvert_exporter": "python",
   "pygments_lexer": "ipython3",
   "version": "3.7.5"
  }
 },
 "nbformat": 4,
 "nbformat_minor": 2
}
