{
 "cells": [
  {
   "cell_type": "code",
   "execution_count": 1,
   "metadata": {},
   "outputs": [],
   "source": [
    "import pandas as pd\n",
    "from sklearn import metrics \n",
    "import matplotlib.pyplot as plt \n",
    "import numpy as np "
   ]
  },
  {
   "cell_type": "code",
   "execution_count": 41,
   "metadata": {},
   "outputs": [
    {
     "name": "stdout",
     "output_type": "stream",
     "text": [
      "1199\n",
      "118\n",
      "109\n",
      "109 54\n",
      "0.717003367003367\n"
     ]
    }
   ],
   "source": [
    "data_path = '/nfs/masi/gaor2/data/Cotrain/MissClinic/mcl/20200720_nopassword_norm.csv'\n",
    "df = pd.read_csv(data_path)\n",
    "print (len(df))\n",
    "df = df.loc[df['Cohort'] == 4]\n",
    "print (len(df))\n",
    "df = df.loc[df['used_kaggle'] == df['used_kaggle']]\n",
    "print (len(df))\n",
    "df = df.loc[df['CSI..CYFRA21.1..ng.mL.'] == df['CSI..CYFRA21.1..ng.mL.']]\n",
    "#df = df.loc[df['gt_reg'] == df['gt_reg']]\n",
    "\n",
    "tar = df['gt_reg'].tolist() \n",
    "tar = [int(i == i) for i in tar ]   # this is only temporily work for UCD. \n",
    "pred = df['used_kaggle'].tolist() \n",
    "pred = df['Mayo.Risk'].tolist() \n",
    "print (len(tar), sum(tar))\n",
    "\n",
    "fpr, tpr, threshold = metrics.roc_curve(tar, pred)\n",
    "roc_auc = metrics.auc(fpr, tpr)\n",
    "print (roc_auc)"
   ]
  },
  {
   "cell_type": "code",
   "execution_count": 35,
   "metadata": {},
   "outputs": [
    {
     "data": {
      "text/plain": [
       "{1.0, 2.0, 4.0}"
      ]
     },
     "execution_count": 35,
     "metadata": {},
     "output_type": "execute_result"
    }
   ],
   "source": [
    "set(df['Cohort'])"
   ]
  },
  {
   "cell_type": "code",
   "execution_count": null,
   "metadata": {},
   "outputs": [],
   "source": []
  }
 ],
 "metadata": {
  "kernelspec": {
   "display_name": "Python [conda env:python37]",
   "language": "python",
   "name": "conda-env-python37-py"
  },
  "language_info": {
   "codemirror_mode": {
    "name": "ipython",
    "version": 3
   },
   "file_extension": ".py",
   "mimetype": "text/x-python",
   "name": "python",
   "nbconvert_exporter": "python",
   "pygments_lexer": "ipython3",
   "version": "3.7.5"
  }
 },
 "nbformat": 4,
 "nbformat_minor": 2
}
