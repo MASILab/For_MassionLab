{
 "cells": [
  {
   "cell_type": "code",
   "execution_count": 14,
   "metadata": {},
   "outputs": [],
   "source": [
    "import pandas as pd\n",
    "import os"
   ]
  },
  {
   "cell_type": "code",
   "execution_count": 5,
   "metadata": {},
   "outputs": [],
   "source": [
    "decamp_mcl = {}\n",
    "df = pd.read_excel('/nfs/masi/MCL/file/clinical/LabelFile/DECAMP_2020JUN12.xlsx')\n",
    "for i, item in df.iterrows():\n",
    "    decamp_mcl[item['Subject']] = str(item['MCL_ID'])"
   ]
  },
  {
   "cell_type": "code",
   "execution_count": 11,
   "metadata": {},
   "outputs": [],
   "source": [
    "df = pd.read_csv('/nfs/masi/MCL/file/clinical/LabelFile/0720MK/20200720_nopassword.csv')\n",
    "MCL_ID = []\n",
    "for i, item in df.iterrows():\n",
    "    if item['MCL_ID'] in decamp_mcl.keys():\n",
    "        MCL_ID.append(decamp_mcl[item['MCL_ID']])\n",
    "    else:\n",
    "        MCL_ID.append(item['MCL_ID'])\n",
    "df['MCL_ID'] = MCL_ID\n",
    "df.to_csv('/nfs/masi/MCL/file/clinical/LabelFile/0720MK/20200720_nopassword.csv', index = False)"
   ]
  },
  {
   "cell_type": "code",
   "execution_count": 12,
   "metadata": {},
   "outputs": [],
   "source": [
    "data_path = '/nfs/masi/MCL/file/clinical/LabelFile/0720MK/20200720_nopassword.csv'\n",
    "\n",
    "df = pd.read_csv(data_path)\n",
    "\n",
    "sess = []\n",
    "for i, item in df.iterrows():\n",
    "    if item['MCL_ID'] != item['MCL_ID']:\n",
    "        sess.append('')\n",
    "    else:\n",
    "        subj = str(item['MCL_ID']).replace('.0','')\n",
    "        ctdatestr = str(item['CT.Date']).replace('-', '').split(' ')[0]\n",
    "        if len(ctdatestr) != 8:\n",
    "            sess.append('')\n",
    "        else:\n",
    "            sess.append(subj + 'time' + ctdatestr)\n",
    "df['CTDatesess'] = sess\n",
    "df.to_csv(data_path, index = False)"
   ]
  },
  {
   "cell_type": "code",
   "execution_count": 15,
   "metadata": {},
   "outputs": [],
   "source": [
    "data_root = '/nfs/masi/MCL/nifti/combine'\n",
    "\n",
    "subj_list = os.listdir(data_root)\n",
    "data_path = '/nfs/masi/MCL/file/clinical/LabelFile/0720MK/20200720_nopassword.csv'\n",
    "df = pd.read_csv(data_path)\n",
    "\n",
    "subjwithimg0802 = []\n",
    "\n",
    "for i, item in df.iterrows():\n",
    "    mclid = str(item['MCL_ID']).replace('.0', '')\n",
    "    if mclid in subj_list:\n",
    "        subjwithimg0802.append(1)\n",
    "    else:\n",
    "        subjwithimg0802.append(0)\n",
    "df['subjwithimg0819'] = subjwithimg0802\n",
    "df.to_csv(data_path)"
   ]
  },
  {
   "cell_type": "code",
   "execution_count": 21,
   "metadata": {},
   "outputs": [
    {
     "name": "stdout",
     "output_type": "stream",
     "text": [
      "{'33740932960time20160511', '33740932960time20161208', '28540516088time20140903', '6496743128time20150729', '5994523467time20160128', '1311344799time20160922', '196539139time20141103', '21613914102time20150202', '11032816040time20141216', '196539139time20160617', '38411554551time20141112', '196539139time20160301', '27374628351time20140922', '33740932960time20151110', '6973084350time20140618', '29560768371time20130227', '11032816040time20141126', '26885333907time20160415', '26885333907time20160526', '1311344799time20140926', '196539139time20150608', '20449484282time20140204', '27488794242time20150901', '8721453631time20140206', '26885333907time20160805', '1314034335time20160421', '23425476092time20151110', '20719819907time20131203', '16535001583time20150629', '15003439832time20160115', '1314034335time20160807', '33740932960time20140925', '41176946480time20170214'}\n"
     ]
    }
   ],
   "source": [
    "# tmp\n",
    "sess_list = os.listdir('/nfs/masi/MCL/symlink/need_xnat20200815_decamp')\n",
    "dsb_list = os.listdir('/nfs/masi/MCL/DSB_File/tmp_decamp0815/prep')\n",
    "dsb_list = [i.split('_')[0] for i in dsb_list]\n",
    "print (set(sess_list) - set(dsb_list))"
   ]
  },
  {
   "cell_type": "code",
   "execution_count": null,
   "metadata": {},
   "outputs": [],
   "source": []
  }
 ],
 "metadata": {
  "kernelspec": {
   "display_name": "Python [default]",
   "language": "python",
   "name": "python3"
  },
  "language_info": {
   "codemirror_mode": {
    "name": "ipython",
    "version": 3
   },
   "file_extension": ".py",
   "mimetype": "text/x-python",
   "name": "python",
   "nbconvert_exporter": "python",
   "pygments_lexer": "ipython3",
   "version": "3.5.5"
  }
 },
 "nbformat": 4,
 "nbformat_minor": 2
}
