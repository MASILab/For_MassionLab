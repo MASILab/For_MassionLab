{
 "cells": [
  {
   "cell_type": "code",
   "execution_count": 1,
   "metadata": {},
   "outputs": [],
   "source": [
    "import pandas as pd\n",
    "from sklearn import metrics \n",
    "import matplotlib.pyplot as plt \n",
    "import numpy as np "
   ]
  },
  {
   "cell_type": "code",
   "execution_count": 27,
   "metadata": {},
   "outputs": [
    {
     "name": "stdout",
     "output_type": "stream",
     "text": [
      "1199\n",
      "527\n",
      "399\n",
      "373 260.0\n",
      "0.6756296800544588\n"
     ]
    }
   ],
   "source": [
    "data_path = '/nfs/masi/gaor2/data/Cotrain/MissClinic/mcl/20200720_nopassword.csv'\n",
    "df = pd.read_csv(data_path)\n",
    "print (len(df))\n",
    "df = df.loc[df['Cohort'] == '1']\n",
    "print (len(df))\n",
    "df = df.loc[df['used_kaggle'] == df['used_kaggle']]\n",
    "print (len(df))\n",
    "df = df.loc[df['CSI..CYFRA21.1..ng.mL.'] == df['CSI..CYFRA21.1..ng.mL.']]\n",
    "\n",
    "tar = df['gt_reg'].tolist() \n",
    "\n",
    "pred = df['used_kaggle'].tolist() \n",
    "#pred = df['Mayo_risk'].tolist() \n",
    "print (len(tar), sum(tar))\n",
    "\n",
    "fpr, tpr, threshold = metrics.roc_curve(tar, pred)\n",
    "roc_auc = metrics.auc(fpr, tpr)\n",
    "print (roc_auc)"
   ]
  },
  {
   "cell_type": "code",
   "execution_count": 22,
   "metadata": {},
   "outputs": [
    {
     "data": {
      "text/plain": [
       "{'1', '2', '4', 'V-II', nan}"
      ]
     },
     "execution_count": 22,
     "metadata": {},
     "output_type": "execute_result"
    }
   ],
   "source": [
    "set(df['Cohort'])"
   ]
  },
  {
   "cell_type": "code",
   "execution_count": null,
   "metadata": {},
   "outputs": [],
   "source": []
  }
 ],
 "metadata": {
  "kernelspec": {
   "display_name": "Python [conda env:python37]",
   "language": "python",
   "name": "conda-env-python37-py"
  },
  "language_info": {
   "codemirror_mode": {
    "name": "ipython",
    "version": 3
   },
   "file_extension": ".py",
   "mimetype": "text/x-python",
   "name": "python",
   "nbconvert_exporter": "python",
   "pygments_lexer": "ipython3",
   "version": "3.7.5"
  }
 },
 "nbformat": 4,
 "nbformat_minor": 2
}
