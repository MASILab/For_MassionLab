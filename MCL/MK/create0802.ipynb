{
 "cells": [
  {
   "cell_type": "code",
   "execution_count": 89,
   "metadata": {},
   "outputs": [],
   "source": [
    "import pandas as pd\n",
    "import re\n",
    "import os\n",
    "import matplotlib.pyplot as plt\n",
    "import numpy as np"
   ]
  },
  {
   "cell_type": "code",
   "execution_count": null,
   "metadata": {},
   "outputs": [],
   "source": [
    "# 'age',  'bmi',  'phist', 'smo_status',  'pkyr', 'Log_nodsize', 'spiculat', 'uplobe', 'Log_bmark'\n",
    "# possible new: Gender, age_start, age_quit, nodule density, Reche.ng.ml, LNCYFRA, CYF*BV, CYF/TV\n",
    "\n",
    "# 12049146729 Negative for Malignant Cells is the case need to be very careful"
   ]
  },
  {
   "cell_type": "code",
   "execution_count": 5,
   "metadata": {},
   "outputs": [],
   "source": [
    "# convert to csv\n",
    "df = pd.read_excel('/nfs/masi/MCL/file/clinical/LabelFile/0720MK/20200720_nopassword.xlsx', sheet_name = 'Main.Table')\n",
    "df.to_csv('/nfs/masi/MCL/file/clinical/LabelFile/0720MK/20200720_nopassword_radi.csv', index = False)"
   ]
  },
  {
   "cell_type": "code",
   "execution_count": 45,
   "metadata": {},
   "outputs": [
    {
     "name": "stdout",
     "output_type": "stream",
     "text": [
      "1199\n",
      "545\n",
      "950\n",
      "868\n",
      "656.0\n"
     ]
    }
   ],
   "source": [
    "# compare the difference\n",
    "df = pd.read_csv('/nfs/masi/MCL/file/clinical/LabelFile/0720MK/20200720_nopassword.csv')\n",
    "print (len(df))\n",
    "df = df.loc[df['Has.CYFRA.No.Exclusion']== 1]\n",
    "print (len(df))\n",
    "df = pd.read_csv('/nfs/masi/MCL/file/clinical/LabelFile/0601MK/IPN_biomarker-MK_nopassword.xlsx')\n",
    "print (len(df))\n",
    "df = df.loc[df['CSI..CYFRA21.1..ng.mL.']== df['CSI..CYFRA21.1..ng.mL.']]\n",
    "print (len(df))\n",
    "print (sum(df['withimg0601']))"
   ]
  },
  {
   "cell_type": "code",
   "execution_count": 70,
   "metadata": {},
   "outputs": [],
   "source": [
    "# make a more complete spreadsheet\n",
    "jasper_path = '/nfs/masi/MCL/file/clinical/LabelFile/0421/Report_part1_nodup.csv'\n",
    "data_path = '/nfs/masi/MCL/file/clinical/LabelFile/0720MK/20200720_nopassword_radi.csv'\n",
    "df = pd.read_csv(jasper_path)\n",
    "pid_mclid = {}\n",
    "for i, item in df.iterrows():\n",
    "    if item['MCL_ID'] == item['MCL_ID'] and item['Patient ID'] == item['Patient ID']:\n",
    "        pid = str(item['Patient ID']).replace('.0', '')\n",
    "        mclid = str(item['MCL_ID']).replace('.0', '')\n",
    "        pid_mclid[pid] = mclid\n",
    "df = pd.read_csv(data_path)\n",
    "more_MCLID = []\n",
    "for i, item in df.iterrows():\n",
    "    pid = str(item['Patient.ID']).replace('.0', '')\n",
    "    if pid in pid_mclid.keys():\n",
    "        more_MCLID.append(pid_mclid[pid])\n",
    "    else:\n",
    "        more_MCLID.append('')\n",
    "df['more_MCLID'] = more_MCLID\n",
    "df.to_csv(data_path, index = False)"
   ]
  },
  {
   "cell_type": "code",
   "execution_count": 71,
   "metadata": {},
   "outputs": [],
   "source": [
    "# as in MK0601, other is cancer\n",
    "# Cancer: Adenocarcinoma, 'Carcinoid', 'Large Cell Carcinoma', 'NSCLC', 'Small Cell Carcinoma','Squamous Cell Carcinoma', 'Other' \n",
    "# non-cancer: 'Negative for Malignant Cells', , \n",
    "data_path = '/nfs/masi/MCL/file/clinical/LabelFile/0720MK/20200720_nopassword_radi.csv'\n",
    "df = pd.read_csv(data_path)\n",
    "gt_reg = []\n",
    "cancer_set = {'Adenocarcinoma', 'Carcinoid', 'Large Cell Carcinoma', 'NSCLC', 'Small Cell Carcinoma','Squamous Cell Carcinoma', 'Other'}\n",
    "nocancer_set = {'Negative for Malignant Cells'}\n",
    "for i, item in df.iterrows():\n",
    "    if item['Hist.Simplified'] != item['Hist.Simplified']:\n",
    "        gt_reg.append('')\n",
    "    elif item['Hist.Simplified'] in cancer_set:\n",
    "        gt_reg.append(1)\n",
    "    elif item['Hist.Simplified'] in nocancer_set:\n",
    "        gt_reg.append(0)\n",
    "df['gt_reg'] = gt_reg\n",
    "df.to_csv(data_path, index = False)\n"
   ]
  },
  {
   "cell_type": "code",
   "execution_count": 23,
   "metadata": {},
   "outputs": [
    {
     "name": "stdout",
     "output_type": "stream",
     "text": [
      "12049146729 Negative for Malignant Cells\n"
     ]
    }
   ],
   "source": [
    "# make sure the \"1Cancer0Bengin\" consistent with 'Hist.Simplified'\n",
    "df = pd.read_csv('/nfs/masi/MCL/file/clinical/LabelFile/0601MK/IPN_biomarker-MK_nopassword.xlsx')\n",
    "cancer_set = {'Adenocarcinoma', 'Carcinoid', 'Large Cell Carcinoma', 'NSCLC', 'Small Cell Carcinoma','Squamous Cell Carcinoma', 'Other'}\n",
    "nocancer_set = {'Negative for Malignant Cells'}\n",
    "#print (df.keys())\n",
    "for i, item in df.iterrows():\n",
    "    if item['1Cancer0Benign'] == 1:\n",
    "        if item['Hist.Simplified'] not in cancer_set:\n",
    "            print (item['MCL_ID'], item['Hist.Simplified'])\n",
    "#     if item['1Cancer0Benign'] == 0:\n",
    "#         if item['Hist.Simplified'] not in nocancer_set:\n",
    "#             print (item['Hist.Simplified'])\n"
   ]
  },
  {
   "cell_type": "code",
   "execution_count": 72,
   "metadata": {},
   "outputs": [],
   "source": [
    "\n",
    "data_path = '/nfs/masi/MCL/file/clinical/LabelFile/0720MK/20200720_nopassword_radi.csv'\n",
    "df = pd.read_csv(data_path)\n",
    "new_MCLID = []\n",
    "for i, item in df.iterrows():\n",
    "    oriID = str(item['MCL.ID']).replace('.0', '')\n",
    "    moreID = str(item['more_MCLID']).replace('.0', '')\n",
    "    if len(moreID) > 8 and len(oriID) > 8:\n",
    "        if moreID == oriID:\n",
    "            new_MCLID.append(oriID)\n",
    "        else:\n",
    "            new_MCLID.append(item['Patient.ID'])\n",
    "    elif len(moreID) > 8:\n",
    "        new_MCLID.append(moreID)\n",
    "    elif len(oriID) > 8:\n",
    "        new_MCLID.append(oriID)\n",
    "    else:\n",
    "        new_MCLID.append(item['Patient.ID'])\n",
    "df['MCL_ID'] = new_MCLID\n",
    "df.to_csv(data_path, index = False)\n",
    "        "
   ]
  },
  {
   "cell_type": "code",
   "execution_count": 73,
   "metadata": {},
   "outputs": [],
   "source": [
    "# add column with subj with good image\n",
    "\n",
    "data_root = '/nfs/masi/MCL/nifti/combine'\n",
    "\n",
    "subj_list = os.listdir(data_root)\n",
    "data_path = '/nfs/masi/MCL/file/clinical/LabelFile/0720MK/20200720_nopassword_radi.csv'\n",
    "df = pd.read_csv(data_path)\n",
    "\n",
    "subjwithimg0802 = []\n",
    "\n",
    "for i, item in df.iterrows():\n",
    "    mclid = str(item['MCL_ID']).replace('.0', '')\n",
    "    if mclid in subj_list:\n",
    "        subjwithimg0802.append(1)\n",
    "    else:\n",
    "        subjwithimg0802.append(0)\n",
    "df['subjwithimg0802'] = subjwithimg0802\n",
    "df.to_csv(data_path)\n"
   ]
  },
  {
   "cell_type": "code",
   "execution_count": 57,
   "metadata": {},
   "outputs": [
    {
     "data": {
      "text/plain": [
       "(657, 993)"
      ]
     },
     "execution_count": 57,
     "metadata": {},
     "output_type": "execute_result"
    }
   ],
   "source": [
    "# tmp\n",
    "data_path = '/nfs/masi/MCL/file/clinical/LabelFile/0720MK/20200720_nopassword.csv'\n",
    "\n",
    "df = pd.read_csv(data_path)\n",
    "df = df.loc[df['CSI..CYFRA21.1..ng.mL.']== df['CSI..CYFRA21.1..ng.mL.']]\n",
    "sum(df['subjwithimg0802']), len(df)"
   ]
  },
  {
   "cell_type": "code",
   "execution_count": 74,
   "metadata": {},
   "outputs": [],
   "source": [
    "# get CT.Date sess\n",
    "\n",
    "data_path = '/nfs/masi/MCL/file/clinical/LabelFile/0720MK/20200720_nopassword_radi.csv'\n",
    "\n",
    "df = pd.read_csv(data_path)\n",
    "\n",
    "sess = []\n",
    "for i, item in df.iterrows():\n",
    "    if item['MCL_ID'] != item['MCL_ID']:\n",
    "        sess.append('')\n",
    "    else:\n",
    "        subj = str(item['MCL_ID']).replace('.0','')\n",
    "        ctdatestr = str(item['CT.Date']).replace('-', '').split(' ')[0]\n",
    "        if len(ctdatestr) != 8:\n",
    "            sess.append('')\n",
    "        else:\n",
    "            sess.append(subj + 'time' + ctdatestr)\n",
    "df['CTDatesess'] = sess\n",
    "df.to_csv(data_path, index = False)"
   ]
  },
  {
   "cell_type": "code",
   "execution_count": 75,
   "metadata": {},
   "outputs": [],
   "source": [
    "# get lastscan (in featnpy) sess\n",
    "\n",
    "data_path = '/nfs/masi/MCL/file/clinical/LabelFile/0720MK/20200720_nopassword_radi.csv'\n",
    "feat_root = '/nfs/masi/gaor2/data/MCL/clinical_mcl/featnpy128'\n",
    "\n",
    "feat_list = os.listdir(feat_root)\n",
    "\n",
    "subj_item = {}\n",
    "for i in range(len(feat_list)):\n",
    "    subj = feat_list[i].split('t')[0]\n",
    "    if subj not in subj_item.keys():\n",
    "        subj_item[subj] = []\n",
    "    subj_item[subj].append(feat_list[i].replace('.npy', ''))\n",
    "\n",
    "df = pd.read_csv(data_path)\n",
    "\n",
    "sess = []\n",
    "for i, item in df.iterrows():\n",
    "    if item['MCL_ID'] != item['MCL_ID']:\n",
    "        sess.append('')\n",
    "    else:\n",
    "        subj = str(item['MCL_ID']).replace('.0','')\n",
    "        if subj in subj_item.keys():\n",
    "            sess.append(max(subj_item[subj]))\n",
    "        else:\n",
    "            sess.append('')\n",
    "df['featlastSess'] = sess\n",
    "df.to_csv(data_path, index = False)"
   ]
  },
  {
   "cell_type": "code",
   "execution_count": 76,
   "metadata": {},
   "outputs": [
    {
     "name": "stderr",
     "output_type": "stream",
     "text": [
      "/home/local/VANDERBILT/gaor2/anaconda3/envs/python37/lib/python3.7/site-packages/IPython/core/interactiveshell.py:3058: DtypeWarning: Columns (1,2,4,5,33,36,37,38,39,40,43,44,45,46,47,48,49,50,54,55,56,57,63,72,74,75,76,78,79,82,85,88,89,90,91,94,95,102,103,104,105,106,107,108,110,111,112,508,510) have mixed types. Specify dtype option on import or set low_memory=False.\n",
      "  interactivity=interactivity, compiler=compiler, result=result)\n"
     ]
    }
   ],
   "source": [
    "# get used sess 0803\n",
    "\n",
    "data_path = '/nfs/masi/MCL/file/clinical/LabelFile/0720MK/20200720_nopassword_radi.csv'\n",
    "df = pd.read_csv(data_path)\n",
    "feat_root = '/nfs/masi/gaor2/data/MCL/clinical_mcl/featnpy128'\n",
    "\n",
    "feat_list = os.listdir(feat_root)\n",
    "feat_list = [i.replace('.npy', '') for i in feat_list]\n",
    "\n",
    "usedsess = []\n",
    "\n",
    "for i, item in df.iterrows():\n",
    "    if item['CTDatesess'] in feat_list:\n",
    "        usedsess.append(item['CTDatesess'])\n",
    "    elif item['featlastSess'] in feat_list:\n",
    "        usedsess.append(item['featlastSess'])\n",
    "    else:\n",
    "        subj = str(item['MCL_ID']).replace('.0','')\n",
    "        usedsess.append(subj + 'timedefault')\n",
    "df['usedsess'] = usedsess\n",
    "df.to_csv(data_path, index = False)"
   ]
  },
  {
   "cell_type": "code",
   "execution_count": 78,
   "metadata": {},
   "outputs": [],
   "source": [
    "# add kaggle \n",
    "\n",
    "df = pd.read_csv('/nfs/masi/gaor2/data/MCL/clinical_mcl/MCL20200803.csv')\n",
    "sess_risk = {}\n",
    "for i, item in df.iterrows():\n",
    "    sess_risk[item['id']] = item['cancer']\n",
    "\n",
    "data_path = '/nfs/masi/MCL/file/clinical/LabelFile/0720MK/20200720_nopassword_radi.csv'\n",
    "df = pd.read_csv(data_path)\n",
    "kaggle_cancer = []\n",
    "for i, item in df.iterrows():\n",
    "    if item['usedsess'] in sess_risk.keys():\n",
    "        kaggle_cancer.append(sess_risk[item['usedsess']])\n",
    "    else:\n",
    "        kaggle_cancer.append('')\n",
    "df['used_kaggle'] = kaggle_cancer\n",
    "df.to_csv(data_path, index = False)"
   ]
  },
  {
   "cell_type": "code",
   "execution_count": 79,
   "metadata": {},
   "outputs": [
    {
     "name": "stdout",
     "output_type": "stream",
     "text": [
      "1199\n"
     ]
    }
   ],
   "source": [
    "# add phase, with exist\n",
    "\n",
    "phase_dict = {}\n",
    "df = pd.read_csv('/nfs/masi/gaor2/data/Cotrain/clinical_spore/mcl/ThreeSet_norm0612.csv')\n",
    "for i, item in df.iterrows():\n",
    "    pid = str(item['subject']).replace('.0', '')\n",
    "    phase_dict[pid] = item['phase']\n",
    "        \n",
    "\n",
    "data_path = '/nfs/masi/MCL/file/clinical/LabelFile/0720MK/20200720_nopassword_radi.csv'\n",
    "df = pd.read_csv(data_path)\n",
    "proj_list = list(set(df['MCL_ID'].tolist()))\n",
    "proj_list = [str(i).replace('.0', '') for i in proj_list]\n",
    "print (len(proj_list))\n",
    "pid_phase = {} \n",
    "\n",
    "for i in range(len(proj_list)):\n",
    "    if proj_list[i] in phase_dict.keys():\n",
    "        pid_phase[proj_list[i]] = phase_dict[proj_list[i]]\n",
    "    else:\n",
    "        pid_phase[proj_list[i]] = i % 5 \n",
    "\n",
    "phase_list = [] \n",
    "for i, item in df.iterrows(): \n",
    "    pid = str(item['MCL_ID']).replace('.0', '')\n",
    "    phase_list.append(pid_phase[pid])\n",
    "df['phase'] = phase_list \n",
    "\n",
    "df.to_csv(data_path, index = False)"
   ]
  },
  {
   "cell_type": "markdown",
   "metadata": {},
   "source": [
    "# Normalize items "
   ]
  },
  {
   "cell_type": "code",
   "execution_count": 83,
   "metadata": {},
   "outputs": [
    {
     "name": "stdout",
     "output_type": "stream",
     "text": [
      "{nan, 'White', 'Native Hawaiian or Other Pacific Islander', 'Native American', 'Unknown/Other', 'Unknown', 'Caucasian', 'African American', 'Asian'}\n"
     ]
    }
   ],
   "source": [
    "# normalize, adapted from compare/clinical_spore/mcl_data.ipynb\n",
    "\n",
    "data_path = '/nfs/masi/gaor2/data/Cotrain/MissClinic/mcl/20200720_nopassword.csv'\n",
    "df = pd.read_csv(data_path)\n",
    "print (set(df['Race']))\n",
    "def get_race(x):\n",
    "        if x == 'White' or x == 'Caucasian':\n",
    "            return 1\n",
    "        if x == 'African American':\n",
    "            return 2\n",
    "        if x == 'Asian':\n",
    "            return 3\n",
    "        if x == 'Native Hawaiian or Other Pacific Islander':\n",
    "            return 5\n",
    "        if x == 'Hispanic/ Latnio':\n",
    "            return 2.5\n",
    "        if x == 'Native American':\n",
    "            return 4\n",
    "        if x in ['Unknown/Other', 'Unknown']:\n",
    "            return ''\n",
    "race = []\n",
    "for i, item in df.iterrows():\n",
    "    if item['Race'] != item['Race']:\n",
    "        race.append('')\n",
    "    else:\n",
    "        race.append(get_race(item['Race']))\n",
    "df['racenum'] = race\n",
    "df.to_csv(data_path, index = False)"
   ]
  },
  {
   "cell_type": "code",
   "execution_count": 85,
   "metadata": {},
   "outputs": [
    {
     "name": "stdout",
     "output_type": "stream",
     "text": [
      "{nan, 'ex-smoker quit at least 12 months ago', 'Never', 'Ex-smoker', 'Current smoker', 'M', 'Former smoker', 'current smoker', 'Never smoker', 'P', 'Current/Ex-smoker', 'never smoker'}\n"
     ]
    }
   ],
   "source": [
    "data_path = '/nfs/masi/gaor2/data/Cotrain/MissClinic/mcl/20200720_nopassword.csv'\n",
    "df = pd.read_csv(data_path)\n",
    "quit_time = []\n",
    "norm_smo = []\n",
    "print (set(df['Smoking.Status']))\n",
    "for i, item in df.iterrows():\n",
    "    if item['Smoking.Status'] != item['Smoking.Status']:\n",
    "        if item['Age.Started.Smoking'] != item['Age.Started.Smoking'] and item['Age.Quit.Smoking'] != item['Age.Quit.Smoking']:\n",
    "            # never smoker\n",
    "            norm_smo.append(1)\n",
    "            quit_time.append(40)\n",
    "        elif item['Age.Quit.Smoking'] == item['Age.Quit.Smoking']:\n",
    "            # former smoker\n",
    "            norm_smo.append(1)\n",
    "            quit_time.append(item['Age'] - item['Age.Quit.Smoking'])\n",
    "        else:\n",
    "            # current smoker\n",
    "            norm_smo.append(2)\n",
    "            quit_time.append(0)\n",
    "    else:\n",
    "        if 'urrent' in item['Smoking.Status']:\n",
    "            norm_smo.append(2)\n",
    "            quit_time.append(0)\n",
    "        elif 'ever' in item['Smoking.Status']: # means never\n",
    "            norm_smo.append(1)\n",
    "            quit_time.append(40)\n",
    "        elif item['Age.Quit.Smoking'] == item['Age.Quit.Smoking']:\n",
    "            norm_smo.append(1)\n",
    "            quit_time.append(item['Age'] - item['Age.Quit.Smoking'])\n",
    "        else:\n",
    "            norm_smo.append(1)\n",
    "            quit_time.append('')\n",
    "\n",
    "df['norm_smo'] = norm_smo\n",
    "df['quit_time'] = quit_time\n",
    "df.to_csv(data_path, index = False)"
   ]
  },
  {
   "cell_type": "code",
   "execution_count": 107,
   "metadata": {},
   "outputs": [],
   "source": [
    "data_path = '/nfs/masi/gaor2/data/Cotrain/MissClinic/mcl/20200720_nopassword.csv'\n",
    "\n",
    "df = pd.read_csv(data_path)\n",
    "norm_age, norm_edu, norm_bmi, norm_quit, norm_race, norm_pkyr = [], [], [], [], [], []\n",
    "norm_smo = []\n",
    "\n",
    "for i, item in df.iterrows():\n",
    "    if item['Age'] == item['Age']:\n",
    "        quit = min(90, max(40, item['quit_time']))\n",
    "        norm_age.append((item['Age'] - 54) / (80 - 54) + 0.01) \n",
    "    else:\n",
    "        norm_age.append('')\n",
    "        \n",
    "        \n",
    "    if item['BMI'] == item['BMI'] and item['BMI'] not in ['M', 'F']:\n",
    "        \n",
    "        bmi = min(60, max(20, float(item['BMI']) )) \n",
    "        norm_bmi.append((bmi - 20) / (60 - 20) + 0.01)\n",
    "    else:\n",
    "        norm_bmi.append('')\n",
    "        \n",
    "    if item['quit_time'] == item['quit_time']:\n",
    "        quit = min(40, max(0, item['quit_time']))\n",
    "        norm_quit.append((quit - 0) / 30 + 0.01)\n",
    "    else:\n",
    "        norm_quit.append('')\n",
    "        \n",
    "    if item['PKY'] == item['PKY']:\n",
    "        pkyr = min(200, max(0, item['PKY']))\n",
    "        norm_pkyr.append( pkyr / 200 + 0.01)\n",
    "    else:\n",
    "        norm_pkyr.append('')\n",
    "\n",
    "    \n",
    "    if item['racenum'] == item['racenum']:\n",
    "        race = item['racenum']\n",
    "        if race == 4:\n",
    "            race = 3\n",
    "        if race == 5:\n",
    "            race = 2.5\n",
    "        if race >= 6:\n",
    "            race = 1.5\n",
    "        norm_race.append((race - 1) / 2 + 0.01)\n",
    "    else:\n",
    "        norm_race.append('')\n",
    "        \n",
    "    if item['norm_smo'] == item['norm_smo']:\n",
    "        norm_smo.append( item['norm_smo'] / 2 + 0.01)\n",
    "    else:\n",
    "        norm_smo.append('')\n",
    "        \n",
    "df['age'] = norm_age\n",
    "#df['education'] = norm_edu\n",
    "df['bmi'] = norm_bmi\n",
    "df['quit_time'] = norm_quit\n",
    "df['pkyr'] = norm_pkyr\n",
    "df['race'] = norm_race\n",
    "df['smo_status'] = norm_smo\n",
    "df.to_csv(data_path.replace('.csv', '_norm.csv'), index = False)"
   ]
  },
  {
   "cell_type": "code",
   "execution_count": 111,
   "metadata": {},
   "outputs": [],
   "source": [
    "# normalize nodule, bloodmark, with log\n",
    "\n",
    "data_path = '/nfs/masi/gaor2/data/Cotrain/MissClinic/mcl/20200720_nopassword_norm.csv'\n",
    "\n",
    "df = pd.read_csv(data_path)\n",
    "Log_nodsize, Log_bmark = [], []\n",
    "for i, item in df.iterrows():\n",
    "    \n",
    "    if item['Nodule.Size.MM'] == item['Nodule.Size.MM']:\n",
    "        log_nsize = min(5, max(1, np.log(float(item['Nodule.Size.MM'])))) \n",
    "        Log_nodsize.append( (log_nsize - 1) / 4 + 0.01)\n",
    "    else:\n",
    "        Log_nodsize.append('')\n",
    "    \n",
    "    if item['CSI..CYFRA21.1..ng.mL.'] == item['CSI..CYFRA21.1..ng.mL.']:\n",
    "        log_bmark = min(4, max(-4, np.log(item['CSI..CYFRA21.1..ng.mL.']))) \n",
    "        Log_bmark.append((log_bmark + 4) / (4 + 4) + 0.01)\n",
    "    else:\n",
    "        Log_bmark.append('')\n",
    "        \n",
    "df['Log_bmark'] = Log_bmark\n",
    "df['Log_nodsize'] = Log_nodsize\n",
    "df.to_csv(data_path, index = False)"
   ]
  },
  {
   "cell_type": "code",
   "execution_count": 109,
   "metadata": {},
   "outputs": [
    {
     "data": {
      "text/plain": [
       "0         25\n",
       "1         18\n",
       "2          9\n",
       "3          8\n",
       "4         14\n",
       "        ... \n",
       "1194     8.7\n",
       "1195    26.5\n",
       "1196    10.9\n",
       "1197    12.5\n",
       "1198     NaN\n",
       "Name: Nodule.Size.MM, Length: 1199, dtype: object"
      ]
     },
     "execution_count": 109,
     "metadata": {},
     "output_type": "execute_result"
    }
   ],
   "source": [
    "df['Nodule.Size.MM']"
   ]
  },
  {
   "cell_type": "code",
   "execution_count": 103,
   "metadata": {},
   "outputs": [
    {
     "name": "stdout",
     "output_type": "stream",
     "text": [
      "1077\n",
      "1047\n",
      "0.4711526138420129 1.0059016554270799 0.01\n"
     ]
    },
    {
     "data": {
      "text/plain": [
       "(array([  0.,  20.,  40.,  60.,  80., 100., 120.]),\n",
       " <a list of 7 Text yticklabel objects>)"
      ]
     },
     "execution_count": 103,
     "metadata": {},
     "output_type": "execute_result"
    },
    {
     "data": {
      "image/png": "[encoded data removed]",
      "text/plain": [
       "<Figure size 432x288 with 1 Axes>"
      ]
     },
     "metadata": {
      "needs_background": "light"
     },
     "output_type": "display_data"
    }
   ],
   "source": [
    "import numpy as np\n",
    "\n",
    "data_path = '/nfs/masi/gaor2/data/Cotrain/MissClinic/mcl/20200720_nopassword_norm.csv'\n",
    "df = pd.read_csv(data_path)\n",
    "\n",
    "factor = 'Log_nodsize'\n",
    "\n",
    "print (len(df))\n",
    "df = df.loc[df[factor] == df[factor]]\n",
    "\n",
    "print (len(df))\n",
    "factor_list = df[factor].tolist()\n",
    "factor_list = [float(i) for i in factor_list if i not in ['Not Reported ', 'Not Reported']]\n",
    "\n",
    "print (np.mean(factor_list), np.max(factor_list), np.min(factor_list))\n",
    "\n",
    "plt.hist(factor_list,  bins=40)  # `density=False` would make counts\n",
    "#plt.xticks(range(70))\n",
    "plt.title('Minimum-Time-Interval of miss-match CT sessions', fontsize =15 )\n",
    "plt.ylabel('CT session count', fontsize =15)\n",
    "plt.xlabel('Time Interval (6 Months)', fontsize =15)\n",
    "\n",
    "plt.xticks(fontsize = 15)\n",
    "plt.yticks(fontsize = 15)"
   ]
  },
  {
   "cell_type": "code",
   "execution_count": 106,
   "metadata": {},
   "outputs": [],
   "source": [
    "# spiclu, uplob, nodulesize, age, bmi, quit_time, packyear, race, "
   ]
  },
  {
   "cell_type": "markdown",
   "metadata": {},
   "source": [
    "# Mean Imputation some items"
   ]
  },
  {
   "cell_type": "code",
   "execution_count": 121,
   "metadata": {},
   "outputs": [],
   "source": [
    "df = pd.read_csv('/nfs/masi/gaor2/data/Cotrain/clinical_spore/mcl/20200720_nopassword_norm.csv')\n",
    "\n",
    "# df = df.loc[df['subjwithimg0802']== 1]\n",
    "\n",
    "# df = df.query('Mayo_risk == Mayo_risk')\n",
    "# print (len(df))\n",
    "# df = df.query('Log_bmark == Log_bmark')\n",
    "# print (len(df))\n",
    "# print (np.mean(df['Log_bmark'].tolist()))\n",
    "\n",
    "# pkyr mean: 0.25\n",
    "# bmi mean: 0.207\n",
    "# Log_bmark mean: 0.508\n",
    "\n",
    "pkyr_mImput, bmi_mImput, Log_bmark_mImput = [], [], []\n",
    "\n",
    "for i, item in df.iterrows():\n",
    "    if item['pkyr'] != item['pkyr']:\n",
    "        pkyr_mImput.append(0.25)\n",
    "    else:\n",
    "        pkyr_mImput.append(item['pkyr'])\n",
    "    \n",
    "    if item['bmi'] != item['bmi']:\n",
    "        bmi_mImput.append(0.207)\n",
    "    else:\n",
    "        bmi_mImput.append(item['bmi'])\n",
    "        \n",
    "    if item['Log_bmark'] != item['Log_bmark']:\n",
    "        Log_bmark_mImput.append(0.508)\n",
    "    else:\n",
    "        Log_bmark_mImput.append(item['Log_bmark'])\n",
    "df['pkyr_mImput'] = pkyr_mImput\n",
    "df['bmi_mImput'] = bmi_mImput\n",
    "df['Log_bmark_mImput'] = Log_bmark_mImput\n",
    "df.to_csv('/nfs/masi/gaor2/data/Cotrain/clinical_spore/mcl/20200720_nopassword_norm.csv', index = False)\n"
   ]
  },
  {
   "cell_type": "code",
   "execution_count": 127,
   "metadata": {},
   "outputs": [
    {
     "name": "stdout",
     "output_type": "stream",
     "text": [
      "1199\n",
      "116\n"
     ]
    }
   ],
   "source": [
    "# temp cell\n",
    "df = pd.read_csv('/nfs/masi/gaor2/data/Cotrain/clinical_spore/mcl/20200720_nopassword_norm.csv')\n",
    "print (len(df))\n",
    "df = df.loc[df['subjwithimg0802']== 1]\n",
    "\n",
    "df = df.query('Mayo_risk == Mayo_risk')\n",
    "\n",
    "df = df.query('Cohort == 4')\n",
    "print (len(df))"
   ]
  },
  {
   "cell_type": "code",
   "execution_count": 128,
   "metadata": {},
   "outputs": [
    {
     "data": {
      "text/plain": [
       "1081    4.0\n",
       "1082    4.0\n",
       "1083    4.0\n",
       "1084    4.0\n",
       "1085    4.0\n",
       "       ... \n",
       "1194    4.0\n",
       "1195    4.0\n",
       "1196    4.0\n",
       "1197    4.0\n",
       "1198    4.0\n",
       "Name: Cohort, Length: 116, dtype: float64"
      ]
     },
     "execution_count": 128,
     "metadata": {},
     "output_type": "execute_result"
    }
   ],
   "source": [
    "df['Cohort']"
   ]
  },
  {
   "cell_type": "code",
   "execution_count": null,
   "metadata": {},
   "outputs": [],
   "source": []
  }
 ],
 "metadata": {
  "kernelspec": {
   "display_name": "Python [conda env:python37]",
   "language": "python",
   "name": "conda-env-python37-py"
  },
  "language_info": {
   "codemirror_mode": {
    "name": "ipython",
    "version": 3
   },
   "file_extension": ".py",
   "mimetype": "text/x-python",
   "name": "python",
   "nbconvert_exporter": "python",
   "pygments_lexer": "ipython3",
   "version": "3.7.5"
  }
 },
 "nbformat": 4,
 "nbformat_minor": 2
}
