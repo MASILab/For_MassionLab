{
 "cells": [
  {
   "cell_type": "code",
   "execution_count": 1,
   "metadata": {},
   "outputs": [],
   "source": [
    "from glob import glob\n",
    "import os\n",
    "import re\n",
    "import pydicom\n",
    "import pandas as pd\n",
    "import pdb"
   ]
  },
  {
   "cell_type": "code",
   "execution_count": null,
   "metadata": {},
   "outputs": [],
   "source": []
  },
  {
   "cell_type": "code",
   "execution_count": 63,
   "metadata": {},
   "outputs": [],
   "source": [
    "df = pd.read_csv('/nfs/masi/MCL/xnat/xnat20201015/upload.csv')\n",
    "sess = df['session_label'].tolist()"
   ]
  },
  {
   "cell_type": "code",
   "execution_count": 65,
   "metadata": {},
   "outputs": [
    {
     "name": "stdout",
     "output_type": "stream",
     "text": [
      "{'32827551964_20200130', '41177363796_20200226', '42312735919_20191219', '32827551964_20200206', '36758198007_20200102'}\n"
     ]
    }
   ],
   "source": [
    "set1 = set(session_label)\n",
    "print (set1) \n",
    "f = open('/nfs/masi/MCL/file/txt/for_download/xnat20201015.txt', 'w')\n",
    "for sess in set1:\n",
    "    f.write(sess + '\\n')\n",
    "f.close()"
   ]
  },
  {
   "cell_type": "code",
   "execution_count": 54,
   "metadata": {},
   "outputs": [
    {
     "name": "stdout",
     "output_type": "stream",
     "text": [
      "8430.333333333334 16860.666666666668\n"
     ]
    }
   ],
   "source": [
    "df = pd.read_csv('/nfs/masi/MCL/xnat/xnat20201003_moffti2/upload.csv')\n",
    "print(len(df) / 3, 2 * len(df) / 3)\n",
    "df0 = df.loc[df['session_label'] < '2760992628_20200305']\n",
    "df0.to_csv('/nfs/masi/MCL/xnat/xnat20201003_moffti2/upload_step0.csv')\n",
    "df1 = df.loc[(df['session_label'] >= '2760992628_20200305') &  (df['session_label'] < '41177363796_20200123')]\n",
    "df1.to_csv('/nfs/masi/MCL/xnat/xnat20201003_moffti2/upload_step1.csv')\n",
    "df2 = df.loc[(df['session_label'] >= '41177363796_20200123')]\n",
    "df2.to_csv('/nfs/masi/MCL/xnat/xnat20201003_moffti2/upload_step2.csv')"
   ]
  },
  {
   "cell_type": "code",
   "execution_count": 55,
   "metadata": {},
   "outputs": [],
   "source": [
    "sess_list = list(set(df['session_label']))\n",
    "sess_list0 = list(set(df0['session_label']))\n",
    "sess_list1 = list(set(df1['session_label']))\n",
    "sess_list2 = list(set(df2['session_label']))"
   ]
  },
  {
   "cell_type": "code",
   "execution_count": 56,
   "metadata": {},
   "outputs": [
    {
     "data": {
      "text/plain": [
       "28"
      ]
     },
     "execution_count": 56,
     "metadata": {},
     "output_type": "execute_result"
    }
   ],
   "source": [
    "len(set(sess_list0 + sess_list1 + sess_list2) & set(sess_list))"
   ]
  },
  {
   "cell_type": "code",
   "execution_count": 50,
   "metadata": {},
   "outputs": [],
   "source": [
    "sort_sess = sorted(sess_list)"
   ]
  },
  {
   "cell_type": "code",
   "execution_count": 59,
   "metadata": {},
   "outputs": [],
   "source": [
    "f = open('/nfs/masi/MCL/file/txt/for_download/xnat20201003_moffti2.txt', 'w')\n",
    "for sess in sess_list:\n",
    "    f.write(sess + '\\n')\n",
    "f.close()"
   ]
  },
  {
   "cell_type": "code",
   "execution_count": 28,
   "metadata": {},
   "outputs": [],
   "source": [
    "df2 = pd.read_csv('/nfs/masi/MCL/xnat/xnat20201002_mightallbad/Riqiang_10_2_2020_16_37_59.csv')"
   ]
  },
  {
   "cell_type": "code",
   "execution_count": 31,
   "metadata": {},
   "outputs": [
    {
     "data": {
      "text/plain": [
       "Index(['XNAT_CTSESSIONDATA ID', 'Subject', 'Date', 'Age', 'dcmAccessionNumber',\n",
       "       'dcmPatientId', 'dcmPatientName', 'UID'],\n",
       "      dtype='object')"
      ]
     },
     "execution_count": 31,
     "metadata": {},
     "output_type": "execute_result"
    }
   ],
   "source": [
    "df2.keys()"
   ]
  },
  {
   "cell_type": "code",
   "execution_count": 32,
   "metadata": {},
   "outputs": [
    {
     "data": {
      "text/plain": [
       "0"
      ]
     },
     "execution_count": 32,
     "metadata": {},
     "output_type": "execute_result"
    }
   ],
   "source": [
    "len(set(df2['XNAT_CTSESSIONDATA ID']) & set(df['session_label']))"
   ]
  },
  {
   "cell_type": "code",
   "execution_count": 26,
   "metadata": {},
   "outputs": [
    {
     "data": {
      "text/plain": [
       "{'10839399945_20200330',\n",
       " '10839399945_20200508',\n",
       " '10839399945_20200628',\n",
       " '11914605455_20200421',\n",
       " '11935237637_20200105',\n",
       " '11935237637_20200310',\n",
       " '11935237637_20200511',\n",
       " '12172942654_20191204',\n",
       " '12172942654_20200406',\n",
       " '12172942654_20200526',\n",
       " '12853069128_20200324',\n",
       " '17991845818_20200710',\n",
       " '20983532807_20200507',\n",
       " '21759978039_20200527',\n",
       " '25811937158_20200520',\n",
       " '26337688711_20200619',\n",
       " '2698805743_20200317',\n",
       " '2698805743_20200421',\n",
       " '2760992628_20200430',\n",
       " '32250883879_20200515',\n",
       " '32250883879_20200710',\n",
       " '32827551964_20200421',\n",
       " '32827551964_20200521',\n",
       " '32827551964_20200714',\n",
       " '34671757644_20200310',\n",
       " '34671757644_20200312',\n",
       " '34690459266_20200319',\n",
       " '35177389275_20200529',\n",
       " '35642760785_20200625',\n",
       " '35642760785_20200715',\n",
       " '36642346340_20200210',\n",
       " '36642346340_20200311',\n",
       " '36642346340_20200326',\n",
       " '36642346340_20200419',\n",
       " '36642346340_20200519',\n",
       " '36642346340_20200611',\n",
       " '36758198007_20200529',\n",
       " '37532340068_20200521',\n",
       " '37660576714_20200409',\n",
       " '38213712585_20200509',\n",
       " '38490435529_20200114',\n",
       " '38490435529_20200421',\n",
       " '42312735919_20200415',\n",
       " '4539483875_20200430',\n",
       " '5072212536_20200224',\n",
       " '5072212536_20200622',\n",
       " '5594368416_20200710',\n",
       " '5847948632_20200504',\n",
       " '5847948632_20200615',\n",
       " '7049098109_20191111',\n",
       " '8831261892_20200603',\n",
       " '8894183149_20200708'}"
      ]
     },
     "execution_count": 26,
     "metadata": {},
     "output_type": "execute_result"
    }
   ],
   "source": [
    "set(df2['session_label'])"
   ]
  },
  {
   "cell_type": "code",
   "execution_count": 27,
   "metadata": {},
   "outputs": [
    {
     "data": {
      "text/plain": [
       "{'10839399945_20200218',\n",
       " '11914605455_20190905',\n",
       " '11914605455_20200106',\n",
       " '22022537362_20200228',\n",
       " '24082328540_20191101',\n",
       " '24082328540_20200102',\n",
       " '25811937158_20191118',\n",
       " '25811937158_20200115',\n",
       " '25811937158_20200311',\n",
       " '2760992628_20200305',\n",
       " '28610247639_20200227',\n",
       " '32827551964_20200130',\n",
       " '32827551964_20200206',\n",
       " '36758198007_20190808',\n",
       " '36758198007_20191212',\n",
       " '36758198007_20200102',\n",
       " '41177363796_20200102',\n",
       " '41177363796_20200107',\n",
       " '41177363796_20200123',\n",
       " '41177363796_20200226',\n",
       " '42312735919_20191219',\n",
       " '42312735919_20200114',\n",
       " '5847948632_20200318',\n",
       " '7049098109_20191031',\n",
       " '8831261892_20191008',\n",
       " '8831261892_20191218',\n",
       " '8831261892_20200218',\n",
       " '8894183149_20200313'}"
      ]
     },
     "execution_count": 27,
     "metadata": {},
     "output_type": "execute_result"
    }
   ],
   "source": [
    "set(df['session_label'])"
   ]
  },
  {
   "cell_type": "code",
   "execution_count": null,
   "metadata": {},
   "outputs": [],
   "source": []
  }
 ],
 "metadata": {
  "kernelspec": {
   "display_name": "Python [conda env:python37]",
   "language": "python",
   "name": "conda-env-python37-py"
  },
  "language_info": {
   "codemirror_mode": {
    "name": "ipython",
    "version": 3
   },
   "file_extension": ".py",
   "mimetype": "text/x-python",
   "name": "python",
   "nbconvert_exporter": "python",
   "pygments_lexer": "ipython3",
   "version": "3.7.5"
  }
 },
 "nbformat": 4,
 "nbformat_minor": 2
}
