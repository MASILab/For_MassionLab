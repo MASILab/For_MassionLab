{
 "cells": [
  {
   "cell_type": "code",
   "execution_count": 1,
   "metadata": {},
   "outputs": [],
   "source": [
    "import os\n",
    "from glob import glob"
   ]
  },
  {
   "cell_type": "code",
   "execution_count": 2,
   "metadata": {},
   "outputs": [],
   "source": [
    "data_root = '/nfs/masi/MCL/file/txt/for_download'\n",
    "txt_list = glob(data_root + '/*.txt')"
   ]
  },
  {
   "cell_type": "code",
   "execution_count": 5,
   "metadata": {},
   "outputs": [
    {
     "name": "stdout",
     "output_type": "stream",
     "text": [
      "3903794883 /nfs/masi/MCL/file/txt/for_download/200109_MCLID.txt\n",
      "4610779134 /nfs/masi/MCL/file/txt/for_download/xnat20200110.txt\n",
      "9250291910 /nfs/masi/MCL/file/txt/for_download/xnat20200110.txt\n",
      "3903794883 /nfs/masi/MCL/file/txt/for_download/xnat20200110.txt\n",
      "3903794883 /nfs/masi/MCL/file/txt/for_download/200109_MCLID_second.txt\n",
      "4610779134 /nfs/masi/MCL/file/txt/for_download/xnat20200110_2.txt\n",
      "3903794883 /nfs/masi/MCL/file/txt/for_download/xnat1223withVA.txt\n",
      "3903794883 /nfs/masi/MCL/file/txt/for_download/existed_before1217.txt\n",
      "4610779134 /nfs/masi/MCL/file/txt/for_download/existed_before1217.txt\n",
      "3903794883 /nfs/masi/MCL/file/txt/for_download/existed_before1217.txt\n",
      "9250291910 /nfs/masi/MCL/file/txt/for_download/existed_before1217.txt\n",
      "4610779134 /nfs/masi/MCL/file/txt/for_download/existed_before1217.txt\n",
      "9250291910 /nfs/masi/MCL/file/txt/for_download/existed_before1217.txt\n",
      "3903794883 /nfs/masi/MCL/file/txt/for_download/total_list.txt\n"
     ]
    }
   ],
   "source": [
    "errlist = ['3903794883', '4610779134', '9250291910']\n",
    "for txt in txt_list: \n",
    "    f = open(txt)\n",
    "    lines = f.readlines()\n",
    "    for line in lines:\n",
    "        for err in errlist:\n",
    "            if err in line:\n",
    "                print (err, txt)"
   ]
  },
  {
   "cell_type": "code",
   "execution_count": null,
   "metadata": {},
   "outputs": [],
   "source": []
  }
 ],
 "metadata": {
  "kernelspec": {
   "display_name": "Python [conda env:python37]",
   "language": "python",
   "name": "conda-env-python37-py"
  },
  "language_info": {
   "codemirror_mode": {
    "name": "ipython",
    "version": 3
   },
   "file_extension": ".py",
   "mimetype": "text/x-python",
   "name": "python",
   "nbconvert_exporter": "python",
   "pygments_lexer": "ipython3",
   "version": "3.7.5"
  }
 },
 "nbformat": 4,
 "nbformat_minor": 2
}
