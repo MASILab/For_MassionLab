{
 "cells": [
  {
   "cell_type": "code",
   "execution_count": 1,
   "metadata": {},
   "outputs": [],
   "source": [
    "import pandas as pd \n",
    "import os"
   ]
  },
  {
   "cell_type": "code",
   "execution_count": 44,
   "metadata": {},
   "outputs": [],
   "source": [
    "# make dirs \n",
    "\n",
    "xnat_root = '/nfs/masi/MCL/xnat'\n",
    "maintain_root = '/nfs/masi/MCL/QA/maintain_list'\n",
    "xnat_list = os.listdir(xnat_root)\n",
    "for xnat_name in xnat_list:\n",
    "    xname = xnat_name.split('_')[0]\n",
    "    if xname[:4] == 'xnat' and len(xname[4:]) == 8 and xname[4:] > '20200120':\n",
    "        if not os.path.exists(maintain_root + '/' + xname[4:]):\n",
    "            os.mkdir(maintain_root + '/' + xname[4:])\n",
    "        print (xname)\n",
    "    \n",
    "    #print (xname)\n",
    "print ()"
   ]
  },
  {
   "cell_type": "code",
   "execution_count": 56,
   "metadata": {},
   "outputs": [
    {
     "name": "stdout",
     "output_type": "stream",
     "text": [
      "this should be None set()\n"
     ]
    }
   ],
   "source": [
    "# generate QA_good from QA_bad\n",
    "data_root = '/nfs/masi/MCL/xnat/xnat20200424'\n",
    "df = pd.read_csv(data_root + '/dicomQA.csv')\n",
    "all_list = df['sess'].tolist()\n",
    "\n",
    "bad_list = open(data_root + '/QA_bad.txt').readlines()\n",
    "bad_list = [i.strip() for i in bad_list]\n",
    "print (\"this should be None\", set(bad_list) - set(all_list)) \n",
    "\n",
    "good_list = set(all_list) - set(bad_list)\n",
    "f = open(data_root + '/QA_good.txt', 'w')\n",
    "for item in good_list:\n",
    "    f.write(item + '\\n')\n",
    "f.close()"
   ]
  },
  {
   "cell_type": "code",
   "execution_count": 29,
   "metadata": {},
   "outputs": [
    {
     "ename": "FileNotFoundError",
     "evalue": "[Errno 2] No such file or directory: '/nfs/masi/MCL/QA/maintain_list/20200207/QA_bad.txt'",
     "output_type": "error",
     "traceback": [
      "\u001b[0;31m---------------------------------------------------------------------------\u001b[0m",
      "\u001b[0;31mFileNotFoundError\u001b[0m                         Traceback (most recent call last)",
      "\u001b[0;32m<ipython-input-29-b624365d5564>\u001b[0m in \u001b[0;36m<module>\u001b[0;34m\u001b[0m\n\u001b[1;32m      6\u001b[0m \u001b[0mpast_good\u001b[0m \u001b[0;34m=\u001b[0m \u001b[0mpd\u001b[0m\u001b[0;34m.\u001b[0m\u001b[0mread_csv\u001b[0m\u001b[0;34m(\u001b[0m\u001b[0mpast_root\u001b[0m \u001b[0;34m+\u001b[0m \u001b[0;34m'/uptonow_good.csv'\u001b[0m\u001b[0;34m)\u001b[0m\u001b[0;34m[\u001b[0m\u001b[0;34m'sess'\u001b[0m\u001b[0;34m]\u001b[0m\u001b[0;34m.\u001b[0m\u001b[0mtolist\u001b[0m\u001b[0;34m(\u001b[0m\u001b[0;34m)\u001b[0m\u001b[0;34m\u001b[0m\u001b[0;34m\u001b[0m\u001b[0m\n\u001b[1;32m      7\u001b[0m \u001b[0;34m\u001b[0m\u001b[0m\n\u001b[0;32m----> 8\u001b[0;31m \u001b[0mcurrent_bad\u001b[0m \u001b[0;34m=\u001b[0m \u001b[0mopen\u001b[0m\u001b[0;34m(\u001b[0m\u001b[0mcurrent_root\u001b[0m \u001b[0;34m+\u001b[0m \u001b[0;34m'/QA_bad.txt'\u001b[0m\u001b[0;34m)\u001b[0m\u001b[0;34m.\u001b[0m\u001b[0mreadlines\u001b[0m\u001b[0;34m(\u001b[0m\u001b[0;34m)\u001b[0m\u001b[0;34m\u001b[0m\u001b[0;34m\u001b[0m\u001b[0m\n\u001b[0m\u001b[1;32m      9\u001b[0m \u001b[0mcurrent_bad\u001b[0m \u001b[0;34m=\u001b[0m \u001b[0;34m[\u001b[0m\u001b[0mi\u001b[0m\u001b[0;34m.\u001b[0m\u001b[0mstrip\u001b[0m\u001b[0;34m(\u001b[0m\u001b[0;34m)\u001b[0m\u001b[0;34m.\u001b[0m\u001b[0msplit\u001b[0m\u001b[0;34m(\u001b[0m\u001b[0;34m' '\u001b[0m\u001b[0;34m)\u001b[0m\u001b[0;34m[\u001b[0m\u001b[0;36m0\u001b[0m\u001b[0;34m]\u001b[0m \u001b[0;32mfor\u001b[0m \u001b[0mi\u001b[0m \u001b[0;32min\u001b[0m \u001b[0mcurrent_bad\u001b[0m\u001b[0;34m]\u001b[0m\u001b[0;34m\u001b[0m\u001b[0;34m\u001b[0m\u001b[0m\n\u001b[1;32m     10\u001b[0m \u001b[0;34m\u001b[0m\u001b[0m\n",
      "\u001b[0;31mFileNotFoundError\u001b[0m: [Errno 2] No such file or directory: '/nfs/masi/MCL/QA/maintain_list/20200207/QA_bad.txt'"
     ]
    }
   ],
   "source": [
    "past_root = '/nfs/masi/MCL/QA/maintain_list/20200201'\n",
    "current_root = '/nfs/masi/MCL/QA/maintain_list/20200207'\n",
    "\n",
    "past_bad = pd.read_csv(past_root + '/uptonow_bad.csv')['sess'].tolist()\n",
    "\n",
    "past_good = pd.read_csv(past_root + '/uptonow_good.csv')['sess'].tolist()\n",
    "\n",
    "current_bad = open(current_root + '/QA_bad.txt').readlines()\n",
    "current_bad = [i.strip().split(' ')[0] for i in current_bad]\n",
    "\n",
    "current_good = open(current_root + '/QA_good.txt').readlines()\n",
    "current_good = [i.strip().split(' ')[0] for i in current_good]\n",
    "\n",
    "total_bad = set(current_bad) | (set(past_bad) - set(current_good))\n",
    "\n",
    "total_good = set(current_good) | (set(past_good) - set(current_bad))\n",
    "\n",
    "data = pd.DataFrame()\n",
    "\n",
    "data['sess'] = list(total_good)\n",
    "\n",
    "data.to_csv(current_root + '/uptonow_good.csv', index = False)\n",
    "\n",
    "data = pd.DataFrame()\n",
    "\n",
    "data['sess'] = list(total_bad)\n",
    "\n",
    "data.to_csv(current_root + '/uptonow_bad.csv', index = False)\n",
    "\n",
    "print (len(past_bad), len(past_good), len(total_bad), len(total_good))\n"
   ]
  },
  {
   "cell_type": "code",
   "execution_count": 21,
   "metadata": {},
   "outputs": [
    {
     "name": "stdout",
     "output_type": "stream",
     "text": [
      "['20200815', 'before20191218', '20200901', 'code', '20200206_xinmeng', '20200130', 'before201906', '20200201', '20200306', '20200106', '20200816', '20200504', '20200902', '20200115', '20200311', '20200127', '20200120', '20200522', '20200131', '20200128', '20200512', 'readme.txt', '20200326', '20200110', '20200117', '20200207', '20200222', '20200121', '20200424', '20200909', '20200505']\n",
      "['20200106', '20200110', '20200115', '20200117', '20200120', '20200121', '20200127', '20200128', '20200130', '20200131', '20200201', '20200206_xinmeng', '20200207', '20200222', '20200306', '20200311', '20200326', '20200424', '20200504', '20200505', '20200512', '20200522', '20200815', '20200816', '20200901', '20200902', '20200909', 'before201906', 'before20191218', 'code', 'readme.txt']\n"
     ]
    }
   ],
   "source": [
    "data_list = os.listdir('/nfs/masi/MCL/QA/maintain_list')\n",
    "print (data_list)\n",
    "print (sorted(data_list))"
   ]
  },
  {
   "cell_type": "code",
   "execution_count": 31,
   "metadata": {},
   "outputs": [
    {
     "name": "stdout",
     "output_type": "stream",
     "text": [
      "{'42310611563_42310611563-20070405', '38434846846-20081111', '3431338456_3431338456-20160108', '19393629988-20100101', '24765547293-20110101', '8974639241-20150617'}\n"
     ]
    }
   ],
   "source": [
    "# temp \n",
    "\n",
    "past_root = '/nfs/masi/MCL/QA/maintain_list/20200201'\n",
    "\n",
    "past_bad = pd.read_csv(past_root + '/uptonow_bad.csv')['sess'].tolist()\n",
    "\n",
    "past_good = pd.read_csv(past_root + '/uptonow_good.csv')['sess'].tolist()\n",
    "\n",
    "print (set(past_bad) & set(past_good))\n",
    "\n"
   ]
  },
  {
   "cell_type": "code",
   "execution_count": 41,
   "metadata": {},
   "outputs": [],
   "source": [
    "data_root = '/nfs/masi/MCL/xnat/MCL'\n",
    "subj_list = os.listdir(data_root)\n",
    "total_sess = []\n",
    "for subj in subj_list:\n",
    "    total_sess += os.listdir(data_root + '/' + subj)\n",
    "bad19 = pd.read_csv('/nfs/masi/MCL/QA/maintain_list/before20191218/bad_before20191218.csv')['sess'].tolist()\n"
   ]
  },
  {
   "cell_type": "code",
   "execution_count": 43,
   "metadata": {},
   "outputs": [
    {
     "name": "stdout",
     "output_type": "stream",
     "text": [
      "225\n"
     ]
    }
   ],
   "source": [
    "print (len( (set(total_sess) - set(bad19)) & set(past_bad)))"
   ]
  },
  {
   "cell_type": "code",
   "execution_count": null,
   "metadata": {},
   "outputs": [],
   "source": []
  }
 ],
 "metadata": {
  "kernelspec": {
   "display_name": "Python [conda env:python37]",
   "language": "python",
   "name": "conda-env-python37-py"
  },
  "language_info": {
   "codemirror_mode": {
    "name": "ipython",
    "version": 3
   },
   "file_extension": ".py",
   "mimetype": "text/x-python",
   "name": "python",
   "nbconvert_exporter": "python",
   "pygments_lexer": "ipython3",
   "version": "3.7.5"
  }
 },
 "nbformat": 4,
 "nbformat_minor": 2
}
