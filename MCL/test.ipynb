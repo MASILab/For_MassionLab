{
 "cells": [
  {
   "cell_type": "code",
   "execution_count": 12,
   "metadata": {},
   "outputs": [],
   "source": [
    "import pandas as pd\n",
    "from sklearn import metrics"
   ]
  },
  {
   "cell_type": "code",
   "execution_count": 35,
   "metadata": {},
   "outputs": [],
   "source": [
    "df = pd.read_csv('/nfs/masi/gaor2/data/MCL/NLSTTrained_feat/phase1/mcl20200813.csv')\n",
    "\n",
    "id_cancer = {}\n",
    "for i, item in df.iterrows():\n",
    "    id_cancer[item['id']] = item['cancer']\n",
    "\n",
    "df = pd.read_csv('/nfs/masi/gaor2/data/Cotrain/clinical_spore/mcl/20200720_nopassword_norm.csv')\n",
    "\n",
    "nlsttrain_test0_kaggle = []\n",
    "\n",
    "for i, item in df.iterrows():\n",
    "    if item['usedsess'] not in id_cancer.keys():\n",
    "        nlsttrain_test0_kaggle.append('')\n",
    "    else:\n",
    "        nlsttrain_test0_kaggle.append(id_cancer[item['usedsess']]) \n",
    "df['nlsttrain_phase1_kaggle_usedsess'] = nlsttrain_test0_kaggle\n",
    "df.to_csv('/nfs/masi/gaor2/data/Cotrain/clinical_spore/mcl/20200720_nopassword_norm.csv', index = False)"
   ]
  },
  {
   "cell_type": "code",
   "execution_count": 50,
   "metadata": {},
   "outputs": [
    {
     "name": "stdout",
     "output_type": "stream",
     "text": [
      "155 78.0\n",
      "0.8669663669663669\n"
     ]
    }
   ],
   "source": [
    "df = pd.read_csv('/nfs/masi/gaor2/data/Cotrain/clinical_spore/mcl/20200720_nopassword_norm.csv')\n",
    "\n",
    "df = df.loc[df['Sub.Cohort'] == 'upmc']\n",
    "\n",
    "df = df.query('nlsttrain_phase1_kaggle_usedsess == nlsttrain_phase1_kaggle_usedsess')\n",
    "df = df.query('gt_reg == gt_reg')\n",
    "#df = df.loc[df['1.Incidental.0.Screening.'] == 1]\n",
    "#df = df.loc[df['phase'] == 4]\n",
    "tar = df['gt_reg'].tolist() \n",
    "pred = df['nlsttrain_phase4_kaggle_usedsess'].tolist() \n",
    "pred = df['Mayo_risk'].tolist() \n",
    "print (len(tar), sum(tar))\n",
    "\n",
    "fpr, tpr, threshold = metrics.roc_curve(tar, pred)\n",
    "roc_auc = metrics.auc(fpr, tpr)\n",
    "print (roc_auc)"
   ]
  },
  {
   "cell_type": "code",
   "execution_count": null,
   "metadata": {},
   "outputs": [],
   "source": []
  },
  {
   "cell_type": "code",
   "execution_count": null,
   "metadata": {},
   "outputs": [],
   "source": []
  }
 ],
 "metadata": {
  "kernelspec": {
   "display_name": "Python [conda env:python37]",
   "language": "python",
   "name": "conda-env-python37-py"
  },
  "language_info": {
   "codemirror_mode": {
    "name": "ipython",
    "version": 3
   },
   "file_extension": ".py",
   "mimetype": "text/x-python",
   "name": "python",
   "nbconvert_exporter": "python",
   "pygments_lexer": "ipython3",
   "version": "3.7.5"
  }
 },
 "nbformat": 4,
 "nbformat_minor": 2
}
