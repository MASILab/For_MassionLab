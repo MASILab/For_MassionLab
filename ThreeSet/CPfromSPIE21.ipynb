{
 "cells": [
  {
   "cell_type": "code",
   "execution_count": null,
   "metadata": {},
   "outputs": [],
   "source": [
    "\n",
    "\n"
   ]
  },
  {
   "cell_type": "code",
   "execution_count": null,
   "metadata": {},
   "outputs": [],
   "source": [
    "df_mcl = pd.read_csv('/nfs/masi/gaor2/data/MCL/clinical_mcl/MCL20200605_withconfid.csv')\n",
    "df_spore = pd.read_csv('/nfs/masi/gaor2/data/SPORE/Clinical_forspore/spore_withconfid.csv')\n",
    "df_nlst = pd.read_csv('/nfs/masi/gaor2/data/NLST/Clinical_forspore/KaggleTrained/withlabel_withconfid.csv')\n",
    "\n",
    "\n",
    "cancer = df_mcl['cancer'].tolist() + df_spore['cancer'].tolist() + df_nlst['cancer'].tolist()\n",
    "ID  =df_mcl['id'].tolist() + df_spore['id'].tolist() + df_nlst['id'].tolist()\n",
    "max_confid_score = df_mcl['max_confid_score'].tolist() + df_spore['max_confid_score'].tolist() + df_nlst['max_confid_score'].tolist()\n",
    "source = ['mcl'] * len(df_mcl) + ['spore'] * len(df_spore) + ['nlst'] * len(df_nlst)\n",
    " \n",
    "data = pd.DataFrame()\n",
    "\n",
    "data['cancer'] = cancer\n",
    "data['ID'] = ID\n",
    "data['max_confid_score'] = max_confid_score\n",
    "data['source'] = source\n",
    "\n",
    "data.to_csv('/nfs/masi/gaor2/data/Cotrain/clinical_spore/threeset20200612.csv', index = False)\n"
   ]
  },
  {
   "cell_type": "code",
   "execution_count": null,
   "metadata": {},
   "outputs": [],
   "source": [
    "# combine the three set for multipath training\n",
    "\n",
    "df = pd.read_csv('/nfs/masi/gaor2/data/Cotrain/clinical_spore/mcl/ThreeSet_norm.csv')\n",
    "df1 = pd.read_csv('/nfs/masi/gaor2/data/Cotrain/clinical_spore/threeset20200612.csv')\n",
    "data = pd.DataFrame()\n",
    "for i, item in df.iterrows():\n",
    "    for factor in df.keys():\n",
    "        if factor not in ['withimg0601', 'complete_factor', 'kaggle', 'sess', 'source', 'max_confid_score']:\n",
    "            data[factor] =  df[factor].tolist() + [''] * len(df1)\n",
    "        else:\n",
    "            data['withimg0601'] = df['withimg0601'].tolist() + [1] * len(df1)\n",
    "            data['complete_factor'] = df['complete_factor'].tolist() + [0] * len(df1)\n",
    "            data['kaggle'] = df['kaggle'].tolist() +  df1['cancer'].tolist()\n",
    "            data['sess'] = df['sess'].tolist() + df1['ID'].tolist()\n",
    "            data['source'] = df['source'].tolist() + df1['source'].tolist()\n",
    "            data['max_confid_score'] = [''] * len(df) + df1['max_confid_score'].tolist()\n",
    "data.to_csv('/nfs/masi/gaor2/data/Cotrain/clinical_spore/mcl/ThreeSet_norm0612.csv', index = False)             "
   ]
  },
  {
   "cell_type": "code",
   "execution_count": null,
   "metadata": {},
   "outputs": [],
   "source": [
    "# remove the duplicate sess \n",
    "df = pd.read_csv('/nfs/masi/gaor2/data/Cotrain/clinical_spore/mcl/ThreeSet_norm0612.csv')\n",
    "exist = []\n",
    "exist_sess = []\n",
    "for i, item in df.iterrows(): \n",
    "    if item['sess'] != item['sess']:\n",
    "        exist.append(0)\n",
    "        continue\n",
    "    if item['sess'] not in exist_sess:\n",
    "        exist_sess.append(item['sess'])\n",
    "        exist.append(0)\n",
    "    else:\n",
    "        exist.append(1)\n",
    "df['exist_before'] = exist\n",
    "df.to_csv('/nfs/masi/gaor2/data/Cotrain/clinical_spore/mcl/ThreeSet_norm0612.csv', index = False)  "
   ]
  },
  {
   "cell_type": "code",
   "execution_count": null,
   "metadata": {},
   "outputs": [],
   "source": [
    "pbb_root= '/nfs/masi/NLST/DSB_File/diag/bbox'\n",
    "df = pd.read_csv('/nfs/masi/gaor2/data/NLST/Clinical_forspore/KaggleTrained/withlabel.csv')\n",
    "max_confid_score = []\n",
    "for i, item in df.iterrows():\n",
    "    #print (i, item['id'])\n",
    "    pbb = np.load(pbb_root + '/' + item['id'] + '_pbb.npy')\n",
    "    if pbb.shape[0] < 1:\n",
    "        max_confid_score.append(-2)\n",
    "        continue\n",
    "    output = pbb[np.argsort(-pbb[:, 0])]\n",
    "    max_confid_score.append(output[0][0])\n",
    "df['max_confid_score'] = max_confid_score\n",
    "df.to_csv('/nfs/masi/gaor2/data/NLST/Clinical_forspore/KaggleTrained/withlabel_withconfid.csv')\n",
    "\n"
   ]
  }
 ],
 "metadata": {
  "kernelspec": {
   "display_name": "Python [conda env:python37]",
   "language": "python",
   "name": "conda-env-python37-py"
  },
  "language_info": {
   "codemirror_mode": {
    "name": "ipython",
    "version": 3
   },
   "file_extension": ".py",
   "mimetype": "text/x-python",
   "name": "python",
   "nbconvert_exporter": "python",
   "pygments_lexer": "ipython3",
   "version": "3.7.5"
  }
 },
 "nbformat": 4,
 "nbformat_minor": 2
}
